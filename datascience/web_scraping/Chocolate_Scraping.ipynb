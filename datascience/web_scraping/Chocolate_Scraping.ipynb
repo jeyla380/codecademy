{
 "cells": [
  {
   "cell_type": "markdown",
   "id": "167e6b6c",
   "metadata": {},
   "source": [
    "#### DATA ACQUISITION\n",
    "\n",
    "<br>\n",
    "\n",
    "## Chocolate Scraping with Beautiful Soup\n",
    "\n",
    "The data is displayed in a table on Codecademy's [Cocao Ratings Website](https://content.codecademy.com/courses/beautifulsoup/cacao/index.html), not a `csv` or `json`.\n",
    "\n",
    "### Tasks\n",
    "\n",
    "<hr>\n",
    "\n",
    "- Where are the best cocao beans grown?\n",
    "- Which countries produce the highest-rated bars?\n",
    "- What's the relationship between cocao solids percentage and rating?\n",
    "- Bonus: Which countries produce the highest-rated bars?\n",
    "\n",
    "<hr>"
   ]
  },
  {
   "cell_type": "markdown",
   "id": "94c4f3ca",
   "metadata": {},
   "source": [
    "### Make Some Chocolate Soup"
   ]
  },
  {
   "cell_type": "code",
   "execution_count": 2,
   "id": "f960881e",
   "metadata": {},
   "outputs": [],
   "source": [
    "#this is an import from codecademy so it will cause an error\n",
    "#import codecademylib3_seaborn\n",
    "from bs4 import BeautifulSoup\n",
    "import requests\n",
    "import pandas as pd\n",
    "import matplotlib.pyplot as plt\n",
    "import numpy as np\n",
    "\n",
    "webpage = requests.get('https://content.codecademy.com/courses/beautifulsoup/cacao/index.html')\n",
    "soup = BeautifulSoup(webpage.content, 'html.parser')\n",
    "#print(soup)"
   ]
  },
  {
   "cell_type": "markdown",
   "id": "bb7d1766",
   "metadata": {},
   "source": [
    "### How are ratings distributed?"
   ]
  },
  {
   "cell_type": "code",
   "execution_count": 3,
   "id": "ff5c89ec",
   "metadata": {},
   "outputs": [
    {
     "data": {
      "image/png": "[encoded data removed]",
      "text/plain": [
       "<Figure size 432x288 with 1 Axes>"
      ]
     },
     "metadata": {
      "needs_background": "light"
     },
     "output_type": "display_data"
    }
   ],
   "source": [
    "ratings = []\n",
    "rating_numbers = soup.find_all(attrs = {'class': 'Rating'})\n",
    "#print(rating_numbers)\n",
    "for number in rating_numbers:\n",
    "  new_number = number.get_text()\n",
    "  if new_number != \"Rating\":\n",
    "    #print(new_number)\n",
    "    ratings.append(float(new_number))\n",
    "#print(ratings)\n",
    "\n",
    "plt.hist(ratings)\n",
    "plt.show()"
   ]
  },
  {
   "cell_type": "markdown",
   "id": "f9f93506",
   "metadata": {},
   "source": [
    "### Which chocolatier makes the best chocolate?"
   ]
  },
  {
   "cell_type": "code",
   "execution_count": 4,
   "id": "0b111472",
   "metadata": {},
   "outputs": [
    {
     "name": "stdout",
     "output_type": "stream",
     "text": [
      "Company\n",
      "Tobago Estate (Pralus)                  4.000000\n",
      "Heirloom Cacao Preservation (Zokoko)    3.875000\n",
      "Ocelot                                  3.875000\n",
      "Amedei                                  3.846154\n",
      "Matale                                  3.812500\n",
      "Patric                                  3.791667\n",
      "Idilio (Felchlin)                       3.775000\n",
      "Acalli                                  3.750000\n",
      "Chocola'te                              3.750000\n",
      "Christopher Morel (Felchlin)            3.750000\n",
      "Name: Rating, dtype: float64\n"
     ]
    }
   ],
   "source": [
    "company_names = []\n",
    "companies = soup.select(\".Company\")\n",
    "#print(companies)\n",
    "for c in companies[1:]:\n",
    "  company_names.append(c.get_text())\n",
    "#print(company_names)\n",
    "\n",
    "new_dict = {'Company': company_names, 'Rating': ratings}\n",
    "#print(new_dict)\n",
    "df = pd.DataFrame.from_dict(new_dict)\n",
    "mean_ratings = df.groupby(\"Company\").Rating.mean()\n",
    "ten_best = mean_ratings.nlargest(10)\n",
    "print(ten_best)"
   ]
  },
  {
   "cell_type": "markdown",
   "id": "256e7c8a",
   "metadata": {},
   "source": [
    "### Is more cacao better?"
   ]
  },
  {
   "cell_type": "code",
   "execution_count": 5,
   "id": "2dd7c1ee",
   "metadata": {},
   "outputs": [
    {
     "data": {
      "image/png": "[encoded data removed]",
      "text/plain": [
       "<Figure size 432x288 with 1 Axes>"
      ]
     },
     "metadata": {
      "needs_background": "light"
     },
     "output_type": "display_data"
    }
   ],
   "source": [
    "cocoa_percent = []\n",
    "cocoa_numbers = soup.select(\".CocoaPercent\")\n",
    "#print(cocoa_numbers)\n",
    "for cocoa in cocoa_numbers[1:]:\n",
    "  new_cocoa = cocoa.get_text()\n",
    "  new_cocoa = new_cocoa.replace(\"%\", \" \")\n",
    "  #print(new_cocoa)\n",
    "  cocoa_percent.append(int(float(new_cocoa)))\n",
    "#print(cocoa_percent)\n",
    "\n",
    "new_dict[\"CocoaPercentage\"] = cocoa_percent\n",
    "df = pd.DataFrame.from_dict(new_dict)\n",
    "#print(df)\n",
    "\n",
    "plt.clf()\n",
    "plt.scatter(df.CocoaPercentage, df.Rating)\n",
    "\n",
    "z = np.polyfit(df.CocoaPercentage, df.Rating, 1)\n",
    "line_function = np.poly1d(z)\n",
    "plt.plot(df.CocoaPercentage, line_function(df.CocoaPercentage), \"r--\")\n",
    "plt.show()"
   ]
  },
  {
   "cell_type": "markdown",
   "id": "ccca7c99",
   "metadata": {},
   "source": [
    "### Bonus: Which countries have the highest-rated bars?"
   ]
  },
  {
   "cell_type": "code",
   "execution_count": 6,
   "id": "7a31dd0a",
   "metadata": {},
   "outputs": [
    {
     "name": "stdout",
     "output_type": "stream",
     "text": [
      "CompanyLocation\n",
      "Italy                5.00\n",
      "U.S.A.               4.00\n",
      "Spain                4.00\n",
      "Germany              4.00\n",
      "Scotland             4.00\n",
      "Sao Tome             4.00\n",
      "Switzerland          4.00\n",
      "U.K.                 4.00\n",
      "Ecuador              4.00\n",
      "France               4.00\n",
      "Colombia             4.00\n",
      "Canada               4.00\n",
      "Brazil               4.00\n",
      "Madagascar           4.00\n",
      "Belgium              4.00\n",
      "Australia            4.00\n",
      "Guatemala            4.00\n",
      "Argentina            3.75\n",
      "Hungary              3.75\n",
      "Israel               3.75\n",
      "Lithuania            3.75\n",
      "Poland               3.75\n",
      "Iceland              3.75\n",
      "Amsterdam            3.75\n",
      "Singapore            3.75\n",
      "New Zealand          3.75\n",
      "Denmark              3.75\n",
      "Venezuela            3.75\n",
      "Vietnam              3.75\n",
      "Chile                3.75\n",
      "Bolivia              3.75\n",
      "Austria              3.75\n",
      "South Korea          3.50\n",
      "Sweden               3.50\n",
      "Philippines          3.50\n",
      "Peru                 3.50\n",
      "Japan                3.50\n",
      "Finland              3.50\n",
      "Honduras             3.50\n",
      "Netherlands          3.50\n",
      "Costa Rica           3.50\n",
      "Fiji                 3.50\n",
      "Domincan Republic    3.50\n",
      "Suriname             3.25\n",
      "St. Lucia            3.25\n",
      "Grenada              3.25\n",
      "Nicaragua            3.25\n",
      "Ireland              3.25\n",
      "Russia               3.25\n",
      "Eucador              3.00\n",
      "Portugal             3.00\n",
      "Mexico               3.00\n",
      "South Africa         3.00\n",
      "Czech Republic       2.75\n",
      "Niacragua            2.75\n",
      "Ghana                2.75\n",
      "Puerto Rico          2.75\n",
      "Martinique           2.75\n",
      "Wales                2.75\n",
      "India                2.50\n",
      "Name: Rating, dtype: float64\n"
     ]
    }
   ],
   "source": [
    "company_location = []\n",
    "countries = soup.select('.CompanyLocation')\n",
    "#print(countries)\n",
    "for country in countries[1:]:\n",
    "  #print(country)\n",
    "  company_location.append(country.get_text())\n",
    "#print(company_location)\n",
    "\n",
    "new_dict[\"CompanyLocation\"] = company_location\n",
    "df = pd.DataFrame.from_dict(new_dict)\n",
    "#print(df)\n",
    "#df.sort_values(\"CompanyLocation\", inplace = True)\n",
    "#df[\"Rating\"] = df[\"CompanyLocation\"].rank(method = 'max')\n",
    "#print(df)\n",
    "group_company = df.groupby(\"CompanyLocation\").Rating.max()\n",
    "print(group_company.sort_values(ascending = False))"
   ]
  },
  {
   "cell_type": "code",
   "execution_count": null,
   "id": "c6748cc1",
   "metadata": {},
   "outputs": [],
   "source": []
  }
 ],
 "metadata": {
  "kernelspec": {
   "display_name": "Python 3",
   "language": "python",
   "name": "python3"
  },
  "language_info": {
   "codemirror_mode": {
    "name": "ipython",
    "version": 3
   },
   "file_extension": ".py",
   "mimetype": "text/x-python",
   "name": "python",
   "nbconvert_exporter": "python",
   "pygments_lexer": "ipython3",
   "version": "3.8.8"
  }
 },
 "nbformat": 4,
 "nbformat_minor": 5
}
