{
 "cells": [
  {
   "cell_type": "markdown",
   "id": "e80e29a7",
   "metadata": {},
   "source": [
    "#### SUMMARY STATISTICS\n",
    "\n",
    "<br>\n",
    "\n",
    "## Summarizing Automobile Evaluation Data\n",
    "<hr>"
   ]
  },
  {
   "cell_type": "code",
   "execution_count": 2,
   "id": "30824f45",
   "metadata": {},
   "outputs": [
    {
     "data": {
      "text/html": [
       "<div>\n",
       "<style scoped>\n",
       "    .dataframe tbody tr th:only-of-type {\n",
       "        vertical-align: middle;\n",
       "    }\n",
       "\n",
       "    .dataframe tbody tr th {\n",
       "        vertical-align: top;\n",
       "    }\n",
       "\n",
       "    .dataframe thead th {\n",
       "        text-align: right;\n",
       "    }\n",
       "</style>\n",
       "<table border=\"1\" class=\"dataframe\">\n",
       "  <thead>\n",
       "    <tr style=\"text-align: right;\">\n",
       "      <th></th>\n",
       "      <th>buying_cost</th>\n",
       "      <th>maintenance_cost</th>\n",
       "      <th>doors</th>\n",
       "      <th>capacity</th>\n",
       "      <th>luggage</th>\n",
       "      <th>safety</th>\n",
       "      <th>acceptability</th>\n",
       "      <th>manufacturer_country</th>\n",
       "    </tr>\n",
       "  </thead>\n",
       "  <tbody>\n",
       "    <tr>\n",
       "      <th>0</th>\n",
       "      <td>vhigh</td>\n",
       "      <td>low</td>\n",
       "      <td>4</td>\n",
       "      <td>4</td>\n",
       "      <td>small</td>\n",
       "      <td>med</td>\n",
       "      <td>unacc</td>\n",
       "      <td>China</td>\n",
       "    </tr>\n",
       "    <tr>\n",
       "      <th>1</th>\n",
       "      <td>vhigh</td>\n",
       "      <td>med</td>\n",
       "      <td>3</td>\n",
       "      <td>4</td>\n",
       "      <td>small</td>\n",
       "      <td>high</td>\n",
       "      <td>acc</td>\n",
       "      <td>France</td>\n",
       "    </tr>\n",
       "    <tr>\n",
       "      <th>2</th>\n",
       "      <td>med</td>\n",
       "      <td>high</td>\n",
       "      <td>3</td>\n",
       "      <td>2</td>\n",
       "      <td>med</td>\n",
       "      <td>high</td>\n",
       "      <td>unacc</td>\n",
       "      <td>United States</td>\n",
       "    </tr>\n",
       "    <tr>\n",
       "      <th>3</th>\n",
       "      <td>low</td>\n",
       "      <td>med</td>\n",
       "      <td>4</td>\n",
       "      <td>more</td>\n",
       "      <td>big</td>\n",
       "      <td>low</td>\n",
       "      <td>unacc</td>\n",
       "      <td>United States</td>\n",
       "    </tr>\n",
       "    <tr>\n",
       "      <th>4</th>\n",
       "      <td>low</td>\n",
       "      <td>high</td>\n",
       "      <td>2</td>\n",
       "      <td>more</td>\n",
       "      <td>med</td>\n",
       "      <td>high</td>\n",
       "      <td>acc</td>\n",
       "      <td>South Korea</td>\n",
       "    </tr>\n",
       "  </tbody>\n",
       "</table>\n",
       "</div>"
      ],
      "text/plain": [
       "  buying_cost maintenance_cost doors capacity luggage safety acceptability  \\\n",
       "0       vhigh              low     4        4   small    med         unacc   \n",
       "1       vhigh              med     3        4   small   high           acc   \n",
       "2         med             high     3        2     med   high         unacc   \n",
       "3         low              med     4     more     big    low         unacc   \n",
       "4         low             high     2     more     med   high           acc   \n",
       "\n",
       "  manufacturer_country  \n",
       "0                China  \n",
       "1               France  \n",
       "2        United States  \n",
       "3        United States  \n",
       "4          South Korea  "
      ]
     },
     "execution_count": 2,
     "metadata": {},
     "output_type": "execute_result"
    }
   ],
   "source": [
    "import pandas as pd\n",
    "import numpy as np\n",
    "\n",
    "car_eval = pd.read_csv('car_eval_dataset.csv')\n",
    "car_eval.head()"
   ]
  },
  {
   "cell_type": "markdown",
   "id": "ccd13cad",
   "metadata": {},
   "source": [
    "### Summarizing Manufacturing Country"
   ]
  },
  {
   "cell_type": "code",
   "execution_count": 3,
   "id": "282a181f",
   "metadata": {},
   "outputs": [
    {
     "name": "stdout",
     "output_type": "stream",
     "text": [
      "Japan            228\n",
      "Germany          218\n",
      "South Korea      159\n",
      "United States    138\n",
      "Italy             97\n",
      "France            87\n",
      "China             73\n",
      "Name: manufacturer_country, dtype: int64\n"
     ]
    }
   ],
   "source": [
    "manufacturer_country_frequency = car_eval['manufacturer_country'].value_counts()\n",
    "print(manufacturer_country_frequency)"
   ]
  },
  {
   "cell_type": "code",
   "execution_count": 7,
   "id": "c0161233",
   "metadata": {},
   "outputs": [
    {
     "name": "stdout",
     "output_type": "stream",
     "text": [
      "The fourth popular manufacturer country is: United States\n"
     ]
    }
   ],
   "source": [
    "fourth_popular_manufacturer_country = manufacturer_country_frequency.index[4-1]\n",
    "print(\"The fourth popular manufacturer country is: \" + str(fourth_popular_manufacturer_country))"
   ]
  },
  {
   "cell_type": "code",
   "execution_count": 5,
   "id": "e550e0fb",
   "metadata": {},
   "outputs": [
    {
     "name": "stdout",
     "output_type": "stream",
     "text": [
      "Japan            0.228\n",
      "Germany          0.218\n",
      "South Korea      0.159\n",
      "United States    0.138\n",
      "Italy            0.097\n",
      "France           0.087\n",
      "China            0.073\n",
      "Name: manufacturer_country, dtype: float64\n"
     ]
    }
   ],
   "source": [
    "manufacturer_country_proportion = car_eval['manufacturer_country'].value_counts(normalize = True)\n",
    "print(manufacturer_country_proportion)"
   ]
  },
  {
   "cell_type": "code",
   "execution_count": 8,
   "id": "24c48f2e",
   "metadata": {},
   "outputs": [
    {
     "name": "stdout",
     "output_type": "stream",
     "text": [
      "The proportion of Japan is: 0.228\n"
     ]
    }
   ],
   "source": [
    "japan_proportion = (car_eval['manufacturer_country'] == 'Japan').mean()\n",
    "print(\"The proportion of Japan is: \" + str(japan_proportion))"
   ]
  },
  {
   "cell_type": "markdown",
   "id": "8ddc09c7",
   "metadata": {},
   "source": [
    "### Summarizing Buying Costs"
   ]
  },
  {
   "cell_type": "code",
   "execution_count": 9,
   "id": "a3ebd935",
   "metadata": {},
   "outputs": [
    {
     "name": "stdout",
     "output_type": "stream",
     "text": [
      "['vhigh' 'med' 'low' 'high']\n"
     ]
    }
   ],
   "source": [
    "buying_cost = car_eval['buying_cost'].unique()\n",
    "print(buying_cost)"
   ]
  },
  {
   "cell_type": "code",
   "execution_count": 10,
   "id": "93aff120",
   "metadata": {},
   "outputs": [
    {
     "name": "stdout",
     "output_type": "stream",
     "text": [
      "0      vhigh\n",
      "1      vhigh\n",
      "2        med\n",
      "3        low\n",
      "4        low\n",
      "       ...  \n",
      "995      low\n",
      "996      low\n",
      "997    vhigh\n",
      "998      low\n",
      "999      low\n",
      "Name: buying_cost, Length: 1000, dtype: category\n",
      "Categories (4, object): ['low' < 'med' < 'high' < 'vhigh']\n"
     ]
    }
   ],
   "source": [
    "buying_cost_categories = ['low', 'med', 'high', 'vhigh']\n",
    "\n",
    "car_eval['buying_cost'] = pd.Categorical(car_eval['buying_cost'], buying_cost_categories, ordered = True)\n",
    "print(car_eval['buying_cost'])"
   ]
  },
  {
   "cell_type": "code",
   "execution_count": 13,
   "id": "2ce90caa",
   "metadata": {},
   "outputs": [
    {
     "name": "stdout",
     "output_type": "stream",
     "text": [
      "1.0\n",
      "med\n"
     ]
    }
   ],
   "source": [
    "buying_cost_median_num = np.median(car_eval['buying_cost'].cat.codes)\n",
    "print(buying_cost_median_num)\n",
    "\n",
    "buying_cost_median = buying_cost_categories[int(buying_cost_median_num)]\n",
    "print(buying_cost_median)"
   ]
  },
  {
   "cell_type": "markdown",
   "id": "bcc8caef",
   "metadata": {},
   "source": [
    "### Summarizing Luggage Capacity"
   ]
  },
  {
   "cell_type": "code",
   "execution_count": 14,
   "id": "10201c88",
   "metadata": {},
   "outputs": [
    {
     "name": "stdout",
     "output_type": "stream",
     "text": [
      "small    0.339\n",
      "med      0.333\n",
      "big      0.328\n",
      "Name: luggage, dtype: float64\n"
     ]
    }
   ],
   "source": [
    "luggage_prop_1 = car_eval['luggage'].value_counts(normalize = True)\n",
    "print(luggage_prop_1)"
   ]
  },
  {
   "cell_type": "code",
   "execution_count": 15,
   "id": "49a82389",
   "metadata": {},
   "outputs": [
    {
     "name": "stdout",
     "output_type": "stream",
     "text": [
      "small    0.339\n",
      "med      0.333\n",
      "big      0.328\n",
      "Name: luggage, dtype: float64\n"
     ]
    }
   ],
   "source": [
    "luggage_missing_na = car_eval['luggage'].value_counts(normalize = True, dropna = False)\n",
    "print(luggage_missing_na)"
   ]
  },
  {
   "cell_type": "code",
   "execution_count": 16,
   "id": "e39c8056",
   "metadata": {},
   "outputs": [
    {
     "name": "stdout",
     "output_type": "stream",
     "text": [
      "small    0.339\n",
      "med      0.333\n",
      "big      0.328\n",
      "Name: luggage, dtype: float64\n"
     ]
    }
   ],
   "source": [
    "luggage_prop_2 = car_eval['luggage'].value_counts() / len(car_eval['luggage'])\n",
    "print(luggage_prop_2)"
   ]
  },
  {
   "cell_type": "markdown",
   "id": "f15613f8",
   "metadata": {},
   "source": [
    "### Summarizing Passenger Capacity"
   ]
  },
  {
   "cell_type": "code",
   "execution_count": 17,
   "id": "70b42114",
   "metadata": {},
   "outputs": [
    {
     "name": "stdout",
     "output_type": "stream",
     "text": [
      "['4' '3' '2' '5more']\n"
     ]
    }
   ],
   "source": [
    "doors = car_eval['doors'].unique()\n",
    "print(doors)"
   ]
  },
  {
   "cell_type": "code",
   "execution_count": 19,
   "id": "5bf1742e",
   "metadata": {},
   "outputs": [
    {
     "name": "stdout",
     "output_type": "stream",
     "text": [
      "Frequency: 246\n",
      "Proportion: 0.246\n"
     ]
    }
   ],
   "source": [
    "doors_5more_freq = (car_eval['doors'] == '5more').sum()\n",
    "print(\"Frequency: \" + str(doors_5more_freq))\n",
    "\n",
    "doors_5more_prop = (car_eval['doors'] == '5more').mean()\n",
    "print(\"Proportion: \" + str(doors_5more_prop))"
   ]
  },
  {
   "cell_type": "code",
   "execution_count": null,
   "id": "02ccf976",
   "metadata": {},
   "outputs": [],
   "source": []
  }
 ],
 "metadata": {
  "kernelspec": {
   "display_name": "Python 3",
   "language": "python",
   "name": "python3"
  },
  "language_info": {
   "codemirror_mode": {
    "name": "ipython",
    "version": 3
   },
   "file_extension": ".py",
   "mimetype": "text/x-python",
   "name": "python",
   "nbconvert_exporter": "python",
   "pygments_lexer": "ipython3",
   "version": "3.8.8"
  }
 },
 "nbformat": 4,
 "nbformat_minor": 5
}
