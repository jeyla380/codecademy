{
 "cells": [
  {
   "cell_type": "markdown",
   "id": "6faf3fc8",
   "metadata": {},
   "source": [
    "#### SUMMARY STATISTICS\n",
    "\n",
    "<br>\n",
    "\n",
    "## Central Tendency for Housing Data\n",
    "<hr>"
   ]
  },
  {
   "cell_type": "code",
   "execution_count": 25,
   "id": "fef0ddd1",
   "metadata": {},
   "outputs": [],
   "source": [
    "import matplotlib.pyplot as plt\n",
    "import numpy as np\n",
    "import pandas as pd\n",
    "from scipy import stats"
   ]
  },
  {
   "cell_type": "markdown",
   "id": "ca83b1b6",
   "metadata": {},
   "source": [
    "### Observing Your Data"
   ]
  },
  {
   "cell_type": "code",
   "execution_count": 3,
   "id": "c75b1ecf",
   "metadata": {},
   "outputs": [
    {
     "data": {
      "text/plain": [
       "0    3600\n",
       "1    3900\n",
       "2    2700\n",
       "3    4900\n",
       "4    3900\n",
       "Name: rent, dtype: int64"
      ]
     },
     "execution_count": 3,
     "metadata": {},
     "output_type": "execute_result"
    }
   ],
   "source": [
    "brooklyn_one_bed = pd.read_csv('brooklyn-one-bed.csv')\n",
    "brooklyn_price = brooklyn_one_bed['rent']\n",
    "brooklyn_price.head()"
   ]
  },
  {
   "cell_type": "code",
   "execution_count": 4,
   "id": "c80c7154",
   "metadata": {},
   "outputs": [
    {
     "data": {
      "text/plain": [
       "0    4500\n",
       "1    4795\n",
       "2    4650\n",
       "3    2950\n",
       "4    4875\n",
       "Name: rent, dtype: int64"
      ]
     },
     "execution_count": 4,
     "metadata": {},
     "output_type": "execute_result"
    }
   ],
   "source": [
    "manhattan_one_bed = pd.read_csv('manhattan-one-bed.csv')\n",
    "manhattan_price = manhattan_one_bed['rent']\n",
    "manhattan_price.head()"
   ]
  },
  {
   "cell_type": "code",
   "execution_count": 5,
   "id": "406d99cb",
   "metadata": {},
   "outputs": [
    {
     "data": {
      "text/plain": [
       "0    1950\n",
       "1    3500\n",
       "2    1725\n",
       "3    1700\n",
       "4    3100\n",
       "Name: rent, dtype: int64"
      ]
     },
     "execution_count": 5,
     "metadata": {},
     "output_type": "execute_result"
    }
   ],
   "source": [
    "queens_one_bed = pd.read_csv('queens-one-bed.csv')\n",
    "queens_price = queens_one_bed['rent']\n",
    "queens_price.head()"
   ]
  },
  {
   "cell_type": "markdown",
   "id": "f900f2ae",
   "metadata": {},
   "source": [
    "### Find the Mean"
   ]
  },
  {
   "cell_type": "code",
   "execution_count": 6,
   "id": "7584d78f",
   "metadata": {},
   "outputs": [
    {
     "name": "stdout",
     "output_type": "stream",
     "text": [
      "3327.4037512339587\n"
     ]
    }
   ],
   "source": [
    "brooklyn_mean = np.average(brooklyn_price)\n",
    "print(brooklyn_mean)"
   ]
  },
  {
   "cell_type": "code",
   "execution_count": 7,
   "id": "1e7880bc",
   "metadata": {},
   "outputs": [
    {
     "name": "stdout",
     "output_type": "stream",
     "text": [
      "3993.4769647696476\n"
     ]
    }
   ],
   "source": [
    "manhattan_mean = np.average(manhattan_price)\n",
    "print(manhattan_mean)"
   ]
  },
  {
   "cell_type": "code",
   "execution_count": 8,
   "id": "e1d3fcc5",
   "metadata": {},
   "outputs": [
    {
     "name": "stdout",
     "output_type": "stream",
     "text": [
      "2346.2543103448274\n"
     ]
    }
   ],
   "source": [
    "queens_mean = np.average(queens_price)\n",
    "print(queens_mean)"
   ]
  },
  {
   "cell_type": "markdown",
   "id": "43fcee50",
   "metadata": {},
   "source": [
    "### Find the Median"
   ]
  },
  {
   "cell_type": "code",
   "execution_count": 9,
   "id": "9df9daea",
   "metadata": {},
   "outputs": [
    {
     "name": "stdout",
     "output_type": "stream",
     "text": [
      "3000.0\n"
     ]
    }
   ],
   "source": [
    "brooklyn_median = np.median(brooklyn_price)\n",
    "print(brooklyn_median)"
   ]
  },
  {
   "cell_type": "code",
   "execution_count": 10,
   "id": "f41a6ce1",
   "metadata": {},
   "outputs": [
    {
     "name": "stdout",
     "output_type": "stream",
     "text": [
      "3800.0\n"
     ]
    }
   ],
   "source": [
    "manhattan_median = np.median(manhattan_price)\n",
    "print(manhattan_median)"
   ]
  },
  {
   "cell_type": "code",
   "execution_count": 11,
   "id": "1261caab",
   "metadata": {},
   "outputs": [
    {
     "name": "stdout",
     "output_type": "stream",
     "text": [
      "2200.0\n"
     ]
    }
   ],
   "source": [
    "queens_median = np.median(queens_price)\n",
    "print(queens_median)"
   ]
  },
  {
   "cell_type": "markdown",
   "id": "f84ac7be",
   "metadata": {},
   "source": [
    "### Find the Mode"
   ]
  },
  {
   "cell_type": "code",
   "execution_count": 12,
   "id": "cd73d30f",
   "metadata": {},
   "outputs": [
    {
     "name": "stdout",
     "output_type": "stream",
     "text": [
      "ModeResult(mode=array([2500], dtype=int64), count=array([26]))\n"
     ]
    }
   ],
   "source": [
    "brooklyn_mode = stats.mode(brooklyn_price)\n",
    "print(brooklyn_mode)"
   ]
  },
  {
   "cell_type": "code",
   "execution_count": 13,
   "id": "2da89fab",
   "metadata": {},
   "outputs": [
    {
     "name": "stdout",
     "output_type": "stream",
     "text": [
      "ModeResult(mode=array([3500], dtype=int64), count=array([56]))\n"
     ]
    }
   ],
   "source": [
    "manhattan_mode = stats.mode(manhattan_price)\n",
    "print(manhattan_mode)"
   ]
  },
  {
   "cell_type": "code",
   "execution_count": 14,
   "id": "a831aca0",
   "metadata": {},
   "outputs": [
    {
     "name": "stdout",
     "output_type": "stream",
     "text": [
      "ModeResult(mode=array([1750], dtype=int64), count=array([11]))\n"
     ]
    }
   ],
   "source": [
    "queens_mode = stats.mode(queens_price)\n",
    "print(queens_mode)"
   ]
  },
  {
   "cell_type": "markdown",
   "id": "e3c5d70f",
   "metadata": {},
   "source": [
    "### What Does the Data Tell Us?"
   ]
  },
  {
   "cell_type": "code",
   "execution_count": 18,
   "id": "d27f01c9",
   "metadata": {},
   "outputs": [
    {
     "name": "stdout",
     "output_type": "stream",
     "text": [
      "The mean price in Brooklyn is $3327.4\n",
      "The mean price in Manhattan is $3993.48\n",
      "The mean price in Queens is $2346.25\n"
     ]
    }
   ],
   "source": [
    "print(\"The mean price in Brooklyn is $\" + str(round(brooklyn_mean, 2)))\n",
    "print(\"The mean price in Manhattan is $\" + str(round(manhattan_mean, 2)))\n",
    "print(\"The mean price in Queens is $\" + str(round(queens_mean, 2)))"
   ]
  },
  {
   "cell_type": "code",
   "execution_count": 20,
   "id": "b6cbbd26",
   "metadata": {},
   "outputs": [
    {
     "name": "stdout",
     "output_type": "stream",
     "text": [
      "The median price in Brooklyn is $3000.0\n",
      "The median price in Manhattan is $3800.0\n",
      "The median price in Queens is $2200.0\n"
     ]
    }
   ],
   "source": [
    "print(\"The median price in Brooklyn is $\" + str(brooklyn_median))\n",
    "print(\"The median price in Manhattan is $\" + str(manhattan_median))\n",
    "print(\"The median price in Queens is $\" + str(queens_median))"
   ]
  },
  {
   "cell_type": "code",
   "execution_count": 23,
   "id": "f1bd622f",
   "metadata": {},
   "outputs": [
    {
     "name": "stdout",
     "output_type": "stream",
     "text": [
      "The mode price in Brooklyn is $2500 and it appears 26 times out of 1013\n",
      "The mode price in Manhattan is $3500 and it appears 56 times out of 1476\n",
      "The mode price in Queens is $1750 and it appears 11 times out of 232\n"
     ]
    }
   ],
   "source": [
    "print(\"The mode price in Brooklyn is $\" + str(brooklyn_mode[0][0]) + \" and it appears \" + str(brooklyn_mode[1][0]) + \" times out of \" + str(len(brooklyn_price)))\n",
    "print(\"The mode price in Manhattan is $\" + str(manhattan_mode[0][0]) + \" and it appears \" + str(manhattan_mode[1][0]) + \" times out of \" + str(len(manhattan_price)))\n",
    "print(\"The mode price in Queens is $\" + str(queens_mode[0][0]) + \" and it appears \" + str(queens_mode[1][0]) + \" times out of \" + str(len(queens_price)))"
   ]
  },
  {
   "cell_type": "markdown",
   "id": "5d581242",
   "metadata": {},
   "source": [
    "<hr>\n",
    "\n",
    "#### Brooklyn:"
   ]
  },
  {
   "cell_type": "code",
   "execution_count": 118,
   "id": "6878287f",
   "metadata": {},
   "outputs": [
    {
     "data": {
      "image/png": "[encoded data removed]",
      "text/plain": [
       "<Figure size 720x360 with 1 Axes>"
      ]
     },
     "metadata": {
      "needs_background": "light"
     },
     "output_type": "display_data"
    }
   ],
   "source": [
    "brooklyn_price_arr = []\n",
    "for rent in brooklyn_price:\n",
    "    #print(rent)\n",
    "    brooklyn_price_arr.append(rent)\n",
    "    \n",
    "#print(brooklyn_price_arr)\n",
    "\n",
    "plt.figure(figsize=(10, 5))\n",
    "plt.hist(brooklyn_price_arr, bins = 30, edgecolor=\"black\", linewidth = 1.2, color = 'lightsteelblue')\n",
    "plt.axvline(brooklyn_mean, color = \"maroon\", linestyle = \"solid\", linewidth = 2, label = 'Mean: {:.2f}'.format(brooklyn_mean))\n",
    "plt.axvline(brooklyn_median, color = \"darkgoldenrod\", linestyle = \"dashed\", linewidth = 2, label = 'Median: {:.2f}'.format(brooklyn_median))\n",
    "plt.axvline(brooklyn_mode[0][0], color = \"darkolivegreen\", linestyle = \"dotted\", linewidth = 2, label = 'Mode: {:.2f}'.format(brooklyn_mode[0][0]))\n",
    "\n",
    "plt.legend(frameon = False, ncol = 3)\n",
    "plt.title(\"Brooklyn - 1 Bedroom Price\")\n",
    "plt.xlabel(\"Cost\")\n",
    "plt.ylabel(\"Count\")\n",
    "plt.xlim(0, 12500)\n",
    "plt.show()"
   ]
  },
  {
   "cell_type": "markdown",
   "id": "5b56eb3f",
   "metadata": {},
   "source": [
    "<hr>\n",
    "\n",
    "#### Manhattan:"
   ]
  },
  {
   "cell_type": "code",
   "execution_count": 123,
   "id": "ab881218",
   "metadata": {},
   "outputs": [
    {
     "data": {
      "image/png": "[encoded data removed]",
      "text/plain": [
       "<Figure size 720x360 with 1 Axes>"
      ]
     },
     "metadata": {
      "needs_background": "light"
     },
     "output_type": "display_data"
    }
   ],
   "source": [
    "manhattan_price_arr = []\n",
    "for rent in manhattan_price:\n",
    "    #print(rent)\n",
    "    manhattan_price_arr.append(rent)\n",
    "   \n",
    "\n",
    "plt.figure(figsize=(10, 5))\n",
    "plt.hist(manhattan_price_arr, bins = 25, edgecolor=\"black\", linewidth = 1.2, color = 'lightsteelblue')\n",
    "plt.axvline(manhattan_mean, color = \"maroon\", linestyle = \"solid\", linewidth = 2, label = 'Mean: {:.2f}'.format(manhattan_mean))\n",
    "plt.axvline(manhattan_median, color = \"darkgoldenrod\", linestyle = \"dashed\", linewidth = 2, label = 'Median: {:.2f}'.format(manhattan_median))\n",
    "plt.axvline(manhattan_mode[0][0], color = \"darkolivegreen\", linestyle = \"dotted\", linewidth = 2, label = 'Mode: {:.2f}'.format(manhattan_mode[0][0]))\n",
    "\n",
    "plt.legend(frameon = False, ncol = 2)\n",
    "\n",
    "plt.title(\"Manhattan - 1 Bedroom Price\")\n",
    "plt.xlabel(\"Cost\")\n",
    "plt.ylabel(\"Count\")\n",
    "plt.xlim(0, 11000)\n",
    "plt.show()"
   ]
  },
  {
   "cell_type": "markdown",
   "id": "07dea697",
   "metadata": {},
   "source": [
    "<hr>\n",
    "\n",
    "#### Queens:"
   ]
  },
  {
   "cell_type": "code",
   "execution_count": 121,
   "id": "c8c42204",
   "metadata": {},
   "outputs": [
    {
     "data": {
      "image/png": "[encoded data removed]",
      "text/plain": [
       "<Figure size 720x360 with 1 Axes>"
      ]
     },
     "metadata": {
      "needs_background": "light"
     },
     "output_type": "display_data"
    }
   ],
   "source": [
    "queens_price_arr = []\n",
    "for rent in queens_price:\n",
    "    #print(rent)\n",
    "    queens_price_arr.append(rent)\n",
    "   \n",
    "\n",
    "plt.figure(figsize=(10, 5))\n",
    "plt.hist(queens_price_arr, bins = 9, edgecolor=\"black\", linewidth = 1.2, color = 'lightsteelblue')\n",
    "plt.axvline(queens_mean, color = \"maroon\", linestyle = \"solid\", linewidth = 2, label = 'Mean: {:.2f}'.format(queens_mean))\n",
    "plt.axvline(queens_median, color = \"darkgoldenrod\", linestyle = \"dashed\", linewidth = 2, label = 'Median: {:.2f}'.format(queens_median))\n",
    "plt.axvline(queens_mode[0][0], color = \"darkolivegreen\", linestyle = \"dotted\", linewidth = 2, label = 'Mode: {:.2f}'.format(queens_mode[0][0]))\n",
    "\n",
    "plt.legend(frameon = False, ncol = 2)\n",
    "\n",
    "plt.title(\"Queens - 1 Bedroom Price\")\n",
    "plt.xlabel(\"Cost\")\n",
    "plt.ylabel(\"Count\")\n",
    "plt.xlim(0, 5000)\n",
    "plt.show()"
   ]
  },
  {
   "cell_type": "code",
   "execution_count": null,
   "id": "f19338ee",
   "metadata": {},
   "outputs": [],
   "source": []
  }
 ],
 "metadata": {
  "kernelspec": {
   "display_name": "Python 3",
   "language": "python",
   "name": "python3"
  },
  "language_info": {
   "codemirror_mode": {
    "name": "ipython",
    "version": 3
   },
   "file_extension": ".py",
   "mimetype": "text/x-python",
   "name": "python",
   "nbconvert_exporter": "python",
   "pygments_lexer": "ipython3",
   "version": "3.8.8"
  }
 },
 "nbformat": 4,
 "nbformat_minor": 5
}
