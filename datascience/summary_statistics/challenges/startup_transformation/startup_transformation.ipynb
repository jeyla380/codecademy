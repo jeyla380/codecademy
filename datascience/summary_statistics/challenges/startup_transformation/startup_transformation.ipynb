{
 "cells": [
  {
   "cell_type": "markdown",
   "id": "50847926",
   "metadata": {},
   "source": [
    "#### SUMMARY STATISTICS\n",
    "\n",
    "<br>\n",
    "\n",
    "## Startup Transformation\n",
    "<hr>"
   ]
  },
  {
   "cell_type": "code",
   "execution_count": 29,
   "id": "ca98d717",
   "metadata": {},
   "outputs": [],
   "source": [
    "import matplotlib.pyplot as plt\n",
    "import pandas as pd\n",
    "import seaborn as sns\n",
    "import numpy as np"
   ]
  },
  {
   "cell_type": "markdown",
   "id": "6f7ac7b8",
   "metadata": {},
   "source": [
    "### Analyzing Revenue and Expenses"
   ]
  },
  {
   "cell_type": "code",
   "execution_count": 30,
   "id": "06002131",
   "metadata": {},
   "outputs": [
    {
     "data": {
      "text/html": [
       "<div>\n",
       "<style scoped>\n",
       "    .dataframe tbody tr th:only-of-type {\n",
       "        vertical-align: middle;\n",
       "    }\n",
       "\n",
       "    .dataframe tbody tr th {\n",
       "        vertical-align: top;\n",
       "    }\n",
       "\n",
       "    .dataframe thead th {\n",
       "        text-align: right;\n",
       "    }\n",
       "</style>\n",
       "<table border=\"1\" class=\"dataframe\">\n",
       "  <thead>\n",
       "    <tr style=\"text-align: right;\">\n",
       "      <th></th>\n",
       "      <th>Month</th>\n",
       "      <th>Revenue</th>\n",
       "      <th>Expenses</th>\n",
       "    </tr>\n",
       "  </thead>\n",
       "  <tbody>\n",
       "    <tr>\n",
       "      <th>0</th>\n",
       "      <td>1</td>\n",
       "      <td>1420000</td>\n",
       "      <td>510000</td>\n",
       "    </tr>\n",
       "    <tr>\n",
       "      <th>1</th>\n",
       "      <td>2</td>\n",
       "      <td>1200000</td>\n",
       "      <td>532000</td>\n",
       "    </tr>\n",
       "    <tr>\n",
       "      <th>2</th>\n",
       "      <td>3</td>\n",
       "      <td>1050000</td>\n",
       "      <td>551000</td>\n",
       "    </tr>\n",
       "    <tr>\n",
       "      <th>3</th>\n",
       "      <td>4</td>\n",
       "      <td>920000</td>\n",
       "      <td>612000</td>\n",
       "    </tr>\n",
       "    <tr>\n",
       "      <th>4</th>\n",
       "      <td>5</td>\n",
       "      <td>807000</td>\n",
       "      <td>628000</td>\n",
       "    </tr>\n",
       "  </tbody>\n",
       "</table>\n",
       "</div>"
      ],
      "text/plain": [
       "   Month  Revenue  Expenses\n",
       "0      1  1420000    510000\n",
       "1      2  1200000    532000\n",
       "2      3  1050000    551000\n",
       "3      4   920000    612000\n",
       "4      5   807000    628000"
      ]
     },
     "execution_count": 30,
     "metadata": {},
     "output_type": "execute_result"
    }
   ],
   "source": [
    "financial_data = pd.read_csv('financial_data.csv')\n",
    "financial_data.head()"
   ]
  },
  {
   "cell_type": "code",
   "execution_count": 31,
   "id": "245d4c1e",
   "metadata": {},
   "outputs": [],
   "source": [
    "month = financial_data['Month']\n",
    "revenue = financial_data['Revenue']\n",
    "expenses = financial_data['Expenses']"
   ]
  },
  {
   "cell_type": "code",
   "execution_count": 32,
   "id": "54c99054",
   "metadata": {},
   "outputs": [
    {
     "data": {
      "image/png": "[encoded data removed]",
      "text/plain": [
       "<Figure size 432x288 with 1 Axes>"
      ]
     },
     "metadata": {
      "needs_background": "light"
     },
     "output_type": "display_data"
    },
    {
     "data": {
      "image/png": "[encoded data removed]",
      "text/plain": [
       "<Figure size 432x288 with 1 Axes>"
      ]
     },
     "metadata": {
      "needs_background": "light"
     },
     "output_type": "display_data"
    }
   ],
   "source": [
    "plt.plot(month, revenue)\n",
    "\n",
    "plt.xlabel('Month')\n",
    "plt.ylabel('Amount ($)')\n",
    "plt.title('Revenue')\n",
    "plt.show()\n",
    "\n",
    "#----------------------------\n",
    "\n",
    "plt.clf()\n",
    "plt.plot(month, expenses)\n",
    "\n",
    "plt.xlabel('Month')\n",
    "plt.ylabel('Amount ($)')\n",
    "plt.title('Expenses')\n",
    "plt.show()"
   ]
  },
  {
   "cell_type": "markdown",
   "id": "0d57fec2",
   "metadata": {},
   "source": [
    "### Pie Chart and Collapsing Categories"
   ]
  },
  {
   "cell_type": "code",
   "execution_count": 33,
   "id": "fc1597f4",
   "metadata": {},
   "outputs": [
    {
     "data": {
      "text/html": [
       "<div>\n",
       "<style scoped>\n",
       "    .dataframe tbody tr th:only-of-type {\n",
       "        vertical-align: middle;\n",
       "    }\n",
       "\n",
       "    .dataframe tbody tr th {\n",
       "        vertical-align: top;\n",
       "    }\n",
       "\n",
       "    .dataframe thead th {\n",
       "        text-align: right;\n",
       "    }\n",
       "</style>\n",
       "<table border=\"1\" class=\"dataframe\">\n",
       "  <thead>\n",
       "    <tr style=\"text-align: right;\">\n",
       "      <th></th>\n",
       "      <th>Expense</th>\n",
       "      <th>Proportion</th>\n",
       "    </tr>\n",
       "  </thead>\n",
       "  <tbody>\n",
       "    <tr>\n",
       "      <th>0</th>\n",
       "      <td>Salaries</td>\n",
       "      <td>0.62</td>\n",
       "    </tr>\n",
       "    <tr>\n",
       "      <th>1</th>\n",
       "      <td>Advertising</td>\n",
       "      <td>0.15</td>\n",
       "    </tr>\n",
       "    <tr>\n",
       "      <th>2</th>\n",
       "      <td>Office Rent</td>\n",
       "      <td>0.15</td>\n",
       "    </tr>\n",
       "    <tr>\n",
       "      <th>3</th>\n",
       "      <td>Equipment</td>\n",
       "      <td>0.03</td>\n",
       "    </tr>\n",
       "    <tr>\n",
       "      <th>4</th>\n",
       "      <td>Utilities</td>\n",
       "      <td>0.03</td>\n",
       "    </tr>\n",
       "    <tr>\n",
       "      <th>5</th>\n",
       "      <td>Supples</td>\n",
       "      <td>0.01</td>\n",
       "    </tr>\n",
       "    <tr>\n",
       "      <th>6</th>\n",
       "      <td>Food</td>\n",
       "      <td>0.01</td>\n",
       "    </tr>\n",
       "  </tbody>\n",
       "</table>\n",
       "</div>"
      ],
      "text/plain": [
       "       Expense  Proportion\n",
       "0     Salaries        0.62\n",
       "1  Advertising        0.15\n",
       "2  Office Rent        0.15\n",
       "3    Equipment        0.03\n",
       "4    Utilities        0.03\n",
       "5      Supples        0.01\n",
       "6         Food        0.01"
      ]
     },
     "execution_count": 33,
     "metadata": {},
     "output_type": "execute_result"
    }
   ],
   "source": [
    "expense_overview = pd.read_csv('expenses.csv')\n",
    "expense_overview.head(7)"
   ]
  },
  {
   "cell_type": "code",
   "execution_count": 34,
   "id": "fe119685",
   "metadata": {},
   "outputs": [],
   "source": [
    "expense_categories = expense_overview['Expense']\n",
    "proportions = expense_overview['Proportion']"
   ]
  },
  {
   "cell_type": "code",
   "execution_count": 68,
   "id": "69e51762",
   "metadata": {},
   "outputs": [
    {
     "data": {
      "image/png": "[encoded data removed]",
      "text/plain": [
       "<Figure size 432x288 with 1 Axes>"
      ]
     },
     "metadata": {},
     "output_type": "display_data"
    }
   ],
   "source": [
    "expense_categories = ['Salaries', 'Advertising', 'Office Rent', 'Other']\n",
    "proportions = [0.62, 0.15, 0.15, 0.08]\n",
    "\n",
    "pie_colors = ['rosybrown', 'peru', 'olive', 'slategray']\n",
    "\n",
    "plt.pie(proportions, labels = expense_categories, normalize = False, colors = pie_colors, wedgeprops = {'edgecolor': 'black'})\n",
    "plt.title(\"Expense Overview\")\n",
    "plt.axis('Equal')\n",
    "plt.tight_layout()\n",
    "plt.show()"
   ]
  },
  {
   "cell_type": "markdown",
   "id": "b999ae57",
   "metadata": {},
   "source": [
    "### Employee Productivity"
   ]
  },
  {
   "cell_type": "code",
   "execution_count": 36,
   "id": "d21d300a",
   "metadata": {},
   "outputs": [
    {
     "data": {
      "text/html": [
       "<div>\n",
       "<style scoped>\n",
       "    .dataframe tbody tr th:only-of-type {\n",
       "        vertical-align: middle;\n",
       "    }\n",
       "\n",
       "    .dataframe tbody tr th {\n",
       "        vertical-align: top;\n",
       "    }\n",
       "\n",
       "    .dataframe thead th {\n",
       "        text-align: right;\n",
       "    }\n",
       "</style>\n",
       "<table border=\"1\" class=\"dataframe\">\n",
       "  <thead>\n",
       "    <tr style=\"text-align: right;\">\n",
       "      <th></th>\n",
       "      <th>Name</th>\n",
       "      <th>Salary</th>\n",
       "      <th>Productivity</th>\n",
       "      <th>Commute Time</th>\n",
       "    </tr>\n",
       "  </thead>\n",
       "  <tbody>\n",
       "    <tr>\n",
       "      <th>0</th>\n",
       "      <td>Mason Pender</td>\n",
       "      <td>87902</td>\n",
       "      <td>29.91</td>\n",
       "      <td>16.79</td>\n",
       "    </tr>\n",
       "    <tr>\n",
       "      <th>1</th>\n",
       "      <td>Mia Rew</td>\n",
       "      <td>95672</td>\n",
       "      <td>49.91</td>\n",
       "      <td>44.48</td>\n",
       "    </tr>\n",
       "    <tr>\n",
       "      <th>2</th>\n",
       "      <td>Jalisa Kroenke</td>\n",
       "      <td>177864</td>\n",
       "      <td>78.00</td>\n",
       "      <td>19.40</td>\n",
       "    </tr>\n",
       "    <tr>\n",
       "      <th>3</th>\n",
       "      <td>Krystal Homeyer</td>\n",
       "      <td>186643</td>\n",
       "      <td>24.36</td>\n",
       "      <td>42.06</td>\n",
       "    </tr>\n",
       "    <tr>\n",
       "      <th>4</th>\n",
       "      <td>Kiana Wishart</td>\n",
       "      <td>167148</td>\n",
       "      <td>4.08</td>\n",
       "      <td>25.58</td>\n",
       "    </tr>\n",
       "  </tbody>\n",
       "</table>\n",
       "</div>"
      ],
      "text/plain": [
       "                Name  Salary  Productivity  Commute Time\n",
       "0     Mason Pender     87902         29.91         16.79\n",
       "1          Mia Rew     95672         49.91         44.48\n",
       "2   Jalisa Kroenke    177864         78.00         19.40\n",
       "3  Krystal Homeyer    186643         24.36         42.06\n",
       "4    Kiana Wishart    167148          4.08         25.58"
      ]
     },
     "execution_count": 36,
     "metadata": {},
     "output_type": "execute_result"
    }
   ],
   "source": [
    "employees = pd.read_csv('employees.csv')\n",
    "employees.head()"
   ]
  },
  {
   "cell_type": "code",
   "execution_count": 37,
   "id": "346a3c51",
   "metadata": {},
   "outputs": [
    {
     "name": "stdout",
     "output_type": "stream",
     "text": [
      "                  Name  Salary  Productivity  Commute Time\n",
      "259       Wilber Rye    111647          0.06         49.42\n",
      "92    Fredric Gandee    154469          0.24         22.48\n",
      "252  Johnson Fordham    168684          1.46         22.39\n",
      "178    Lilia Lemoine    167579          1.67         27.36\n",
      "162   Hilma Laughton     85506          1.79         36.41\n",
      "..                 ...     ...           ...           ...\n",
      "164      Miki Hartle     50856         99.54         31.39\n",
      "88        Darell Nau     30530         99.63         44.25\n",
      "23    Joaquina Neece     95562         99.66         48.65\n",
      "202    Janae Officer    110139         99.69         15.45\n",
      "6    Jacinta Dunford    130968         99.98         44.53\n",
      "\n",
      "[300 rows x 4 columns]\n"
     ]
    }
   ],
   "source": [
    "sorted_productivity = employees.sort_values(by = ['Productivity'])\n",
    "print(sorted_productivity)\n",
    "\n",
    "#sorted from lowest to highest Productivity"
   ]
  },
  {
   "cell_type": "code",
   "execution_count": 38,
   "id": "b46398a5",
   "metadata": {},
   "outputs": [
    {
     "name": "stdout",
     "output_type": "stream",
     "text": [
      "                       Name  Salary  Productivity  Commute Time\n",
      "259            Wilber Rye    111647          0.06         49.42\n",
      "92         Fredric Gandee    154469          0.24         22.48\n",
      "252       Johnson Fordham    168684          1.46         22.39\n",
      "178         Lilia Lemoine    167579          1.67         27.36\n",
      "162        Hilma Laughton     85506          1.79         36.41\n",
      "..                      ...     ...           ...           ...\n",
      "43   Bernardo Klingenberg     55464         34.52         32.27\n",
      "186        Ashleigh Istre    178627         34.70         38.67\n",
      "288       Penni Kimbrough    142680         35.21         49.64\n",
      "269      Margot Mackenzie    114302         35.79         19.87\n",
      "218        Quinn Frampton     44000         36.36         34.12\n",
      "\n",
      "[100 rows x 4 columns]\n"
     ]
    }
   ],
   "source": [
    "employees_cut = sorted_productivity.head(100)\n",
    "print(employees_cut)\n",
    "\n",
    "#these first 100 employees will be cut due to low productivity"
   ]
  },
  {
   "cell_type": "code",
   "execution_count": 39,
   "id": "d400b73c",
   "metadata": {},
   "outputs": [
    {
     "name": "stdout",
     "output_type": "stream",
     "text": [
      "count    300.000000\n",
      "mean      33.441700\n",
      "std       16.128369\n",
      "min        3.220000\n",
      "25%       21.667500\n",
      "50%       31.060000\n",
      "75%       42.190000\n",
      "max      101.780000\n",
      "Name: Commute Time, dtype: float64\n"
     ]
    }
   ],
   "source": [
    "commute_times = employees['Commute Time']\n",
    "#print(commute_times)\n",
    "print(commute_times.describe())"
   ]
  },
  {
   "cell_type": "code",
   "execution_count": 60,
   "id": "da3f008c",
   "metadata": {},
   "outputs": [
    {
     "data": {
      "image/png": "[encoded data removed]",
      "text/plain": [
       "<Figure size 432x288 with 1 Axes>"
      ]
     },
     "metadata": {
      "needs_background": "light"
     },
     "output_type": "display_data"
    }
   ],
   "source": [
    "plt.hist(commute_times, edgecolor = 'black', color = 'lightcoral')\n",
    "\n",
    "plt.xlabel(\"Commute Time\")\n",
    "plt.ylabel(\"Frequency\")\n",
    "plt.title(\"Employee Commute Times\")\n",
    "plt.show()"
   ]
  },
  {
   "cell_type": "code",
   "execution_count": 61,
   "id": "8291c678",
   "metadata": {},
   "outputs": [
    {
     "data": {
      "image/png": "[encoded data removed]",
      "text/plain": [
       "<Figure size 432x288 with 1 Axes>"
      ]
     },
     "metadata": {
      "needs_background": "light"
     },
     "output_type": "display_data"
    }
   ],
   "source": [
    "commute_times_log = np.log(commute_times)\n",
    "\n",
    "plt.hist(commute_times_log, edgecolor = 'black', color = 'lightsalmon')\n",
    "\n",
    "plt.xlabel(\"Commute Time\")\n",
    "plt.ylabel(\"Frequency\")\n",
    "plt.title(\"Employee Commute Times\")\n",
    "plt.show()"
   ]
  },
  {
   "cell_type": "markdown",
   "id": "2f0a4da3",
   "metadata": {},
   "source": [
    "### Extra"
   ]
  },
  {
   "cell_type": "code",
   "execution_count": 74,
   "id": "c3623f1d",
   "metadata": {},
   "outputs": [
    {
     "data": {
      "image/png": "[encoded data removed]",
      "text/plain": [
       "<Figure size 432x288 with 1 Axes>"
      ]
     },
     "metadata": {
      "needs_background": "light"
     },
     "output_type": "display_data"
    }
   ],
   "source": [
    "employees_cut_productivity = employees_cut['Productivity']\n",
    "employees_cut_salary = employees_cut['Salary']\n",
    "\n",
    "plt.scatter(employees['Productivity'], employees['Salary'], color = 'goldenrod')\n",
    "plt.scatter(employees_cut_productivity, employees_cut_salary, color = 'rebeccapurple')\n",
    "\n",
    "plt.xlabel(\"% of Productivity\")\n",
    "plt.ylabel(\"Income ($)\")\n",
    "plt.title(\"Relationship Between Productivity and Salary\")\n",
    "plt.show()\n",
    "\n"
   ]
  },
  {
   "cell_type": "markdown",
   "id": "80a77831",
   "metadata": {},
   "source": [
    "There is no correlation between Income and Productivity. Someone can not be productive, but have a large income; while someone else can be very productive with a low income salary."
   ]
  },
  {
   "cell_type": "code",
   "execution_count": null,
   "id": "e01a0ac5",
   "metadata": {},
   "outputs": [],
   "source": []
  }
 ],
 "metadata": {
  "kernelspec": {
   "display_name": "Python 3",
   "language": "python",
   "name": "python3"
  },
  "language_info": {
   "codemirror_mode": {
    "name": "ipython",
    "version": 3
   },
   "file_extension": ".py",
   "mimetype": "text/x-python",
   "name": "python",
   "nbconvert_exporter": "python",
   "pygments_lexer": "ipython3",
   "version": "3.8.8"
  }
 },
 "nbformat": 4,
 "nbformat_minor": 5
}
