{
 "cells": [
  {
   "cell_type": "markdown",
   "id": "c844b928",
   "metadata": {},
   "source": [
    "#### FOUNDATIONS OF MACHINE LEARNING: SUPERVISED LEARNING\n",
    "\n",
    "<br>\n",
    "\n",
    "# Email Similarity\n",
    "\n",
    "<hr>"
   ]
  },
  {
   "cell_type": "code",
   "execution_count": 4,
   "id": "47f7bf9e",
   "metadata": {},
   "outputs": [],
   "source": [
    "from sklearn.datasets import fetch_20newsgroups\n",
    "from sklearn.naive_bayes import MultinomialNB\n",
    "from sklearn.feature_extraction.text import CountVectorizer"
   ]
  },
  {
   "cell_type": "markdown",
   "id": "f1104b03",
   "metadata": {},
   "source": [
    "### Exploring the Data"
   ]
  },
  {
   "cell_type": "code",
   "execution_count": 19,
   "id": "51bb5d68",
   "metadata": {},
   "outputs": [],
   "source": [
    "emails = fetch_20newsgroups(categories = ['rec.sport.baseball', 'rec.sport.hockey'])"
   ]
  },
  {
   "cell_type": "code",
   "execution_count": 22,
   "id": "36b4e353",
   "metadata": {},
   "outputs": [
    {
     "name": "stdout",
     "output_type": "stream",
     "text": [
      "['rec.sport.baseball', 'rec.sport.hockey']\n"
     ]
    }
   ],
   "source": [
    "print(emails.target_names)"
   ]
  },
  {
   "cell_type": "code",
   "execution_count": 23,
   "id": "40bdcce9",
   "metadata": {},
   "outputs": [
    {
     "name": "stdout",
     "output_type": "stream",
     "text": [
      "From: mmb@lamar.ColoState.EDU (Michael Burger)\n",
      "Subject: More TV Info\n",
      "Distribution: na\n",
      "Nntp-Posting-Host: lamar.acns.colostate.edu\n",
      "Organization: Colorado State University, Fort Collins, CO  80523\n",
      "Lines: 36\n",
      "\n",
      "United States Coverage:\n",
      "Sunday April 18\n",
      "  N.J./N.Y.I. at Pittsburgh - 1:00 EDT to Eastern Time Zone\n",
      "  ABC - Gary Thorne and Bill Clement\n",
      "\n",
      "  St. Louis at Chicago - 12:00 CDT and 11:00 MDT - to Central/Mountain Zones\n",
      "  ABC - Mike Emerick and Jim Schoenfeld\n",
      "\n",
      "  Los Angeles at Calgary - 12:00 PDT and 11:00 ADT - to Pacific/Alaskan Zones\n",
      "  ABC - Al Michaels and John Davidson\n",
      "\n",
      "Tuesday, April 20\n",
      "  N.J./N.Y.I. at Pittsburgh - 7:30 EDT Nationwide\n",
      "  ESPN - Gary Thorne and Bill Clement\n",
      "\n",
      "Thursday, April 22 and Saturday April 24\n",
      "  To Be Announced - 7:30 EDT Nationwide\n",
      "  ESPN - To Be Announced\n",
      "\n",
      "\n",
      "Canadian Coverage:\n",
      "\n",
      "Sunday, April 18\n",
      "  Buffalo at Boston - 7:30 EDT Nationwide\n",
      "  TSN - ???\n",
      "\n",
      "Tuesday, April 20\n",
      "  N.J.D./N.Y. at Pittsburgh - 7:30 EDT Nationwide\n",
      "  TSN - ???\n",
      "\n",
      "Wednesday, April 21\n",
      "  St. Louis at Chicago - 8:30 EDT Nationwide\n",
      "  TSN - ???\n",
      "\n",
      "\n",
      "\n",
      "\n"
     ]
    }
   ],
   "source": [
    "print(emails.data[5])"
   ]
  },
  {
   "cell_type": "code",
   "execution_count": 26,
   "id": "981cb906",
   "metadata": {},
   "outputs": [
    {
     "name": "stdout",
     "output_type": "stream",
     "text": [
      "1\n"
     ]
    }
   ],
   "source": [
    "print(emails.target[5])\n",
    "#since the index is 1, that means the email is equal to rec.sport.hockey"
   ]
  },
  {
   "cell_type": "markdown",
   "id": "5d28d85d",
   "metadata": {},
   "source": [
    "### Making the Training and Test Sets"
   ]
  },
  {
   "cell_type": "code",
   "execution_count": 28,
   "id": "78fc4952",
   "metadata": {},
   "outputs": [],
   "source": [
    "train_emails = fetch_20newsgroups(categories = ['rec.sport.baseball', 'rec.sport.hockey'], subset = 'train', shuffle = True, random_state = 108)\n",
    "test_emails = fetch_20newsgroups(categories = ['rec.sport.baseball', 'rec.sport.hockey'], subset = 'test', shuffle = True, random_state = 108)"
   ]
  },
  {
   "cell_type": "markdown",
   "id": "93c2ed7f",
   "metadata": {},
   "source": [
    "### Counting Words"
   ]
  },
  {
   "cell_type": "code",
   "execution_count": 31,
   "id": "d5ee9565",
   "metadata": {},
   "outputs": [
    {
     "data": {
      "text/plain": [
       "CountVectorizer()"
      ]
     },
     "execution_count": 31,
     "metadata": {},
     "output_type": "execute_result"
    }
   ],
   "source": [
    "counter = CountVectorizer()\n",
    "counter.fit(train_emails.data + test_emails.data)"
   ]
  },
  {
   "cell_type": "code",
   "execution_count": 33,
   "id": "727dba96",
   "metadata": {},
   "outputs": [],
   "source": [
    "train_counts = counter.transform(train_emails.data)\n",
    "test_counts = counter.transform(test_emails.data)"
   ]
  },
  {
   "cell_type": "markdown",
   "id": "c4d3349e",
   "metadata": {},
   "source": [
    "### Making a Naive Bayes Classifier"
   ]
  },
  {
   "cell_type": "code",
   "execution_count": 35,
   "id": "dc6b847f",
   "metadata": {},
   "outputs": [
    {
     "data": {
      "text/plain": [
       "MultinomialNB()"
      ]
     },
     "execution_count": 35,
     "metadata": {},
     "output_type": "execute_result"
    }
   ],
   "source": [
    "classifier = MultinomialNB()\n",
    "classifier.fit(train_counts, train_emails.target) #train_emails.target are the labels"
   ]
  },
  {
   "cell_type": "code",
   "execution_count": 36,
   "id": "c23f854e",
   "metadata": {},
   "outputs": [
    {
     "name": "stdout",
     "output_type": "stream",
     "text": [
      "0.9723618090452262\n"
     ]
    }
   ],
   "source": [
    "print(classifier.score(test_counts, test_emails.target))\n",
    "#this means that the classifier was pretty accurate when classifying baseball and hockey emails"
   ]
  },
  {
   "cell_type": "markdown",
   "id": "b461b6e4",
   "metadata": {},
   "source": [
    "### Testing Other Datasets"
   ]
  },
  {
   "cell_type": "code",
   "execution_count": 38,
   "id": "dbb3f4a9",
   "metadata": {},
   "outputs": [],
   "source": [
    "train_emails = fetch_20newsgroups(categories = ['comp.sys.ibm.pc.hardware', 'rec.sport.hockey'], subset = 'train', shuffle = True, random_state = 108)\n",
    "test_emails = fetch_20newsgroups(categories = ['comp.sys.ibm.pc.hardware', 'rec.sport.hockey'], subset = 'test', shuffle = True, random_state = 108)"
   ]
  },
  {
   "cell_type": "code",
   "execution_count": 39,
   "id": "8afdd7c0",
   "metadata": {},
   "outputs": [],
   "source": [
    "counter.fit(train_emails.data + test_emails.data)\n",
    "train_counts = counter.transform(train_emails.data)\n",
    "test_counts = counter.transform(test_emails.data)"
   ]
  },
  {
   "cell_type": "code",
   "execution_count": 40,
   "id": "f69c855c",
   "metadata": {},
   "outputs": [
    {
     "data": {
      "text/plain": [
       "MultinomialNB()"
      ]
     },
     "execution_count": 40,
     "metadata": {},
     "output_type": "execute_result"
    }
   ],
   "source": [
    "classifier.fit(train_counts, train_emails.target)"
   ]
  },
  {
   "cell_type": "code",
   "execution_count": 41,
   "id": "d25e58d1",
   "metadata": {},
   "outputs": [
    {
     "name": "stdout",
     "output_type": "stream",
     "text": [
      "0.9974715549936789\n"
     ]
    }
   ],
   "source": [
    "print(classifier.score(test_counts, test_emails.target))\n",
    "# the classifier was very accurate when classifying the different categories, most likely because they were from different categories"
   ]
  },
  {
   "cell_type": "markdown",
   "id": "79f8e9d0",
   "metadata": {},
   "source": [
    "<hr>"
   ]
  },
  {
   "cell_type": "code",
   "execution_count": 50,
   "id": "488484d6",
   "metadata": {},
   "outputs": [],
   "source": [
    "train_emails = fetch_20newsgroups(categories = ['comp.graphics', 'sci.electronics', 'comp.windows.x'], subset = 'train', shuffle = True, random_state = 108)\n",
    "test_emails = fetch_20newsgroups(categories = ['comp.graphics', 'sci.electronics', 'comp.windows.x'], subset = 'test', shuffle = True, random_state = 108)"
   ]
  },
  {
   "cell_type": "code",
   "execution_count": 51,
   "id": "384bb42d",
   "metadata": {},
   "outputs": [],
   "source": [
    "counter.fit(train_emails.data + test_emails.data)\n",
    "train_counts = counter.transform(train_emails.data)\n",
    "test_counts = counter.transform(test_emails.data)"
   ]
  },
  {
   "cell_type": "code",
   "execution_count": 52,
   "id": "ee1c8fb4",
   "metadata": {},
   "outputs": [
    {
     "data": {
      "text/plain": [
       "MultinomialNB()"
      ]
     },
     "execution_count": 52,
     "metadata": {},
     "output_type": "execute_result"
    }
   ],
   "source": [
    "classifier.fit(train_counts, train_emails.target)"
   ]
  },
  {
   "cell_type": "code",
   "execution_count": 53,
   "id": "73e39262",
   "metadata": {},
   "outputs": [
    {
     "name": "stdout",
     "output_type": "stream",
     "text": [
      "0.8598130841121495\n"
     ]
    }
   ],
   "source": [
    "print(classifier.score(test_counts, test_emails.target))\n",
    "# using 3 labels, the classifier was not as accurate as the other datasets"
   ]
  },
  {
   "cell_type": "code",
   "execution_count": null,
   "id": "da116266",
   "metadata": {},
   "outputs": [],
   "source": []
  }
 ],
 "metadata": {
  "kernelspec": {
   "display_name": "Python 3",
   "language": "python",
   "name": "python3"
  },
  "language_info": {
   "codemirror_mode": {
    "name": "ipython",
    "version": 3
   },
   "file_extension": ".py",
   "mimetype": "text/x-python",
   "name": "python",
   "nbconvert_exporter": "python",
   "pygments_lexer": "ipython3",
   "version": "3.8.8"
  }
 },
 "nbformat": 4,
 "nbformat_minor": 5
}
