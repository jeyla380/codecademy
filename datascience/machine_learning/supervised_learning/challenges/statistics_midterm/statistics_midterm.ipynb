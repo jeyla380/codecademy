{
 "cells": [
  {
   "cell_type": "markdown",
   "id": "0dddcd9b",
   "metadata": {},
   "source": [
    "#### FOUNDATIONS OF MACHINE LEARNING: SUPERVISED LEARNING\n",
    "\n",
    "<br>\n",
    "\n",
    "# Statistics Midterm Exam\n",
    "\n",
    "<br>\n",
    "\n",
    "We want to answer the following question:\n",
    "- <b>Given that a student answered a question correctly, what is the probability that she really knows the material?</b>\n",
    "\n",
    "\n",
    "We also know that:\n",
    "1. There is a question on the exam that 60% of students know the correct answer to.\n",
    "2. Given that a student knows the correct answer, there is still a 15% chance that the student picked the wrong answer.\n",
    "3. Given that a student does not know the answer, there is still a 20% chance that the student picks the correct answer by guessing.\n",
    "\n",
    "<hr>"
   ]
  },
  {
   "cell_type": "markdown",
   "id": "3f30625f",
   "metadata": {},
   "source": [
    "### Bayes' Theorem on a Statistics Exam"
   ]
  },
  {
   "cell_type": "markdown",
   "id": "855f72d4",
   "metadata": {},
   "source": [
    "#### 1. What is P(A|B)?"
   ]
  },
  {
   "cell_type": "code",
   "execution_count": 14,
   "id": "c202c100",
   "metadata": {},
   "outputs": [],
   "source": [
    "a = 'knows material'\n",
    "b = 'picks correct answer'\n",
    "\n",
    "p_know_material_given_pick_correct_answer = 'P(A|B)'"
   ]
  },
  {
   "cell_type": "markdown",
   "id": "7e19bcb1",
   "metadata": {},
   "source": [
    "#### 2. What is the probability the student knows the material?"
   ]
  },
  {
   "cell_type": "code",
   "execution_count": 15,
   "id": "1735fb69",
   "metadata": {},
   "outputs": [],
   "source": [
    "p_know_material = 0.60"
   ]
  },
  {
   "cell_type": "code",
   "execution_count": 17,
   "id": "833593d3",
   "metadata": {},
   "outputs": [
    {
     "name": "stdout",
     "output_type": "stream",
     "text": [
      "P(Does Not Know Material) = 0.4\n"
     ]
    }
   ],
   "source": [
    "p_not_know_material = 1 - p_know_material\n",
    "print(\"P(Does Not Know Material) = \" + str(p_not_know_material))"
   ]
  },
  {
   "cell_type": "markdown",
   "id": "6d8beb9b",
   "metadata": {},
   "source": [
    "#### 3. Given a student knows the material, what is the probability they answer correctly?"
   ]
  },
  {
   "cell_type": "code",
   "execution_count": 19,
   "id": "f942ef90",
   "metadata": {},
   "outputs": [
    {
     "name": "stdout",
     "output_type": "stream",
     "text": [
      "P(Picks the Correct Answer| Knows the Material) = 0.85\n"
     ]
    }
   ],
   "source": [
    "p_pick_wrong_answer_know_material = 0.15\n",
    "\n",
    "p_pick_correct_answer_know_material = (1 - p_pick_wrong_answer_know_material)\n",
    "print(\"P(Picks the Correct Answer| Knows the Material) = \" + str(p_pick_correct_answer_know_material))"
   ]
  },
  {
   "cell_type": "markdown",
   "id": "d0c98211",
   "metadata": {},
   "source": [
    "#### 4. What is the probability of any student answering correctly?"
   ]
  },
  {
   "cell_type": "code",
   "execution_count": 20,
   "id": "b8c587e1",
   "metadata": {},
   "outputs": [],
   "source": [
    "p_pick_correct_answer_not_know_material = 0.20"
   ]
  },
  {
   "cell_type": "code",
   "execution_count": 26,
   "id": "147ab931",
   "metadata": {},
   "outputs": [
    {
     "name": "stdout",
     "output_type": "stream",
     "text": [
      "P(Picks the Correct Answer) = 0.5900000000000001\n"
     ]
    }
   ],
   "source": [
    "#Weighted Average aka P(Picks Correct Answer) = P(Picks Correct Answer | Knows Material) x P(Knows Material) + P(Picks Correct Answer | Doesn't Know Material) x P(Doesn't Know Material)\n",
    "\n",
    "p_pick_correct_answer = (p_pick_correct_answer_know_material * p_know_material) + (p_pick_correct_answer_not_know_material * p_not_know_material)\n",
    "print(\"P(Picks the Correct Answer) = \" + str(p_pick_correct_answer))"
   ]
  },
  {
   "cell_type": "markdown",
   "id": "27804a63",
   "metadata": {},
   "source": [
    "#### 5. Using the three probabilities and Bayes' Theorem, calculate P(Knows the Material | Picks Correct Answer)"
   ]
  },
  {
   "cell_type": "code",
   "execution_count": 25,
   "id": "ac16034e",
   "metadata": {},
   "outputs": [
    {
     "name": "stdout",
     "output_type": "stream",
     "text": [
      "P(Knows the Material | Picks the Correct Answer) = 0.8644067796610169\n"
     ]
    }
   ],
   "source": [
    "p_know_material_given_pick_correct_answer = (p_pick_correct_answer_know_material * p_know_material) / weighted_average\n",
    "print(\"P(Knows the Material | Picks the Correct Answer) = \" + str(p_know_material_given_pick_correct_answer))"
   ]
  },
  {
   "cell_type": "code",
   "execution_count": null,
   "id": "e0a518a1",
   "metadata": {},
   "outputs": [],
   "source": []
  }
 ],
 "metadata": {
  "kernelspec": {
   "display_name": "Python 3",
   "language": "python",
   "name": "python3"
  },
  "language_info": {
   "codemirror_mode": {
    "name": "ipython",
    "version": 3
   },
   "file_extension": ".py",
   "mimetype": "text/x-python",
   "name": "python",
   "nbconvert_exporter": "python",
   "pygments_lexer": "ipython3",
   "version": "3.8.8"
  }
 },
 "nbformat": 4,
 "nbformat_minor": 5
}
