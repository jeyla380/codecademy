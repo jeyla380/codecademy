{
 "cells": [
  {
   "cell_type": "markdown",
   "metadata": {},
   "source": [
    "# Investigate the Data\n",
    "\n",
    "Welcome to the cumulative project on clustering algorithms! In this project, we will be investigating the way people think about masculinity by applying the KMeans algorithm to data from  <a href=\"https://fivethirtyeight.com/\" target = \"_blank\">FiveThirtyEight</a>. FiveThirtyEight is a popular website known for their use of statistical analysis in many of their stories.\n",
    "\n",
    "To begin, take a look at `masculinity-survey.pdf`. FiveThirtyEight and WNYC studios used this survey to get their male readers' thoughts on masculinity. After looking through some of the questions asked, take a look at FiveThirtyEight's article <a href=\"https://fivethirtyeight.com/features/what-do-men-think-it-means-to-be-a-man/\" target = \"_blank\">What Do Men Think It Means To Be A Man?</a> to see their major takeaways. We're going to try to find more insights using machine learning.\n",
    "\n",
    "In the code block below, we've loaded `masculinity.csv` into a DataFrame named `survey`. This file contains the raw responses to the masculinity survey. Let's start getting a sense of how this data is structured. Try to answer these questions using your Pandas knowledge:\n",
    "* What are the names of the columns? How do those columns relate to the questions in the PDF?\n",
    "* How many rows are there?\n",
    "* How is a question with multiple parts, like question 7, represented in the DataFrame?\n",
    "* How many people said they often ask a friend for professional advice? This is the first sub-question in question 7.\n",
    "\n",
    "To answer that last question, use the `value_counts()` function. For example, `df[\"col_a\"].value_counts()` gives you a nice summary of the values found in `\"col_a\"` of the DataFrame `df`.\n",
    "\n",
    "You may also want to print `survey.head()` to get a sense of all of the columns.\n"
   ]
  },
  {
   "cell_type": "code",
   "execution_count": 166,
   "metadata": {},
   "outputs": [
    {
     "data": {
      "text/html": [
       "<div>\n",
       "<style scoped>\n",
       "    .dataframe tbody tr th:only-of-type {\n",
       "        vertical-align: middle;\n",
       "    }\n",
       "\n",
       "    .dataframe tbody tr th {\n",
       "        vertical-align: top;\n",
       "    }\n",
       "\n",
       "    .dataframe thead th {\n",
       "        text-align: right;\n",
       "    }\n",
       "</style>\n",
       "<table border=\"1\" class=\"dataframe\">\n",
       "  <thead>\n",
       "    <tr style=\"text-align: right;\">\n",
       "      <th></th>\n",
       "      <th>Unnamed: 0</th>\n",
       "      <th>StartDate</th>\n",
       "      <th>EndDate</th>\n",
       "      <th>q0001</th>\n",
       "      <th>q0002</th>\n",
       "      <th>q0004_0001</th>\n",
       "      <th>q0004_0002</th>\n",
       "      <th>q0004_0003</th>\n",
       "      <th>q0004_0004</th>\n",
       "      <th>q0004_0005</th>\n",
       "      <th>...</th>\n",
       "      <th>q0035</th>\n",
       "      <th>q0036</th>\n",
       "      <th>race2</th>\n",
       "      <th>racethn4</th>\n",
       "      <th>educ3</th>\n",
       "      <th>educ4</th>\n",
       "      <th>age3</th>\n",
       "      <th>kids</th>\n",
       "      <th>orientation</th>\n",
       "      <th>weight</th>\n",
       "    </tr>\n",
       "  </thead>\n",
       "  <tbody>\n",
       "    <tr>\n",
       "      <th>0</th>\n",
       "      <td>1</td>\n",
       "      <td>5/10/18 4:01</td>\n",
       "      <td>5/10/18 4:06</td>\n",
       "      <td>Somewhat masculine</td>\n",
       "      <td>Somewhat important</td>\n",
       "      <td>Not selected</td>\n",
       "      <td>Not selected</td>\n",
       "      <td>Not selected</td>\n",
       "      <td>Pop culture</td>\n",
       "      <td>Not selected</td>\n",
       "      <td>...</td>\n",
       "      <td>Middle Atlantic</td>\n",
       "      <td>Windows Desktop / Laptop</td>\n",
       "      <td>Non-white</td>\n",
       "      <td>Hispanic</td>\n",
       "      <td>College or more</td>\n",
       "      <td>College or more</td>\n",
       "      <td>35 - 64</td>\n",
       "      <td>No children</td>\n",
       "      <td>Gay/Bisexual</td>\n",
       "      <td>1.714026</td>\n",
       "    </tr>\n",
       "    <tr>\n",
       "      <th>1</th>\n",
       "      <td>2</td>\n",
       "      <td>5/10/18 6:30</td>\n",
       "      <td>5/10/18 6:53</td>\n",
       "      <td>Somewhat masculine</td>\n",
       "      <td>Somewhat important</td>\n",
       "      <td>Father or father figure(s)</td>\n",
       "      <td>Not selected</td>\n",
       "      <td>Not selected</td>\n",
       "      <td>Not selected</td>\n",
       "      <td>Not selected</td>\n",
       "      <td>...</td>\n",
       "      <td>East North Central</td>\n",
       "      <td>iOS Phone / Tablet</td>\n",
       "      <td>White</td>\n",
       "      <td>White</td>\n",
       "      <td>Some college</td>\n",
       "      <td>Some college</td>\n",
       "      <td>65 and up</td>\n",
       "      <td>Has children</td>\n",
       "      <td>Straight</td>\n",
       "      <td>1.247120</td>\n",
       "    </tr>\n",
       "    <tr>\n",
       "      <th>2</th>\n",
       "      <td>3</td>\n",
       "      <td>5/10/18 7:02</td>\n",
       "      <td>5/10/18 7:09</td>\n",
       "      <td>Very masculine</td>\n",
       "      <td>Not too important</td>\n",
       "      <td>Father or father figure(s)</td>\n",
       "      <td>Not selected</td>\n",
       "      <td>Not selected</td>\n",
       "      <td>Not selected</td>\n",
       "      <td>Not selected</td>\n",
       "      <td>...</td>\n",
       "      <td>East North Central</td>\n",
       "      <td>Windows Desktop / Laptop</td>\n",
       "      <td>White</td>\n",
       "      <td>White</td>\n",
       "      <td>College or more</td>\n",
       "      <td>College or more</td>\n",
       "      <td>35 - 64</td>\n",
       "      <td>Has children</td>\n",
       "      <td>Straight</td>\n",
       "      <td>0.515746</td>\n",
       "    </tr>\n",
       "    <tr>\n",
       "      <th>3</th>\n",
       "      <td>4</td>\n",
       "      <td>5/10/18 7:27</td>\n",
       "      <td>5/10/18 7:31</td>\n",
       "      <td>Very masculine</td>\n",
       "      <td>Not too important</td>\n",
       "      <td>Father or father figure(s)</td>\n",
       "      <td>Mother or mother figure(s)</td>\n",
       "      <td>Other family members</td>\n",
       "      <td>Not selected</td>\n",
       "      <td>Not selected</td>\n",
       "      <td>...</td>\n",
       "      <td>East North Central</td>\n",
       "      <td>Windows Desktop / Laptop</td>\n",
       "      <td>White</td>\n",
       "      <td>White</td>\n",
       "      <td>Some college</td>\n",
       "      <td>Some college</td>\n",
       "      <td>65 and up</td>\n",
       "      <td>Has children</td>\n",
       "      <td>No answer</td>\n",
       "      <td>0.600640</td>\n",
       "    </tr>\n",
       "    <tr>\n",
       "      <th>4</th>\n",
       "      <td>5</td>\n",
       "      <td>5/10/18 7:35</td>\n",
       "      <td>5/10/18 7:42</td>\n",
       "      <td>Very masculine</td>\n",
       "      <td>Very important</td>\n",
       "      <td>Not selected</td>\n",
       "      <td>Not selected</td>\n",
       "      <td>Other family members</td>\n",
       "      <td>Not selected</td>\n",
       "      <td>Not selected</td>\n",
       "      <td>...</td>\n",
       "      <td>East North Central</td>\n",
       "      <td>Windows Desktop / Laptop</td>\n",
       "      <td>White</td>\n",
       "      <td>White</td>\n",
       "      <td>College or more</td>\n",
       "      <td>College or more</td>\n",
       "      <td>35 - 64</td>\n",
       "      <td>No children</td>\n",
       "      <td>Straight</td>\n",
       "      <td>1.033400</td>\n",
       "    </tr>\n",
       "  </tbody>\n",
       "</table>\n",
       "<p>5 rows × 98 columns</p>\n",
       "</div>"
      ],
      "text/plain": [
       "   Unnamed: 0     StartDate       EndDate               q0001  \\\n",
       "0           1  5/10/18 4:01  5/10/18 4:06  Somewhat masculine   \n",
       "1           2  5/10/18 6:30  5/10/18 6:53  Somewhat masculine   \n",
       "2           3  5/10/18 7:02  5/10/18 7:09      Very masculine   \n",
       "3           4  5/10/18 7:27  5/10/18 7:31      Very masculine   \n",
       "4           5  5/10/18 7:35  5/10/18 7:42      Very masculine   \n",
       "\n",
       "                q0002                  q0004_0001                  q0004_0002  \\\n",
       "0  Somewhat important                Not selected                Not selected   \n",
       "1  Somewhat important  Father or father figure(s)                Not selected   \n",
       "2   Not too important  Father or father figure(s)                Not selected   \n",
       "3   Not too important  Father or father figure(s)  Mother or mother figure(s)   \n",
       "4      Very important                Not selected                Not selected   \n",
       "\n",
       "             q0004_0003    q0004_0004    q0004_0005  ...               q0035  \\\n",
       "0          Not selected   Pop culture  Not selected  ...     Middle Atlantic   \n",
       "1          Not selected  Not selected  Not selected  ...  East North Central   \n",
       "2          Not selected  Not selected  Not selected  ...  East North Central   \n",
       "3  Other family members  Not selected  Not selected  ...  East North Central   \n",
       "4  Other family members  Not selected  Not selected  ...  East North Central   \n",
       "\n",
       "                      q0036      race2  racethn4            educ3  \\\n",
       "0  Windows Desktop / Laptop  Non-white  Hispanic  College or more   \n",
       "1        iOS Phone / Tablet      White     White     Some college   \n",
       "2  Windows Desktop / Laptop      White     White  College or more   \n",
       "3  Windows Desktop / Laptop      White     White     Some college   \n",
       "4  Windows Desktop / Laptop      White     White  College or more   \n",
       "\n",
       "             educ4       age3          kids   orientation    weight  \n",
       "0  College or more    35 - 64   No children  Gay/Bisexual  1.714026  \n",
       "1     Some college  65 and up  Has children      Straight  1.247120  \n",
       "2  College or more    35 - 64  Has children      Straight  0.515746  \n",
       "3     Some college  65 and up  Has children     No answer  0.600640  \n",
       "4  College or more    35 - 64   No children      Straight  1.033400  \n",
       "\n",
       "[5 rows x 98 columns]"
      ]
     },
     "execution_count": 166,
     "metadata": {},
     "output_type": "execute_result"
    }
   ],
   "source": [
    "import pandas as pd\n",
    "\n",
    "survey = pd.read_csv(\"masculinity.csv\")\n",
    "survey.head()"
   ]
  },
  {
   "cell_type": "code",
   "execution_count": 29,
   "metadata": {},
   "outputs": [
    {
     "name": "stdout",
     "output_type": "stream",
     "text": [
      "Index(['Unnamed: 0', 'StartDate', 'EndDate', 'q0001', 'q0002', 'q0004_0001',\n",
      "       'q0004_0002', 'q0004_0003', 'q0004_0004', 'q0004_0005', 'q0004_0006',\n",
      "       'q0005', 'q0007_0001', 'q0007_0002', 'q0007_0003', 'q0007_0004',\n",
      "       'q0007_0005', 'q0007_0006', 'q0007_0007', 'q0007_0008', 'q0007_0009',\n",
      "       'q0007_0010', 'q0007_0011', 'q0008_0001', 'q0008_0002', 'q0008_0003',\n",
      "       'q0008_0004', 'q0008_0005', 'q0008_0006', 'q0008_0007', 'q0008_0008',\n",
      "       'q0008_0009', 'q0008_0010', 'q0008_0011', 'q0008_0012', 'q0009',\n",
      "       'q0010_0001', 'q0010_0002', 'q0010_0003', 'q0010_0004', 'q0010_0005',\n",
      "       'q0010_0006', 'q0010_0007', 'q0010_0008', 'q0011_0001', 'q0011_0002',\n",
      "       'q0011_0003', 'q0011_0004', 'q0011_0005', 'q0012_0001', 'q0012_0002',\n",
      "       'q0012_0003', 'q0012_0004', 'q0012_0005', 'q0012_0006', 'q0012_0007',\n",
      "       'q0013', 'q0014', 'q0015', 'q0017', 'q0018', 'q0019_0001', 'q0019_0002',\n",
      "       'q0019_0003', 'q0019_0004', 'q0019_0005', 'q0019_0006', 'q0019_0007',\n",
      "       'q0020_0001', 'q0020_0002', 'q0020_0003', 'q0020_0004', 'q0020_0005',\n",
      "       'q0020_0006', 'q0021_0001', 'q0021_0002', 'q0021_0003', 'q0021_0004',\n",
      "       'q0022', 'q0024', 'q0025_0001', 'q0025_0002', 'q0025_0003', 'q0026',\n",
      "       'q0028', 'q0029', 'q0030', 'q0034', 'q0035', 'q0036', 'race2',\n",
      "       'racethn4', 'educ3', 'educ4', 'age3', 'kids', 'orientation', 'weight'],\n",
      "      dtype='object')\n"
     ]
    }
   ],
   "source": [
    "#names of columns\n",
    "\n",
    "print(survey.columns)"
   ]
  },
  {
   "cell_type": "code",
   "execution_count": 30,
   "metadata": {},
   "outputs": [
    {
     "name": "stdout",
     "output_type": "stream",
     "text": [
      "1189\n"
     ]
    }
   ],
   "source": [
    "#number of rows\n",
    "\n",
    "print(len(survey))"
   ]
  },
  {
   "cell_type": "code",
   "execution_count": 31,
   "metadata": {},
   "outputs": [
    {
     "data": {
      "text/plain": [
       "Index(['q0007_0001', 'q0007_0002', 'q0007_0003', 'q0007_0004', 'q0007_0005',\n",
       "       'q0007_0006', 'q0007_0007', 'q0007_0008', 'q0007_0009', 'q0007_0010',\n",
       "       'q0007_0011'],\n",
       "      dtype='object')"
      ]
     },
     "execution_count": 31,
     "metadata": {},
     "output_type": "execute_result"
    }
   ],
   "source": [
    "#multiple questions for question 7 is broken down like below\n",
    "\n",
    "survey.filter(like = 'q0007_').columns"
   ]
  },
  {
   "cell_type": "code",
   "execution_count": 32,
   "metadata": {},
   "outputs": [
    {
     "name": "stdout",
     "output_type": "stream",
     "text": [
      "142\n"
     ]
    }
   ],
   "source": [
    "#how many responded with 'Often' in question 7.1\n",
    "\n",
    "question7_1 = survey[survey['q0007_0001'] == 'Often']\n",
    "print(len(question7_1['q0007_0001']))"
   ]
  },
  {
   "cell_type": "markdown",
   "metadata": {},
   "source": [
    "# Mapping the Data\n",
    "\n",
    "In order for us to start thinking about using the KMeans algorithm with this data, we need to first figure out how to turn these responses into numerical data. Let's once again consider question 7. We can't cluster the data using the phrases `\"Often\"` or `\"Rarely\"`, but we can turn those phrases into numbers. For example, we could map the data in the following way: \n",
    "* `\"Often\"` -> `4`\n",
    "* `\"Sometimes\"` ->  `3`\n",
    "* `\"Rarely\"` -> `2` \n",
    "* `\"Never, but open to it\"` -> `1`\n",
    "* `\"Never, and not open to it\"` -> `0`.\n",
    "\n",
    "Note that it's important that these responses are somewhat linear. `\"Often\"` is at one end of the spectrum with `\"Never, and not open to it\"` at the other. The other values fall in sequence between the two. You could perform a similar mapping for the `\"educ4\"` responses (question 29), but there isn't an obvious linear progression in the `\"racethn4\"` responses (question 28).\n",
    "\n",
    "In order to do this transformation, use the `map()` function. `map()` takes a dictionary as a parameter. For example, the following line of code would turn all the `\"A\"`s into `1`s and all the `\"B\"`s into `2`s in the column `\"col_one\"`.\n",
    "\n",
    "```py\n",
    "df[\"col_one\"] = df[\"col_one\"].map({\"A\": 1, \"B\": 2})\n",
    "```\n",
    "\n",
    "We've given you a list of the columns that should be mapped. Loop through the values of the list and map each column using the mapping described above.\n",
    "\n",
    "Be careful of your spelling! Punctuation and whitespace is important. Take a look at the `value_counts()` of one of these columns to see if the mapping worked.\n"
   ]
  },
  {
   "cell_type": "code",
   "execution_count": 33,
   "metadata": {},
   "outputs": [
    {
     "name": "stdout",
     "output_type": "stream",
     "text": [
      "0       4.0\n",
      "1       2.0\n",
      "2       3.0\n",
      "3       2.0\n",
      "4       3.0\n",
      "       ... \n",
      "1184    3.0\n",
      "1185    3.0\n",
      "1186    4.0\n",
      "1187    1.0\n",
      "1188    2.0\n",
      "Name: q0007_0001, Length: 1189, dtype: float64\n"
     ]
    }
   ],
   "source": [
    "cols_to_map = [\"q0007_0001\", \"q0007_0002\", \"q0007_0003\", \"q0007_0004\",\n",
    "       \"q0007_0005\", \"q0007_0006\", \"q0007_0007\", \"q0007_0008\", \"q0007_0009\",\n",
    "       \"q0007_0010\", \"q0007_0011\"]\n",
    "\n",
    "for i in cols_to_map:\n",
    "    #print(i)\n",
    "    survey[i] = survey[i].map({\"Often\": 4, \"Sometimes\": 3, \"Rarely\": 2, \"Never, but open to it\": 1, \"Never, and not open to it\": 0})\n",
    "    \n",
    "#print(survey['q0007_0001'])"
   ]
  },
  {
   "cell_type": "markdown",
   "metadata": {},
   "source": [
    "# Plotting the Data\n",
    "\n",
    "We now have 11 different features that we could use in our KMeans algorithm. Before we jump into clustering, let's graph some of these features on a 2D graph. Call `plt.scatter` using `survey[\"q0007_0001\"]` and `survey[\"q0007_0002\"]` as parameters. Include `alpha = 0.1`. We want to include `alpha` because many of the data points will be on top of each other. Adding `alpha` will make the points appear more solid if there are many stacked on top of each other.\n",
    "\n",
    "Include axis labels on your graph. The x-axis corresponds with the first column you gave the `scatter()` function. So in this case, it corresponds to the question about asking a friend for professional advice.\n",
    "\n",
    "Does it make sense that there are few points in the top left and bottom right corners of the graph? Why? Try graphing other dimensions against each other. Are there any combinations that give you surprising results?\n"
   ]
  },
  {
   "cell_type": "code",
   "execution_count": 34,
   "metadata": {},
   "outputs": [
    {
     "data": {
      "image/png": "[encoded data removed]",
      "text/plain": [
       "<Figure size 432x288 with 1 Axes>"
      ]
     },
     "metadata": {
      "needs_background": "light"
     },
     "output_type": "display_data"
    }
   ],
   "source": [
    "from matplotlib import pyplot as plt\n",
    "\n",
    "plt.scatter(survey['q0007_0001'], survey['q0007_0002'], alpha = 0.1)\n",
    "plt.xlabel(\"Asking a Friend for Professional Advice\")\n",
    "plt.ylabel(\"Asking a Friend for Personal Advice\")\n",
    "plt.show()"
   ]
  },
  {
   "cell_type": "markdown",
   "metadata": {},
   "source": [
    "# Build the KMeans Model\n",
    "\n",
    "It's now time to start clustering! There are so many interesting questions we could ask about this data. Let's start by seeing if clusters form based on traditionally masculine concepts. \n",
    "\n",
    "Take a look at the first four sub-questions in question 7. Those four activities aren't necessarily seen as traditionally masculine. On the other hand, sub-questions 5, 8, and 9 are often seen as very masculine activities. What would happen if we found 2 clusters based on those 7 questions? Would we find clusters that represent traditionally feminine and traditionally masculine people? Let's find out.\n",
    "\n",
    "We need to first drop all of the rows that contain a `NaN` value in any of the columns we're interested in. Create a new variable named `rows_to_cluster` and set it equal to the result of calling `dropna` on `survey`. `dropna` should have a parameter `subset` equal to a list of the 7 columns we want. If you don't include `subset`, the function will drop all rows that have an `NaN` in *any* column. This would drop almost all the rows in the dataframe!\n",
    "\n",
    "Create a `KMeans` object named `classifier` where `n_clusters = 2`. Call `classifier`'s `.fit()` method. The parameter of `.fit()` should be the 7 columns we're interested in. For example, the following line of code will fit the model based on the columns `\"col_one\"` and `\"col_two\"` of the Dataframe `df`. \n",
    "\n",
    "```py\n",
    "classifier.fit(df[[\"col_one\", \"col_two\"]])\n",
    "```\n",
    "\n",
    "Make sure to only include the columns that you want to train off of. Make sure to use `rows_to_cluster` rather than `survey` to avoid including those `NaN`s!\n",
    "\n",
    "\n",
    "\n",
    "After fitting your model, print out the model's `cluster_centers_`.\n"
   ]
  },
  {
   "cell_type": "code",
   "execution_count": 38,
   "metadata": {},
   "outputs": [
    {
     "data": {
      "text/html": [
       "<div>\n",
       "<style scoped>\n",
       "    .dataframe tbody tr th:only-of-type {\n",
       "        vertical-align: middle;\n",
       "    }\n",
       "\n",
       "    .dataframe tbody tr th {\n",
       "        vertical-align: top;\n",
       "    }\n",
       "\n",
       "    .dataframe thead th {\n",
       "        text-align: right;\n",
       "    }\n",
       "</style>\n",
       "<table border=\"1\" class=\"dataframe\">\n",
       "  <thead>\n",
       "    <tr style=\"text-align: right;\">\n",
       "      <th></th>\n",
       "      <th>Unnamed: 0</th>\n",
       "      <th>StartDate</th>\n",
       "      <th>EndDate</th>\n",
       "      <th>q0001</th>\n",
       "      <th>q0002</th>\n",
       "      <th>q0004_0001</th>\n",
       "      <th>q0004_0002</th>\n",
       "      <th>q0004_0003</th>\n",
       "      <th>q0004_0004</th>\n",
       "      <th>q0004_0005</th>\n",
       "      <th>...</th>\n",
       "      <th>q0035</th>\n",
       "      <th>q0036</th>\n",
       "      <th>race2</th>\n",
       "      <th>racethn4</th>\n",
       "      <th>educ3</th>\n",
       "      <th>educ4</th>\n",
       "      <th>age3</th>\n",
       "      <th>kids</th>\n",
       "      <th>orientation</th>\n",
       "      <th>weight</th>\n",
       "    </tr>\n",
       "  </thead>\n",
       "  <tbody>\n",
       "    <tr>\n",
       "      <th>0</th>\n",
       "      <td>1</td>\n",
       "      <td>5/10/18 4:01</td>\n",
       "      <td>5/10/18 4:06</td>\n",
       "      <td>Somewhat masculine</td>\n",
       "      <td>Somewhat important</td>\n",
       "      <td>Not selected</td>\n",
       "      <td>Not selected</td>\n",
       "      <td>Not selected</td>\n",
       "      <td>Pop culture</td>\n",
       "      <td>Not selected</td>\n",
       "      <td>...</td>\n",
       "      <td>Middle Atlantic</td>\n",
       "      <td>Windows Desktop / Laptop</td>\n",
       "      <td>Non-white</td>\n",
       "      <td>Hispanic</td>\n",
       "      <td>College or more</td>\n",
       "      <td>College or more</td>\n",
       "      <td>35 - 64</td>\n",
       "      <td>No children</td>\n",
       "      <td>Gay/Bisexual</td>\n",
       "      <td>1.714026</td>\n",
       "    </tr>\n",
       "    <tr>\n",
       "      <th>2</th>\n",
       "      <td>3</td>\n",
       "      <td>5/10/18 7:02</td>\n",
       "      <td>5/10/18 7:09</td>\n",
       "      <td>Very masculine</td>\n",
       "      <td>Not too important</td>\n",
       "      <td>Father or father figure(s)</td>\n",
       "      <td>Not selected</td>\n",
       "      <td>Not selected</td>\n",
       "      <td>Not selected</td>\n",
       "      <td>Not selected</td>\n",
       "      <td>...</td>\n",
       "      <td>East North Central</td>\n",
       "      <td>Windows Desktop / Laptop</td>\n",
       "      <td>White</td>\n",
       "      <td>White</td>\n",
       "      <td>College or more</td>\n",
       "      <td>College or more</td>\n",
       "      <td>35 - 64</td>\n",
       "      <td>Has children</td>\n",
       "      <td>Straight</td>\n",
       "      <td>0.515746</td>\n",
       "    </tr>\n",
       "    <tr>\n",
       "      <th>3</th>\n",
       "      <td>4</td>\n",
       "      <td>5/10/18 7:27</td>\n",
       "      <td>5/10/18 7:31</td>\n",
       "      <td>Very masculine</td>\n",
       "      <td>Not too important</td>\n",
       "      <td>Father or father figure(s)</td>\n",
       "      <td>Mother or mother figure(s)</td>\n",
       "      <td>Other family members</td>\n",
       "      <td>Not selected</td>\n",
       "      <td>Not selected</td>\n",
       "      <td>...</td>\n",
       "      <td>East North Central</td>\n",
       "      <td>Windows Desktop / Laptop</td>\n",
       "      <td>White</td>\n",
       "      <td>White</td>\n",
       "      <td>Some college</td>\n",
       "      <td>Some college</td>\n",
       "      <td>65 and up</td>\n",
       "      <td>Has children</td>\n",
       "      <td>No answer</td>\n",
       "      <td>0.600640</td>\n",
       "    </tr>\n",
       "    <tr>\n",
       "      <th>4</th>\n",
       "      <td>5</td>\n",
       "      <td>5/10/18 7:35</td>\n",
       "      <td>5/10/18 7:42</td>\n",
       "      <td>Very masculine</td>\n",
       "      <td>Very important</td>\n",
       "      <td>Not selected</td>\n",
       "      <td>Not selected</td>\n",
       "      <td>Other family members</td>\n",
       "      <td>Not selected</td>\n",
       "      <td>Not selected</td>\n",
       "      <td>...</td>\n",
       "      <td>East North Central</td>\n",
       "      <td>Windows Desktop / Laptop</td>\n",
       "      <td>White</td>\n",
       "      <td>White</td>\n",
       "      <td>College or more</td>\n",
       "      <td>College or more</td>\n",
       "      <td>35 - 64</td>\n",
       "      <td>No children</td>\n",
       "      <td>Straight</td>\n",
       "      <td>1.033400</td>\n",
       "    </tr>\n",
       "    <tr>\n",
       "      <th>5</th>\n",
       "      <td>6</td>\n",
       "      <td>5/10/18 8:25</td>\n",
       "      <td>5/10/18 8:34</td>\n",
       "      <td>Very masculine</td>\n",
       "      <td>Somewhat important</td>\n",
       "      <td>Father or father figure(s)</td>\n",
       "      <td>Not selected</td>\n",
       "      <td>Not selected</td>\n",
       "      <td>Not selected</td>\n",
       "      <td>Not selected</td>\n",
       "      <td>...</td>\n",
       "      <td>East North Central</td>\n",
       "      <td>Windows Desktop / Laptop</td>\n",
       "      <td>White</td>\n",
       "      <td>White</td>\n",
       "      <td>College or more</td>\n",
       "      <td>Post graduate degree</td>\n",
       "      <td>65 and up</td>\n",
       "      <td>Has children</td>\n",
       "      <td>Straight</td>\n",
       "      <td>0.059087</td>\n",
       "    </tr>\n",
       "  </tbody>\n",
       "</table>\n",
       "<p>5 rows × 98 columns</p>\n",
       "</div>"
      ],
      "text/plain": [
       "   Unnamed: 0     StartDate       EndDate               q0001  \\\n",
       "0           1  5/10/18 4:01  5/10/18 4:06  Somewhat masculine   \n",
       "2           3  5/10/18 7:02  5/10/18 7:09      Very masculine   \n",
       "3           4  5/10/18 7:27  5/10/18 7:31      Very masculine   \n",
       "4           5  5/10/18 7:35  5/10/18 7:42      Very masculine   \n",
       "5           6  5/10/18 8:25  5/10/18 8:34      Very masculine   \n",
       "\n",
       "                q0002                  q0004_0001                  q0004_0002  \\\n",
       "0  Somewhat important                Not selected                Not selected   \n",
       "2   Not too important  Father or father figure(s)                Not selected   \n",
       "3   Not too important  Father or father figure(s)  Mother or mother figure(s)   \n",
       "4      Very important                Not selected                Not selected   \n",
       "5  Somewhat important  Father or father figure(s)                Not selected   \n",
       "\n",
       "             q0004_0003    q0004_0004    q0004_0005  ...               q0035  \\\n",
       "0          Not selected   Pop culture  Not selected  ...     Middle Atlantic   \n",
       "2          Not selected  Not selected  Not selected  ...  East North Central   \n",
       "3  Other family members  Not selected  Not selected  ...  East North Central   \n",
       "4  Other family members  Not selected  Not selected  ...  East North Central   \n",
       "5          Not selected  Not selected  Not selected  ...  East North Central   \n",
       "\n",
       "                      q0036      race2  racethn4            educ3  \\\n",
       "0  Windows Desktop / Laptop  Non-white  Hispanic  College or more   \n",
       "2  Windows Desktop / Laptop      White     White  College or more   \n",
       "3  Windows Desktop / Laptop      White     White     Some college   \n",
       "4  Windows Desktop / Laptop      White     White  College or more   \n",
       "5  Windows Desktop / Laptop      White     White  College or more   \n",
       "\n",
       "                  educ4       age3          kids   orientation    weight  \n",
       "0       College or more    35 - 64   No children  Gay/Bisexual  1.714026  \n",
       "2       College or more    35 - 64  Has children      Straight  0.515746  \n",
       "3          Some college  65 and up  Has children     No answer  0.600640  \n",
       "4       College or more    35 - 64   No children      Straight  1.033400  \n",
       "5  Post graduate degree  65 and up  Has children      Straight  0.059087  \n",
       "\n",
       "[5 rows x 98 columns]"
      ]
     },
     "execution_count": 38,
     "metadata": {},
     "output_type": "execute_result"
    }
   ],
   "source": [
    "rows_to_cluster = survey.dropna(subset = [\"q0007_0001\", \"q0007_0002\", \"q0007_0003\", \"q0007_0004\",\n",
    "       \"q0007_0005\", \"q0007_0006\", \"q0007_0007\", \"q0007_0008\", \"q0007_0009\",\n",
    "       \"q0007_0010\", \"q0007_0011\"])\n",
    "\n",
    "rows_to_cluster.head()"
   ]
  },
  {
   "cell_type": "code",
   "execution_count": 40,
   "metadata": {},
   "outputs": [
    {
     "data": {
      "text/plain": [
       "KMeans(n_clusters=2)"
      ]
     },
     "execution_count": 40,
     "metadata": {},
     "output_type": "execute_result"
    }
   ],
   "source": [
    "from sklearn.cluster import KMeans\n",
    "\n",
    "classifier = KMeans(n_clusters = 2) #feminine and masculine\n",
    "classifier.fit(rows_to_cluster[[\"q0007_0001\", \"q0007_0002\", \"q0007_0003\", \"q0007_0004\",\n",
    "       \"q0007_0005\", \"q0007_0006\", \"q0007_0007\", \"q0007_0008\", \"q0007_0009\",\n",
    "       \"q0007_0010\", \"q0007_0011\"]])"
   ]
  },
  {
   "cell_type": "code",
   "execution_count": 41,
   "metadata": {},
   "outputs": [
    {
     "name": "stdout",
     "output_type": "stream",
     "text": [
      "[[1.91099476 1.85602094 0.96596859 1.67277487 0.53664921 2.88481675\n",
      "  0.08376963 2.79842932 2.17277487 0.60994764 1.66492147]\n",
      " [2.85647426 2.83463339 2.84087363 2.43837754 0.71918877 2.7425897\n",
      "  0.52574103 2.97659906 2.80811232 1.53822153 2.39625585]]\n"
     ]
    }
   ],
   "source": [
    "print(classifier.cluster_centers_)"
   ]
  },
  {
   "cell_type": "markdown",
   "metadata": {},
   "source": [
    "# Separate the Cluster Members\n",
    "\n",
    "When we look at the two clusters, the first four numbers represent the traditionally feminine activities and the last three represent the traditionally masculine activities. If the data points separated into a feminine cluser and a masculine cluseter, we would expect to see one cluster to have high values for the first four numbers and the other cluster to have high values for the last three numbers.\n",
    "\n",
    "Instead, the first cluster has a higher value in every feature. Since a higher number means the person was more likely to \"often\" do something, the clusters seem to represent \"people who do things\" and \"people who don't do things\".\n",
    "\n",
    "We might be able to find out more information about these clusters by looking at the specific members of each cluster. Print `classifier.labels_`. This list shows which cluster every row in the DataFrame corresponds to.\n",
    "\n",
    "For example,  if `classifier.labels_` was `[1, 0 ,1]`, then the first row in the DataFrame would be in cluster one, the second row would be in cluster 0, and the third row would be in cluster one. A row represents one persons answers to every question in the survey.\n",
    "\n",
    "Create two new empty lists named `cluster_zero_indices` and `cluster_one_indices`. Loop through `classifier.labels_` and whenever a label is `0` add that index to `cluster_zero_indices`. Do the same whenever a label is a `1`.\n",
    "\n",
    "Print `cluster_zero_indices`"
   ]
  },
  {
   "cell_type": "code",
   "execution_count": 42,
   "metadata": {},
   "outputs": [
    {
     "name": "stdout",
     "output_type": "stream",
     "text": [
      "[1 1 0 ... 1 0 0]\n"
     ]
    }
   ],
   "source": [
    "#0 = cluster 0 (more masculine), 1 = cluster 1 (more feminine)\n",
    "\n",
    "print(classifier.labels_)"
   ]
  },
  {
   "cell_type": "code",
   "execution_count": 65,
   "metadata": {},
   "outputs": [
    {
     "name": "stdout",
     "output_type": "stream",
     "text": [
      "[2, 3, 5, 6, 8, 9, 11, 16, 17, 18, 25, 27, 31, 40, 45, 46, 48, 49, 50, 51, 52, 54, 55, 59, 60, 61, 62, 65, 71, 75, 81, 82, 83, 84, 85, 86, 87, 89, 90, 91, 92, 93, 96, 101, 102, 106, 108, 111, 113, 114, 118, 123, 124, 125, 126, 127, 129, 134, 136, 137, 138, 143, 149, 167, 171, 174, 179, 180, 181, 183, 185, 189, 191, 192, 194, 195, 198, 202, 205, 222, 224, 226, 229, 230, 233, 234, 241, 243, 253, 254, 257, 262, 265, 268, 272, 276, 277, 278, 284, 289, 292, 293, 294, 298, 303, 305, 310, 312, 316, 319, 327, 328, 329, 330, 335, 338, 339, 341, 346, 347, 350, 352, 353, 355, 361, 362, 370, 374, 375, 376, 377, 378, 381, 382, 383, 387, 393, 394, 396, 400, 401, 402, 403, 409, 412, 413, 416, 431, 433, 435, 437, 438, 439, 441, 443, 444, 445, 452, 454, 455, 456, 459, 460, 461, 462, 468, 469, 473, 474, 475, 476, 477, 478, 480, 482, 483, 486, 488, 492, 493, 494, 496, 499, 500, 504, 506, 509, 510, 512, 514, 515, 524, 528, 531, 532, 537, 538, 541, 542, 544, 545, 546, 547, 548, 551, 553, 554, 558, 560, 561, 566, 569, 570, 573, 574, 575, 583, 590, 596, 598, 600, 603, 606, 608, 611, 613, 614, 615, 616, 625, 627, 630, 631, 632, 635, 638, 645, 653, 657, 659, 661, 662, 663, 667, 668, 672, 673, 680, 685, 686, 693, 694, 695, 696, 697, 698, 701, 703, 708, 711, 714, 717, 718, 721, 722, 723, 724, 727, 731, 732, 738, 741, 742, 744, 746, 747, 748, 749, 750, 752, 753, 754, 755, 759, 760, 761, 763, 765, 771, 773, 775, 779, 780, 782, 784, 789, 793, 799, 801, 805, 810, 811, 816, 818, 820, 823, 825, 827, 830, 835, 839, 841, 842, 846, 847, 848, 849, 850, 851, 853, 855, 858, 860, 861, 863, 864, 865, 866, 867, 876, 879, 883, 884, 886, 887, 888, 893, 900, 906, 907, 913, 921, 924, 925, 929, 930, 932, 933, 936, 939, 940, 944, 946, 948, 950, 952, 954, 959, 961, 964, 966, 968, 972, 974, 975, 977, 992, 996, 997, 998, 999, 1002, 1003, 1005, 1008, 1010, 1011, 1014, 1015, 1017, 1021, 1022]\n",
      "[0, 1, 4, 7, 10, 12, 13, 14, 15, 19, 20, 21, 22, 23, 24, 26, 28, 29, 30, 32, 33, 34, 35, 36, 37, 38, 39, 41, 42, 43, 44, 47, 53, 56, 57, 58, 63, 64, 66, 67, 68, 69, 70, 72, 73, 74, 76, 77, 78, 79, 80, 88, 94, 95, 97, 98, 99, 100, 103, 104, 105, 107, 109, 110, 112, 115, 116, 117, 119, 120, 121, 122, 128, 130, 131, 132, 133, 135, 139, 140, 141, 142, 144, 145, 146, 147, 148, 150, 151, 152, 153, 154, 155, 156, 157, 158, 159, 160, 161, 162, 163, 164, 165, 166, 168, 169, 170, 172, 173, 175, 176, 177, 178, 182, 184, 186, 187, 188, 190, 193, 196, 197, 199, 200, 201, 203, 204, 206, 207, 208, 209, 210, 211, 212, 213, 214, 215, 216, 217, 218, 219, 220, 221, 223, 225, 227, 228, 231, 232, 235, 236, 237, 238, 239, 240, 242, 244, 245, 246, 247, 248, 249, 250, 251, 252, 255, 256, 258, 259, 260, 261, 263, 264, 266, 267, 269, 270, 271, 273, 274, 275, 279, 280, 281, 282, 283, 285, 286, 287, 288, 290, 291, 295, 296, 297, 299, 300, 301, 302, 304, 306, 307, 308, 309, 311, 313, 314, 315, 317, 318, 320, 321, 322, 323, 324, 325, 326, 331, 332, 333, 334, 336, 337, 340, 342, 343, 344, 345, 348, 349, 351, 354, 356, 357, 358, 359, 360, 363, 364, 365, 366, 367, 368, 369, 371, 372, 373, 379, 380, 384, 385, 386, 388, 389, 390, 391, 392, 395, 397, 398, 399, 404, 405, 406, 407, 408, 410, 411, 414, 415, 417, 418, 419, 420, 421, 422, 423, 424, 425, 426, 427, 428, 429, 430, 432, 434, 436, 440, 442, 446, 447, 448, 449, 450, 451, 453, 457, 458, 463, 464, 465, 466, 467, 470, 471, 472, 479, 481, 484, 485, 487, 489, 490, 491, 495, 497, 498, 501, 502, 503, 505, 507, 508, 511, 513, 516, 517, 518, 519, 520, 521, 522, 523, 525, 526, 527, 529, 530, 533, 534, 535, 536, 539, 540, 543, 549, 550, 552, 555, 556, 557, 559, 562, 563, 564, 565, 567, 568, 571, 572, 576, 577, 578, 579, 580, 581, 582, 584, 585, 586, 587, 588, 589, 591, 592, 593, 594, 595, 597, 599, 601, 602, 604, 605, 607, 609, 610, 612, 617, 618, 619, 620, 621, 622, 623, 624, 626, 628, 629, 633, 634, 636, 637, 639, 640, 641, 642, 643, 644, 646, 647, 648, 649, 650, 651, 652, 654, 655, 656, 658, 660, 664, 665, 666, 669, 670, 671, 674, 675, 676, 677, 678, 679, 681, 682, 683, 684, 687, 688, 689, 690, 691, 692, 699, 700, 702, 704, 705, 706, 707, 709, 710, 712, 713, 715, 716, 719, 720, 725, 726, 728, 729, 730, 733, 734, 735, 736, 737, 739, 740, 743, 745, 751, 756, 757, 758, 762, 764, 766, 767, 768, 769, 770, 772, 774, 776, 777, 778, 781, 783, 785, 786, 787, 788, 790, 791, 792, 794, 795, 796, 797, 798, 800, 802, 803, 804, 806, 807, 808, 809, 812, 813, 814, 815, 817, 819, 821, 822, 824, 826, 828, 829, 831, 832, 833, 834, 836, 837, 838, 840, 843, 844, 845, 852, 854, 856, 857, 859, 862, 868, 869, 870, 871, 872, 873, 874, 875, 877, 878, 880, 881, 882, 885, 889, 890, 891, 892, 894, 895, 896, 897, 898, 899, 901, 902, 903, 904, 905, 908, 909, 910, 911, 912, 914, 915, 916, 917, 918, 919, 920, 922, 923, 926, 927, 928, 931, 934, 935, 937, 938, 941, 942, 943, 945, 947, 949, 951, 953, 955, 956, 957, 958, 960, 962, 963, 965, 967, 969, 970, 971, 973, 976, 978, 979, 980, 981, 982, 983, 984, 985, 986, 987, 988, 989, 990, 991, 993, 994, 995, 1000, 1001, 1004, 1006, 1007, 1009, 1012, 1013, 1016, 1018, 1019, 1020]\n"
     ]
    }
   ],
   "source": [
    "cluster_zero_indices = []\n",
    "cluster_one_indices = []\n",
    "\n",
    "for i in range(len(classifier.labels_)):\n",
    "    #print(i)\n",
    "    if classifier.labels_[i] == 0:\n",
    "        cluster_zero_indices.append(i)\n",
    "    elif classifier.labels_[i] == 1:\n",
    "        cluster_one_indices.append(i)\n",
    "        \n",
    "print(cluster_zero_indices)\n",
    "print(cluster_one_indices)\n",
    "#the indices of the entire dataframe is divided by clusters"
   ]
  },
  {
   "cell_type": "markdown",
   "metadata": {},
   "source": [
    "# Investigate the Cluster Members\n",
    "\n",
    "Now that we have the indices for each cluster, let's look at some stats about these two clusters. You can get the rows of the DataFrame that correspond to cluster zero by doing the following:\n",
    "\n",
    "```py\n",
    "cluster_zero_df = rows_to_cluster.iloc[cluster_zero_indices]\n",
    "```\n",
    "\n",
    "Do the same for `cluster_one_df`.\n",
    "\n",
    "Finally, let's look at some information about these two clusters. Print the `value_counts()` of the `educ4` column of each cluster. What do you notice? Try looking at different columns. For example, are the people in cluster zero significantly older than those in cluster one? You can look at the `age3` column to see.\n",
    "\n",
    "If you divide the result of `value_counts()` by the size of the cluster, you get the percentage of people in each category rather than the total number. This will make it easier to compare the two clusters."
   ]
  },
  {
   "cell_type": "code",
   "execution_count": 61,
   "metadata": {
    "scrolled": true
   },
   "outputs": [
    {
     "name": "stdout",
     "output_type": "stream",
     "text": [
      "3               Some college\n",
      "4            College or more\n",
      "6       Post graduate degree\n",
      "7            College or more\n",
      "9       Post graduate degree\n",
      "                ...         \n",
      "1178         College or more\n",
      "1179            Some college\n",
      "1182         College or more\n",
      "1187         College or more\n",
      "1188                     NaN\n",
      "Name: educ4, Length: 382, dtype: object\n"
     ]
    }
   ],
   "source": [
    "cluster_zero_df = rows_to_cluster.iloc[cluster_zero_indices]\n",
    "print(cluster_zero_df['educ4'])"
   ]
  },
  {
   "cell_type": "code",
   "execution_count": 62,
   "metadata": {},
   "outputs": [
    {
     "name": "stdout",
     "output_type": "stream",
     "text": [
      "College or more         0.319372\n",
      "Some college            0.295812\n",
      "Post graduate degree    0.256545\n",
      "High school or less     0.125654\n",
      "Name: educ4, dtype: float64\n"
     ]
    }
   ],
   "source": [
    "print(cluster_zero_df['educ4'].value_counts() / len(cluster_zero_df))"
   ]
  },
  {
   "cell_type": "code",
   "execution_count": 58,
   "metadata": {},
   "outputs": [
    {
     "name": "stdout",
     "output_type": "stream",
     "text": [
      "0            College or more\n",
      "2            College or more\n",
      "5       Post graduate degree\n",
      "8               Some college\n",
      "11              Some college\n",
      "                ...         \n",
      "1175            Some college\n",
      "1181            Some college\n",
      "1183         College or more\n",
      "1185     High school or less\n",
      "1186            Some college\n",
      "Name: educ4, Length: 641, dtype: object\n"
     ]
    }
   ],
   "source": [
    "cluster_one_df = rows_to_cluster.iloc[cluster_one_indices]\n",
    "print(cluster_one_df['educ4'])"
   ]
  },
  {
   "cell_type": "code",
   "execution_count": 63,
   "metadata": {},
   "outputs": [
    {
     "name": "stdout",
     "output_type": "stream",
     "text": [
      "Post graduate degree    0.369735\n",
      "College or more         0.313573\n",
      "Some college            0.235569\n",
      "High school or less     0.081123\n",
      "Name: educ4, dtype: float64\n"
     ]
    }
   ],
   "source": [
    "print(cluster_one_df['educ4'].value_counts() / len(cluster_one_df))"
   ]
  },
  {
   "cell_type": "markdown",
   "metadata": {},
   "source": [
    "# Explore on Your Own\n",
    "\n",
    "Great work! You've found out that by answering those 7 questions people don't fall into a \"masculine\" category or a \"feminine\" category. Instead, they seem to be divided by their level of education!\n",
    "\n",
    "Now it's time for you to explore this data on your own. In this project, we've really focused on question 7 and its sub-questions. Take a look at some of the other questions in the survey and try to ask yourself some interesting questions. Here's a list of questions you could dive into:\n",
    "\n",
    "* Which demographic features have stronger correlations with ideas of masculinity (sexual orientation, age, race, marital status, parenthood?)\n",
    "* Are certain beliefs or actions linked to more self-described masculine or feminine individuals?\n",
    "* How do insecurities change as people grow older?\n",
    "\n",
    "\n",
    "Special thanks to the team at FiveThirtyEight and specifically Dhrumil Mehta for giving us access to the data!\n"
   ]
  },
  {
   "cell_type": "markdown",
   "metadata": {},
   "source": [
    "### Map the Data"
   ]
  },
  {
   "cell_type": "code",
   "execution_count": 90,
   "metadata": {},
   "outputs": [
    {
     "data": {
      "text/html": [
       "<div>\n",
       "<style scoped>\n",
       "    .dataframe tbody tr th:only-of-type {\n",
       "        vertical-align: middle;\n",
       "    }\n",
       "\n",
       "    .dataframe tbody tr th {\n",
       "        vertical-align: top;\n",
       "    }\n",
       "\n",
       "    .dataframe thead th {\n",
       "        text-align: right;\n",
       "    }\n",
       "</style>\n",
       "<table border=\"1\" class=\"dataframe\">\n",
       "  <thead>\n",
       "    <tr style=\"text-align: right;\">\n",
       "      <th></th>\n",
       "      <th>q0001</th>\n",
       "      <th>q0024</th>\n",
       "      <th>q0025_0001</th>\n",
       "      <th>q0025_0002</th>\n",
       "      <th>q0025_0003</th>\n",
       "      <th>q0026</th>\n",
       "      <th>q0028</th>\n",
       "      <th>q0029</th>\n",
       "    </tr>\n",
       "  </thead>\n",
       "  <tbody>\n",
       "    <tr>\n",
       "      <th>0</th>\n",
       "      <td>Somewhat masculine</td>\n",
       "      <td>Never married</td>\n",
       "      <td>Not selected</td>\n",
       "      <td>Not selected</td>\n",
       "      <td>No children</td>\n",
       "      <td>Gay</td>\n",
       "      <td>Hispanic</td>\n",
       "      <td>College graduate</td>\n",
       "    </tr>\n",
       "    <tr>\n",
       "      <th>1</th>\n",
       "      <td>Somewhat masculine</td>\n",
       "      <td>Widowed</td>\n",
       "      <td>Not selected</td>\n",
       "      <td>Yes, one or more children 18 or older</td>\n",
       "      <td>Not selected</td>\n",
       "      <td>Straight</td>\n",
       "      <td>White</td>\n",
       "      <td>Some college</td>\n",
       "    </tr>\n",
       "    <tr>\n",
       "      <th>2</th>\n",
       "      <td>Very masculine</td>\n",
       "      <td>Married</td>\n",
       "      <td>Not selected</td>\n",
       "      <td>Yes, one or more children 18 or older</td>\n",
       "      <td>Not selected</td>\n",
       "      <td>Straight</td>\n",
       "      <td>White</td>\n",
       "      <td>College graduate</td>\n",
       "    </tr>\n",
       "    <tr>\n",
       "      <th>3</th>\n",
       "      <td>Very masculine</td>\n",
       "      <td>Married</td>\n",
       "      <td>Not selected</td>\n",
       "      <td>Yes, one or more children 18 or older</td>\n",
       "      <td>Not selected</td>\n",
       "      <td>No answer</td>\n",
       "      <td>White</td>\n",
       "      <td>Some college</td>\n",
       "    </tr>\n",
       "    <tr>\n",
       "      <th>4</th>\n",
       "      <td>Very masculine</td>\n",
       "      <td>Never married</td>\n",
       "      <td>Not selected</td>\n",
       "      <td>Not selected</td>\n",
       "      <td>No children</td>\n",
       "      <td>Straight</td>\n",
       "      <td>White</td>\n",
       "      <td>College graduate</td>\n",
       "    </tr>\n",
       "    <tr>\n",
       "      <th>...</th>\n",
       "      <td>...</td>\n",
       "      <td>...</td>\n",
       "      <td>...</td>\n",
       "      <td>...</td>\n",
       "      <td>...</td>\n",
       "      <td>...</td>\n",
       "      <td>...</td>\n",
       "      <td>...</td>\n",
       "    </tr>\n",
       "    <tr>\n",
       "      <th>1184</th>\n",
       "      <td>Somewhat masculine</td>\n",
       "      <td>Divorced</td>\n",
       "      <td>Not selected</td>\n",
       "      <td>Not selected</td>\n",
       "      <td>No children</td>\n",
       "      <td>Bisexual</td>\n",
       "      <td>Other</td>\n",
       "      <td>Some college</td>\n",
       "    </tr>\n",
       "    <tr>\n",
       "      <th>1185</th>\n",
       "      <td>Somewhat masculine</td>\n",
       "      <td>Married</td>\n",
       "      <td>Not selected</td>\n",
       "      <td>Yes, one or more children 18 or older</td>\n",
       "      <td>Not selected</td>\n",
       "      <td>Straight</td>\n",
       "      <td>White</td>\n",
       "      <td>High school or G.E.D.</td>\n",
       "    </tr>\n",
       "    <tr>\n",
       "      <th>1186</th>\n",
       "      <td>Very masculine</td>\n",
       "      <td>Married</td>\n",
       "      <td>Not selected</td>\n",
       "      <td>Yes, one or more children 18 or older</td>\n",
       "      <td>Not selected</td>\n",
       "      <td>Straight</td>\n",
       "      <td>White</td>\n",
       "      <td>Some college</td>\n",
       "    </tr>\n",
       "    <tr>\n",
       "      <th>1187</th>\n",
       "      <td>Somewhat masculine</td>\n",
       "      <td>Never married</td>\n",
       "      <td>Not selected</td>\n",
       "      <td>Not selected</td>\n",
       "      <td>No children</td>\n",
       "      <td>Straight</td>\n",
       "      <td>Asian</td>\n",
       "      <td>College graduate</td>\n",
       "    </tr>\n",
       "    <tr>\n",
       "      <th>1188</th>\n",
       "      <td>Somewhat masculine</td>\n",
       "      <td>Never married</td>\n",
       "      <td>Not selected</td>\n",
       "      <td>Not selected</td>\n",
       "      <td>No children</td>\n",
       "      <td>Straight</td>\n",
       "      <td>White</td>\n",
       "      <td>High school or G.E.D.</td>\n",
       "    </tr>\n",
       "  </tbody>\n",
       "</table>\n",
       "<p>1189 rows × 8 columns</p>\n",
       "</div>"
      ],
      "text/plain": [
       "                   q0001          q0024    q0025_0001  \\\n",
       "0     Somewhat masculine  Never married  Not selected   \n",
       "1     Somewhat masculine        Widowed  Not selected   \n",
       "2         Very masculine        Married  Not selected   \n",
       "3         Very masculine        Married  Not selected   \n",
       "4         Very masculine  Never married  Not selected   \n",
       "...                  ...            ...           ...   \n",
       "1184  Somewhat masculine       Divorced  Not selected   \n",
       "1185  Somewhat masculine        Married  Not selected   \n",
       "1186      Very masculine        Married  Not selected   \n",
       "1187  Somewhat masculine  Never married  Not selected   \n",
       "1188  Somewhat masculine  Never married  Not selected   \n",
       "\n",
       "                                 q0025_0002    q0025_0003      q0026  \\\n",
       "0                              Not selected   No children        Gay   \n",
       "1     Yes, one or more children 18 or older  Not selected   Straight   \n",
       "2     Yes, one or more children 18 or older  Not selected   Straight   \n",
       "3     Yes, one or more children 18 or older  Not selected  No answer   \n",
       "4                              Not selected   No children   Straight   \n",
       "...                                     ...           ...        ...   \n",
       "1184                           Not selected   No children   Bisexual   \n",
       "1185  Yes, one or more children 18 or older  Not selected   Straight   \n",
       "1186  Yes, one or more children 18 or older  Not selected   Straight   \n",
       "1187                           Not selected   No children   Straight   \n",
       "1188                           Not selected   No children   Straight   \n",
       "\n",
       "         q0028                  q0029  \n",
       "0     Hispanic       College graduate  \n",
       "1        White           Some college  \n",
       "2        White       College graduate  \n",
       "3        White           Some college  \n",
       "4        White       College graduate  \n",
       "...        ...                    ...  \n",
       "1184     Other           Some college  \n",
       "1185     White  High school or G.E.D.  \n",
       "1186     White           Some college  \n",
       "1187     Asian       College graduate  \n",
       "1188     White  High school or G.E.D.  \n",
       "\n",
       "[1189 rows x 8 columns]"
      ]
     },
     "execution_count": 90,
     "metadata": {},
     "output_type": "execute_result"
    }
   ],
   "source": [
    "#let's view question 1 vs. the demographics\n",
    "\n",
    "survey.filter(['q0001', 'q0024', 'q0025_0001', 'q0025_0002', 'q0025_0003', 'q0026',\n",
    "       'q0028', 'q0029'])"
   ]
  },
  {
   "cell_type": "code",
   "execution_count": 167,
   "metadata": {},
   "outputs": [],
   "source": [
    "survey['q0001'] = survey['q0001'].map({'Very masculine': 4, 'Somewhat masculine': 3, 'Not very masculine': 2, 'Not at all masculine': 1})\n",
    "#print(survey['q0001'])\n",
    "\n",
    "\n",
    "survey['q0024'] = survey['q0024'].map({'Married': 5, 'Widowed': 4, 'Divorced': 3, 'Separated': 2, 'Never married': 1})\n",
    "#print(survey['q0024'])\n",
    "\n",
    "\n",
    "survey['q0026'] = survey['q0026'].map({'Straight': 4, 'Gay': 3, 'Bisexual': 2, 'Other': 1})\n",
    "#print(survey['q0026'])\n",
    "\n",
    "\n",
    "survey['q0028'] = survey['q0028'].map({'White': 5, 'Black': 4, 'Hispanic': 3, 'Asian': 2, 'Other': 1})\n",
    "#print(survey['q0028'])\n",
    "\n",
    "\n",
    "survey['q0029'] = survey['q0029'].map({'Post graduate degree': 6, 'College graduate': 5, 'Some college': 4, \"Associate's degree\": 3, 'High school or G.E.D.': 2, 'Did not complete high school': 1})\n",
    "#print(survey['q0029'])"
   ]
  },
  {
   "cell_type": "code",
   "execution_count": 168,
   "metadata": {},
   "outputs": [],
   "source": [
    "survey['q0025_0001'] = survey['q0025_0001'].map({'Yes, one or more children under 18': 1})\n",
    "survey['q0025_0002'] = survey['q0025_0002'].map({'Yes, one or more children 18 or older': 1})\n",
    "survey['q0025_0003'] = survey['q0025_0003'].map({'No children': 0})\n",
    "\n",
    "#survey.filter(['q0025_0001', 'q0025_0002', 'q0025_0003'])"
   ]
  },
  {
   "cell_type": "code",
   "execution_count": 169,
   "metadata": {},
   "outputs": [],
   "source": [
    "survey['q0025'] = survey['q0025_0001'].fillna(survey['q0025_0002'])\n",
    "survey['q0025'] = survey['q0025'].fillna(survey['q0025_0003'])\n",
    "#survey.filter(['q0025'])"
   ]
  },
  {
   "cell_type": "code",
   "execution_count": 170,
   "metadata": {},
   "outputs": [
    {
     "data": {
      "text/html": [
       "<div>\n",
       "<style scoped>\n",
       "    .dataframe tbody tr th:only-of-type {\n",
       "        vertical-align: middle;\n",
       "    }\n",
       "\n",
       "    .dataframe tbody tr th {\n",
       "        vertical-align: top;\n",
       "    }\n",
       "\n",
       "    .dataframe thead th {\n",
       "        text-align: right;\n",
       "    }\n",
       "</style>\n",
       "<table border=\"1\" class=\"dataframe\">\n",
       "  <thead>\n",
       "    <tr style=\"text-align: right;\">\n",
       "      <th></th>\n",
       "      <th>q0001</th>\n",
       "      <th>q0024</th>\n",
       "      <th>q0025</th>\n",
       "      <th>q0026</th>\n",
       "      <th>q0028</th>\n",
       "      <th>q0029</th>\n",
       "    </tr>\n",
       "  </thead>\n",
       "  <tbody>\n",
       "    <tr>\n",
       "      <th>0</th>\n",
       "      <td>3.0</td>\n",
       "      <td>1.0</td>\n",
       "      <td>0.0</td>\n",
       "      <td>3.0</td>\n",
       "      <td>3</td>\n",
       "      <td>5</td>\n",
       "    </tr>\n",
       "    <tr>\n",
       "      <th>1</th>\n",
       "      <td>3.0</td>\n",
       "      <td>4.0</td>\n",
       "      <td>1.0</td>\n",
       "      <td>4.0</td>\n",
       "      <td>5</td>\n",
       "      <td>4</td>\n",
       "    </tr>\n",
       "    <tr>\n",
       "      <th>2</th>\n",
       "      <td>4.0</td>\n",
       "      <td>5.0</td>\n",
       "      <td>1.0</td>\n",
       "      <td>4.0</td>\n",
       "      <td>5</td>\n",
       "      <td>5</td>\n",
       "    </tr>\n",
       "    <tr>\n",
       "      <th>3</th>\n",
       "      <td>4.0</td>\n",
       "      <td>5.0</td>\n",
       "      <td>1.0</td>\n",
       "      <td>NaN</td>\n",
       "      <td>5</td>\n",
       "      <td>4</td>\n",
       "    </tr>\n",
       "    <tr>\n",
       "      <th>4</th>\n",
       "      <td>4.0</td>\n",
       "      <td>1.0</td>\n",
       "      <td>0.0</td>\n",
       "      <td>4.0</td>\n",
       "      <td>5</td>\n",
       "      <td>5</td>\n",
       "    </tr>\n",
       "    <tr>\n",
       "      <th>...</th>\n",
       "      <td>...</td>\n",
       "      <td>...</td>\n",
       "      <td>...</td>\n",
       "      <td>...</td>\n",
       "      <td>...</td>\n",
       "      <td>...</td>\n",
       "    </tr>\n",
       "    <tr>\n",
       "      <th>1184</th>\n",
       "      <td>3.0</td>\n",
       "      <td>3.0</td>\n",
       "      <td>0.0</td>\n",
       "      <td>2.0</td>\n",
       "      <td>1</td>\n",
       "      <td>4</td>\n",
       "    </tr>\n",
       "    <tr>\n",
       "      <th>1185</th>\n",
       "      <td>3.0</td>\n",
       "      <td>5.0</td>\n",
       "      <td>1.0</td>\n",
       "      <td>4.0</td>\n",
       "      <td>5</td>\n",
       "      <td>2</td>\n",
       "    </tr>\n",
       "    <tr>\n",
       "      <th>1186</th>\n",
       "      <td>4.0</td>\n",
       "      <td>5.0</td>\n",
       "      <td>1.0</td>\n",
       "      <td>4.0</td>\n",
       "      <td>5</td>\n",
       "      <td>4</td>\n",
       "    </tr>\n",
       "    <tr>\n",
       "      <th>1187</th>\n",
       "      <td>3.0</td>\n",
       "      <td>1.0</td>\n",
       "      <td>0.0</td>\n",
       "      <td>4.0</td>\n",
       "      <td>2</td>\n",
       "      <td>5</td>\n",
       "    </tr>\n",
       "    <tr>\n",
       "      <th>1188</th>\n",
       "      <td>3.0</td>\n",
       "      <td>1.0</td>\n",
       "      <td>0.0</td>\n",
       "      <td>4.0</td>\n",
       "      <td>5</td>\n",
       "      <td>2</td>\n",
       "    </tr>\n",
       "  </tbody>\n",
       "</table>\n",
       "<p>1189 rows × 6 columns</p>\n",
       "</div>"
      ],
      "text/plain": [
       "      q0001  q0024  q0025  q0026  q0028  q0029\n",
       "0       3.0    1.0    0.0    3.0      3      5\n",
       "1       3.0    4.0    1.0    4.0      5      4\n",
       "2       4.0    5.0    1.0    4.0      5      5\n",
       "3       4.0    5.0    1.0    NaN      5      4\n",
       "4       4.0    1.0    0.0    4.0      5      5\n",
       "...     ...    ...    ...    ...    ...    ...\n",
       "1184    3.0    3.0    0.0    2.0      1      4\n",
       "1185    3.0    5.0    1.0    4.0      5      2\n",
       "1186    4.0    5.0    1.0    4.0      5      4\n",
       "1187    3.0    1.0    0.0    4.0      2      5\n",
       "1188    3.0    1.0    0.0    4.0      5      2\n",
       "\n",
       "[1189 rows x 6 columns]"
      ]
     },
     "execution_count": 170,
     "metadata": {},
     "output_type": "execute_result"
    }
   ],
   "source": [
    "survey.filter(['q0001', 'q0024', 'q0025', 'q0026', 'q0028', 'q0029'])"
   ]
  },
  {
   "cell_type": "markdown",
   "metadata": {},
   "source": [
    "### Plot the Data"
   ]
  },
  {
   "cell_type": "code",
   "execution_count": 177,
   "metadata": {},
   "outputs": [
    {
     "data": {
      "image/png": "[encoded data removed]",
      "text/plain": [
       "<Figure size 1080x1080 with 5 Axes>"
      ]
     },
     "metadata": {
      "needs_background": "light"
     },
     "output_type": "display_data"
    }
   ],
   "source": [
    "fig = plt.figure(figsize = (15, 15))\n",
    "plt.subplots_adjust(hspace = 0.5)\n",
    "\n",
    "plt.subplot(3, 2, 1)\n",
    "plt.scatter(survey['q0001'], survey['q0024'], color = 'salmon', alpha = 0.5)\n",
    "plt.title(\"Relationship Status\")\n",
    "plt.xlabel(\"How Masculine Do You Feel?\")\n",
    "\n",
    "plt.subplot(3, 2, 2)\n",
    "plt.scatter(survey['q0001'], survey['q0025'], color = 'teal', alpha = 0.5)\n",
    "plt.title('Do You Have Children?')\n",
    "plt.xlabel(\"How Masculine Do You Feel?\")\n",
    "\n",
    "plt.subplot(3, 2, 3)\n",
    "plt.scatter(survey['q0001'], survey['q0026'], color = 'gold', alpha = 0.5)\n",
    "plt.title('Sexual Orientation')\n",
    "plt.xlabel(\"How Masculine Do You Feel?\")\n",
    "\n",
    "plt.subplot(3, 2, 4)\n",
    "plt.scatter(survey['q0001'], survey['q0028'], color = 'purple', alpha = 0.5)\n",
    "plt.title('Ethnicity')\n",
    "plt.xlabel(\"How Masculine Do You Feel?\")\n",
    "\n",
    "plt.subplot(3, 2, 6)\n",
    "plt.scatter(survey['q0001'], survey['q0029'], color = 'darkgreen', alpha = 0.5)\n",
    "plt.title('Education')\n",
    "plt.xlabel(\"How Masculine Do You Feel?\")\n",
    "\n",
    "plt.show()"
   ]
  },
  {
   "cell_type": "markdown",
   "metadata": {},
   "source": [
    "Based off the graphs, masculinity does not correlate with the demographics of those who took the survey."
   ]
  },
  {
   "cell_type": "markdown",
   "metadata": {},
   "source": [
    "### K-Means Clustering"
   ]
  },
  {
   "cell_type": "code",
   "execution_count": 178,
   "metadata": {},
   "outputs": [
    {
     "data": {
      "text/html": [
       "<div>\n",
       "<style scoped>\n",
       "    .dataframe tbody tr th:only-of-type {\n",
       "        vertical-align: middle;\n",
       "    }\n",
       "\n",
       "    .dataframe tbody tr th {\n",
       "        vertical-align: top;\n",
       "    }\n",
       "\n",
       "    .dataframe thead th {\n",
       "        text-align: right;\n",
       "    }\n",
       "</style>\n",
       "<table border=\"1\" class=\"dataframe\">\n",
       "  <thead>\n",
       "    <tr style=\"text-align: right;\">\n",
       "      <th></th>\n",
       "      <th>Unnamed: 0</th>\n",
       "      <th>StartDate</th>\n",
       "      <th>EndDate</th>\n",
       "      <th>q0001</th>\n",
       "      <th>q0002</th>\n",
       "      <th>q0004_0001</th>\n",
       "      <th>q0004_0002</th>\n",
       "      <th>q0004_0003</th>\n",
       "      <th>q0004_0004</th>\n",
       "      <th>q0004_0005</th>\n",
       "      <th>...</th>\n",
       "      <th>q0036</th>\n",
       "      <th>race2</th>\n",
       "      <th>racethn4</th>\n",
       "      <th>educ3</th>\n",
       "      <th>educ4</th>\n",
       "      <th>age3</th>\n",
       "      <th>kids</th>\n",
       "      <th>orientation</th>\n",
       "      <th>weight</th>\n",
       "      <th>q0025</th>\n",
       "    </tr>\n",
       "  </thead>\n",
       "  <tbody>\n",
       "    <tr>\n",
       "      <th>0</th>\n",
       "      <td>1</td>\n",
       "      <td>5/10/18 4:01</td>\n",
       "      <td>5/10/18 4:06</td>\n",
       "      <td>3.0</td>\n",
       "      <td>Somewhat important</td>\n",
       "      <td>Not selected</td>\n",
       "      <td>Not selected</td>\n",
       "      <td>Not selected</td>\n",
       "      <td>Pop culture</td>\n",
       "      <td>Not selected</td>\n",
       "      <td>...</td>\n",
       "      <td>Windows Desktop / Laptop</td>\n",
       "      <td>Non-white</td>\n",
       "      <td>Hispanic</td>\n",
       "      <td>College or more</td>\n",
       "      <td>College or more</td>\n",
       "      <td>35 - 64</td>\n",
       "      <td>No children</td>\n",
       "      <td>Gay/Bisexual</td>\n",
       "      <td>1.714026</td>\n",
       "      <td>0.0</td>\n",
       "    </tr>\n",
       "    <tr>\n",
       "      <th>1</th>\n",
       "      <td>2</td>\n",
       "      <td>5/10/18 6:30</td>\n",
       "      <td>5/10/18 6:53</td>\n",
       "      <td>3.0</td>\n",
       "      <td>Somewhat important</td>\n",
       "      <td>Father or father figure(s)</td>\n",
       "      <td>Not selected</td>\n",
       "      <td>Not selected</td>\n",
       "      <td>Not selected</td>\n",
       "      <td>Not selected</td>\n",
       "      <td>...</td>\n",
       "      <td>iOS Phone / Tablet</td>\n",
       "      <td>White</td>\n",
       "      <td>White</td>\n",
       "      <td>Some college</td>\n",
       "      <td>Some college</td>\n",
       "      <td>65 and up</td>\n",
       "      <td>Has children</td>\n",
       "      <td>Straight</td>\n",
       "      <td>1.247120</td>\n",
       "      <td>1.0</td>\n",
       "    </tr>\n",
       "    <tr>\n",
       "      <th>2</th>\n",
       "      <td>3</td>\n",
       "      <td>5/10/18 7:02</td>\n",
       "      <td>5/10/18 7:09</td>\n",
       "      <td>4.0</td>\n",
       "      <td>Not too important</td>\n",
       "      <td>Father or father figure(s)</td>\n",
       "      <td>Not selected</td>\n",
       "      <td>Not selected</td>\n",
       "      <td>Not selected</td>\n",
       "      <td>Not selected</td>\n",
       "      <td>...</td>\n",
       "      <td>Windows Desktop / Laptop</td>\n",
       "      <td>White</td>\n",
       "      <td>White</td>\n",
       "      <td>College or more</td>\n",
       "      <td>College or more</td>\n",
       "      <td>35 - 64</td>\n",
       "      <td>Has children</td>\n",
       "      <td>Straight</td>\n",
       "      <td>0.515746</td>\n",
       "      <td>1.0</td>\n",
       "    </tr>\n",
       "    <tr>\n",
       "      <th>4</th>\n",
       "      <td>5</td>\n",
       "      <td>5/10/18 7:35</td>\n",
       "      <td>5/10/18 7:42</td>\n",
       "      <td>4.0</td>\n",
       "      <td>Very important</td>\n",
       "      <td>Not selected</td>\n",
       "      <td>Not selected</td>\n",
       "      <td>Other family members</td>\n",
       "      <td>Not selected</td>\n",
       "      <td>Not selected</td>\n",
       "      <td>...</td>\n",
       "      <td>Windows Desktop / Laptop</td>\n",
       "      <td>White</td>\n",
       "      <td>White</td>\n",
       "      <td>College or more</td>\n",
       "      <td>College or more</td>\n",
       "      <td>35 - 64</td>\n",
       "      <td>No children</td>\n",
       "      <td>Straight</td>\n",
       "      <td>1.033400</td>\n",
       "      <td>0.0</td>\n",
       "    </tr>\n",
       "    <tr>\n",
       "      <th>5</th>\n",
       "      <td>6</td>\n",
       "      <td>5/10/18 8:25</td>\n",
       "      <td>5/10/18 8:34</td>\n",
       "      <td>4.0</td>\n",
       "      <td>Somewhat important</td>\n",
       "      <td>Father or father figure(s)</td>\n",
       "      <td>Not selected</td>\n",
       "      <td>Not selected</td>\n",
       "      <td>Not selected</td>\n",
       "      <td>Not selected</td>\n",
       "      <td>...</td>\n",
       "      <td>Windows Desktop / Laptop</td>\n",
       "      <td>White</td>\n",
       "      <td>White</td>\n",
       "      <td>College or more</td>\n",
       "      <td>Post graduate degree</td>\n",
       "      <td>65 and up</td>\n",
       "      <td>Has children</td>\n",
       "      <td>Straight</td>\n",
       "      <td>0.059087</td>\n",
       "      <td>1.0</td>\n",
       "    </tr>\n",
       "  </tbody>\n",
       "</table>\n",
       "<p>5 rows × 99 columns</p>\n",
       "</div>"
      ],
      "text/plain": [
       "   Unnamed: 0     StartDate       EndDate  q0001               q0002  \\\n",
       "0           1  5/10/18 4:01  5/10/18 4:06    3.0  Somewhat important   \n",
       "1           2  5/10/18 6:30  5/10/18 6:53    3.0  Somewhat important   \n",
       "2           3  5/10/18 7:02  5/10/18 7:09    4.0   Not too important   \n",
       "4           5  5/10/18 7:35  5/10/18 7:42    4.0      Very important   \n",
       "5           6  5/10/18 8:25  5/10/18 8:34    4.0  Somewhat important   \n",
       "\n",
       "                   q0004_0001    q0004_0002            q0004_0003  \\\n",
       "0                Not selected  Not selected          Not selected   \n",
       "1  Father or father figure(s)  Not selected          Not selected   \n",
       "2  Father or father figure(s)  Not selected          Not selected   \n",
       "4                Not selected  Not selected  Other family members   \n",
       "5  Father or father figure(s)  Not selected          Not selected   \n",
       "\n",
       "     q0004_0004    q0004_0005  ...                     q0036      race2  \\\n",
       "0   Pop culture  Not selected  ...  Windows Desktop / Laptop  Non-white   \n",
       "1  Not selected  Not selected  ...        iOS Phone / Tablet      White   \n",
       "2  Not selected  Not selected  ...  Windows Desktop / Laptop      White   \n",
       "4  Not selected  Not selected  ...  Windows Desktop / Laptop      White   \n",
       "5  Not selected  Not selected  ...  Windows Desktop / Laptop      White   \n",
       "\n",
       "   racethn4            educ3                 educ4       age3          kids  \\\n",
       "0  Hispanic  College or more       College or more    35 - 64   No children   \n",
       "1     White     Some college          Some college  65 and up  Has children   \n",
       "2     White  College or more       College or more    35 - 64  Has children   \n",
       "4     White  College or more       College or more    35 - 64   No children   \n",
       "5     White  College or more  Post graduate degree  65 and up  Has children   \n",
       "\n",
       "    orientation    weight q0025  \n",
       "0  Gay/Bisexual  1.714026   0.0  \n",
       "1      Straight  1.247120   1.0  \n",
       "2      Straight  0.515746   1.0  \n",
       "4      Straight  1.033400   0.0  \n",
       "5      Straight  0.059087   1.0  \n",
       "\n",
       "[5 rows x 99 columns]"
      ]
     },
     "execution_count": 178,
     "metadata": {},
     "output_type": "execute_result"
    }
   ],
   "source": [
    "row_cluster = survey.dropna(subset = ['q0001', 'q0024', 'q0025', 'q0026', 'q0028', 'q0029'])\n",
    "row_cluster.head()"
   ]
  },
  {
   "cell_type": "code",
   "execution_count": 179,
   "metadata": {},
   "outputs": [
    {
     "data": {
      "text/plain": [
       "KMeans(n_clusters=2)"
      ]
     },
     "execution_count": 179,
     "metadata": {},
     "output_type": "execute_result"
    }
   ],
   "source": [
    "#we'll stay with 2 clusters: masculine (1) and not masculine (0)\n",
    "\n",
    "classifier.fit(row_cluster[['q0001', 'q0024', 'q0025', 'q0026', 'q0028', 'q0029']])"
   ]
  },
  {
   "cell_type": "code",
   "execution_count": 180,
   "metadata": {},
   "outputs": [
    {
     "name": "stdout",
     "output_type": "stream",
     "text": [
      "[[3.13529412 1.97058824 0.42647059 3.57941176 4.46176471 4.39705882]\n",
      " [3.30909091 4.91030303 0.8        3.89939394 4.66181818 4.76848485]]\n"
     ]
    }
   ],
   "source": [
    "print(classifier.cluster_centers_)"
   ]
  },
  {
   "cell_type": "markdown",
   "metadata": {},
   "source": [
    "### Separate the Clusters"
   ]
  },
  {
   "cell_type": "code",
   "execution_count": 181,
   "metadata": {},
   "outputs": [
    {
     "name": "stdout",
     "output_type": "stream",
     "text": [
      "[0 1 1 ... 1 0 0]\n"
     ]
    }
   ],
   "source": [
    "print(classifier.labels_)"
   ]
  },
  {
   "cell_type": "code",
   "execution_count": 182,
   "metadata": {},
   "outputs": [
    {
     "name": "stdout",
     "output_type": "stream",
     "text": [
      "[0, 3, 5, 13, 18, 19, 30, 31, 32, 39, 47, 48, 49, 50, 52, 54, 56, 61, 64, 68, 72, 77, 82, 89, 91, 96, 102, 104, 105, 106, 113, 115, 116, 117, 118, 130, 132, 134, 136, 137, 138, 139, 140, 142, 146, 151, 155, 157, 158, 159, 162, 163, 164, 165, 166, 167, 168, 169, 171, 174, 175, 180, 181, 184, 185, 186, 193, 196, 197, 199, 200, 203, 207, 214, 223, 225, 227, 229, 232, 236, 238, 240, 241, 247, 249, 250, 255, 257, 260, 263, 273, 274, 275, 277, 280, 281, 282, 284, 288, 292, 294, 296, 297, 306, 312, 313, 315, 331, 332, 341, 346, 347, 348, 349, 356, 363, 365, 368, 372, 378, 381, 388, 390, 400, 403, 416, 421, 422, 424, 427, 434, 435, 436, 437, 438, 440, 442, 445, 448, 450, 452, 457, 459, 468, 471, 472, 482, 484, 493, 499, 504, 506, 507, 511, 514, 524, 526, 530, 531, 543, 550, 558, 563, 566, 568, 569, 571, 572, 576, 578, 581, 582, 584, 605, 606, 614, 617, 623, 626, 627, 632, 634, 642, 645, 649, 652, 654, 656, 658, 659, 661, 668, 671, 677, 681, 683, 685, 686, 689, 692, 695, 696, 698, 700, 702, 708, 715, 717, 720, 724, 733, 737, 740, 743, 745, 748, 749, 751, 770, 778, 782, 792, 793, 801, 804, 806, 807, 809, 812, 813, 817, 819, 822, 823, 828, 829, 834, 839, 847, 848, 856, 857, 861, 865, 869, 870, 873, 877, 878, 882, 886, 887, 888, 897, 899, 900, 901, 904, 915, 920, 921, 922, 925, 926, 931, 932, 933, 936, 937, 940, 942, 947, 952, 954, 955, 958, 963, 965, 966, 974, 977, 980, 982, 983, 984, 985, 987, 988, 992, 997, 1003, 1010, 1014, 1015, 1019, 1021, 1022, 1023, 1024, 1025, 1027, 1028, 1031, 1035, 1039, 1040, 1043, 1050, 1053, 1065, 1066, 1073, 1079, 1082, 1083, 1085, 1092, 1093, 1098, 1100, 1107, 1108, 1115, 1122, 1123, 1124, 1129, 1134, 1135, 1137, 1140, 1145, 1147, 1151, 1153, 1155, 1159, 1160, 1163, 1164]\n",
      "[1, 2, 4, 6, 7, 8, 9, 10, 11, 12, 14, 15, 16, 17, 20, 21, 22, 23, 24, 25, 26, 27, 28, 29, 33, 34, 35, 36, 37, 38, 40, 41, 42, 43, 44, 45, 46, 51, 53, 55, 57, 58, 59, 60, 62, 63, 65, 66, 67, 69, 70, 71, 73, 74, 75, 76, 78, 79, 80, 81, 83, 84, 85, 86, 87, 88, 90, 92, 93, 94, 95, 97, 98, 99, 100, 101, 103, 107, 108, 109, 110, 111, 112, 114, 119, 120, 121, 122, 123, 124, 125, 126, 127, 128, 129, 131, 133, 135, 141, 143, 144, 145, 147, 148, 149, 150, 152, 153, 154, 156, 160, 161, 170, 172, 173, 176, 177, 178, 179, 182, 183, 187, 188, 189, 190, 191, 192, 194, 195, 198, 201, 202, 204, 205, 206, 208, 209, 210, 211, 212, 213, 215, 216, 217, 218, 219, 220, 221, 222, 224, 226, 228, 230, 231, 233, 234, 235, 237, 239, 242, 243, 244, 245, 246, 248, 251, 252, 253, 254, 256, 258, 259, 261, 262, 264, 265, 266, 267, 268, 269, 270, 271, 272, 276, 278, 279, 283, 285, 286, 287, 289, 290, 291, 293, 295, 298, 299, 300, 301, 302, 303, 304, 305, 307, 308, 309, 310, 311, 314, 316, 317, 318, 319, 320, 321, 322, 323, 324, 325, 326, 327, 328, 329, 330, 333, 334, 335, 336, 337, 338, 339, 340, 342, 343, 344, 345, 350, 351, 352, 353, 354, 355, 357, 358, 359, 360, 361, 362, 364, 366, 367, 369, 370, 371, 373, 374, 375, 376, 377, 379, 380, 382, 383, 384, 385, 386, 387, 389, 391, 392, 393, 394, 395, 396, 397, 398, 399, 401, 402, 404, 405, 406, 407, 408, 409, 410, 411, 412, 413, 414, 415, 417, 418, 419, 420, 423, 425, 426, 428, 429, 430, 431, 432, 433, 439, 441, 443, 444, 446, 447, 449, 451, 453, 454, 455, 456, 458, 460, 461, 462, 463, 464, 465, 466, 467, 469, 470, 473, 474, 475, 476, 477, 478, 479, 480, 481, 483, 485, 486, 487, 488, 489, 490, 491, 492, 494, 495, 496, 497, 498, 500, 501, 502, 503, 505, 508, 509, 510, 512, 513, 515, 516, 517, 518, 519, 520, 521, 522, 523, 525, 527, 528, 529, 532, 533, 534, 535, 536, 537, 538, 539, 540, 541, 542, 544, 545, 546, 547, 548, 549, 551, 552, 553, 554, 555, 556, 557, 559, 560, 561, 562, 564, 565, 567, 570, 573, 574, 575, 577, 579, 580, 583, 585, 586, 587, 588, 589, 590, 591, 592, 593, 594, 595, 596, 597, 598, 599, 600, 601, 602, 603, 604, 607, 608, 609, 610, 611, 612, 613, 615, 616, 618, 619, 620, 621, 622, 624, 625, 628, 629, 630, 631, 633, 635, 636, 637, 638, 639, 640, 641, 643, 644, 646, 647, 648, 650, 651, 653, 655, 657, 660, 662, 663, 664, 665, 666, 667, 669, 670, 672, 673, 674, 675, 676, 678, 679, 680, 682, 684, 687, 688, 690, 691, 693, 694, 697, 699, 701, 703, 704, 705, 706, 707, 709, 710, 711, 712, 713, 714, 716, 718, 719, 721, 722, 723, 725, 726, 727, 728, 729, 730, 731, 732, 734, 735, 736, 738, 739, 741, 742, 744, 746, 747, 750, 752, 753, 754, 755, 756, 757, 758, 759, 760, 761, 762, 763, 764, 765, 766, 767, 768, 769, 771, 772, 773, 774, 775, 776, 777, 779, 780, 781, 783, 784, 785, 786, 787, 788, 789, 790, 791, 794, 795, 796, 797, 798, 799, 800, 802, 803, 805, 808, 810, 811, 814, 815, 816, 818, 820, 821, 824, 825, 826, 827, 830, 831, 832, 833, 835, 836, 837, 838, 840, 841, 842, 843, 844, 845, 846, 849, 850, 851, 852, 853, 854, 855, 858, 859, 860, 862, 863, 864, 866, 867, 868, 871, 872, 874, 875, 876, 879, 880, 881, 883, 884, 885, 889, 890, 891, 892, 893, 894, 895, 896, 898, 902, 903, 905, 906, 907, 908, 909, 910, 911, 912, 913, 914, 916, 917, 918, 919, 923, 924, 927, 928, 929, 930, 934, 935, 938, 939, 941, 943, 944, 945, 946, 948, 949, 950, 951, 953, 956, 957, 959, 960, 961, 962, 964, 967, 968, 969, 970, 971, 972, 973, 975, 976, 978, 979, 981, 986, 989, 990, 991, 993, 994, 995, 996, 998, 999, 1000, 1001, 1002, 1004, 1005, 1006, 1007, 1008, 1009, 1011, 1012, 1013, 1016, 1017, 1018, 1020, 1026, 1029, 1030, 1032, 1033, 1034, 1036, 1037, 1038, 1041, 1042, 1044, 1045, 1046, 1047, 1048, 1049, 1051, 1052, 1054, 1055, 1056, 1057, 1058, 1059, 1060, 1061, 1062, 1063, 1064, 1067, 1068, 1069, 1070, 1071, 1072, 1074, 1075, 1076, 1077, 1078, 1080, 1081, 1084, 1086, 1087, 1088, 1089, 1090, 1091, 1094, 1095, 1096, 1097, 1099, 1101, 1102, 1103, 1104, 1105, 1106, 1109, 1110, 1111, 1112, 1113, 1114, 1116, 1117, 1118, 1119, 1120, 1121, 1125, 1126, 1127, 1128, 1130, 1131, 1132, 1133, 1136, 1138, 1139, 1141, 1142, 1143, 1144, 1146, 1148, 1149, 1150, 1152, 1154, 1156, 1157, 1158, 1161, 1162]\n"
     ]
    }
   ],
   "source": [
    "cluster_zero = []\n",
    "cluster_one = []\n",
    "\n",
    "for i in range(len(classifier.labels_)):\n",
    "    #print(i)\n",
    "    if classifier.labels_[i] == 0:\n",
    "        cluster_zero.append(i)\n",
    "    elif classifier.labels_[i] == 1:\n",
    "        cluster_one.append(i)\n",
    "        \n",
    "print(cluster_zero)\n",
    "print(cluster_one)"
   ]
  },
  {
   "cell_type": "markdown",
   "metadata": {},
   "source": [
    "### Investigate the Clusters"
   ]
  },
  {
   "cell_type": "code",
   "execution_count": 183,
   "metadata": {},
   "outputs": [
    {
     "name": "stdout",
     "output_type": "stream",
     "text": [
      "0       35 - 64\n",
      "4       35 - 64\n",
      "6       18 - 34\n",
      "14      18 - 34\n",
      "19      35 - 64\n",
      "         ...   \n",
      "1179    18 - 34\n",
      "1183    35 - 64\n",
      "1184    35 - 64\n",
      "1187    18 - 34\n",
      "1188        NaN\n",
      "Name: age3, Length: 340, dtype: object\n"
     ]
    }
   ],
   "source": [
    "cluster_zero_survey = row_cluster.iloc[cluster_zero]\n",
    "print(cluster_zero_survey['age3'])"
   ]
  },
  {
   "cell_type": "code",
   "execution_count": 184,
   "metadata": {},
   "outputs": [
    {
     "name": "stdout",
     "output_type": "stream",
     "text": [
      "35 - 64      0.538235\n",
      "65 and up    0.308824\n",
      "18 - 34      0.150000\n",
      "Name: age3, dtype: float64\n"
     ]
    }
   ],
   "source": [
    "print(cluster_zero_survey['age3'].value_counts() / len(cluster_zero_survey))"
   ]
  },
  {
   "cell_type": "markdown",
   "metadata": {},
   "source": [
    "A majority of those in cluster zero (not masculine) that took the survey were 35 - 64 years old."
   ]
  },
  {
   "cell_type": "code",
   "execution_count": 185,
   "metadata": {},
   "outputs": [
    {
     "name": "stdout",
     "output_type": "stream",
     "text": [
      "1       65 and up\n",
      "2         35 - 64\n",
      "5       65 and up\n",
      "7       65 and up\n",
      "8         35 - 64\n",
      "          ...    \n",
      "1180    65 and up\n",
      "1181    65 and up\n",
      "1182      35 - 64\n",
      "1185      35 - 64\n",
      "1186    65 and up\n",
      "Name: age3, Length: 825, dtype: object\n"
     ]
    }
   ],
   "source": [
    "cluster_one_survey = row_cluster.iloc[cluster_one]\n",
    "print(cluster_one_survey['age3'])"
   ]
  },
  {
   "cell_type": "code",
   "execution_count": 186,
   "metadata": {},
   "outputs": [
    {
     "name": "stdout",
     "output_type": "stream",
     "text": [
      "65 and up    0.564848\n",
      "35 - 64      0.414545\n",
      "18 - 34      0.020606\n",
      "Name: age3, dtype: float64\n"
     ]
    }
   ],
   "source": [
    "print(cluster_one_survey['age3'].value_counts() / len(cluster_one_survey))"
   ]
  },
  {
   "cell_type": "markdown",
   "metadata": {},
   "source": [
    "A majority of those in cluster one (masculine) that took the survey were 65 and older."
   ]
  },
  {
   "cell_type": "code",
   "execution_count": null,
   "metadata": {},
   "outputs": [],
   "source": []
  }
 ],
 "metadata": {
  "kernelspec": {
   "display_name": "Python 3",
   "language": "python",
   "name": "python3"
  },
  "language_info": {
   "codemirror_mode": {
    "name": "ipython",
    "version": 3
   },
   "file_extension": ".py",
   "mimetype": "text/x-python",
   "name": "python",
   "nbconvert_exporter": "python",
   "pygments_lexer": "ipython3",
   "version": "3.8.8"
  }
 },
 "nbformat": 4,
 "nbformat_minor": 2
}
