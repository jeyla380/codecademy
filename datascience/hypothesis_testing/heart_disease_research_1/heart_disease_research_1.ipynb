{
 "cells": [
  {
   "cell_type": "markdown",
   "id": "d54f6333",
   "metadata": {},
   "source": [
    "#### HYPOTHESIS TESTING\n",
    "\n",
    "<br>\n",
    "\n",
    "## Heart Disease Research Pt. 1\n",
    "<hr>"
   ]
  },
  {
   "cell_type": "code",
   "execution_count": 2,
   "id": "daf69a1f",
   "metadata": {},
   "outputs": [],
   "source": [
    "import pandas as pd\n",
    "import numpy as np\n",
    "from scipy.stats import ttest_1samp, binom_test"
   ]
  },
  {
   "cell_type": "markdown",
   "id": "f559f2e7",
   "metadata": {},
   "source": [
    "### Cholestorol Analysis"
   ]
  },
  {
   "cell_type": "markdown",
   "id": "571230c2",
   "metadata": {},
   "source": [
    "`yes_hd` contains data for patients <b>with</b> heart disease <br>\n",
    "`no_hd` contains data for patients <b>without</b> heart disease"
   ]
  },
  {
   "cell_type": "code",
   "execution_count": 3,
   "id": "2fa2a12c",
   "metadata": {},
   "outputs": [],
   "source": [
    "heart = pd.read_csv('heart_disease.csv')\n",
    "yes_hd = heart[heart.heart_disease == 'presence']\n",
    "no_hd = heart[heart.heart_disease == 'absence']"
   ]
  },
  {
   "cell_type": "code",
   "execution_count": 5,
   "id": "998ca984",
   "metadata": {},
   "outputs": [
    {
     "data": {
      "text/html": [
       "<div>\n",
       "<style scoped>\n",
       "    .dataframe tbody tr th:only-of-type {\n",
       "        vertical-align: middle;\n",
       "    }\n",
       "\n",
       "    .dataframe tbody tr th {\n",
       "        vertical-align: top;\n",
       "    }\n",
       "\n",
       "    .dataframe thead th {\n",
       "        text-align: right;\n",
       "    }\n",
       "</style>\n",
       "<table border=\"1\" class=\"dataframe\">\n",
       "  <thead>\n",
       "    <tr style=\"text-align: right;\">\n",
       "      <th></th>\n",
       "      <th>age</th>\n",
       "      <th>sex</th>\n",
       "      <th>trestbps</th>\n",
       "      <th>chol</th>\n",
       "      <th>cp</th>\n",
       "      <th>exang</th>\n",
       "      <th>fbs</th>\n",
       "      <th>thalach</th>\n",
       "      <th>heart_disease</th>\n",
       "    </tr>\n",
       "  </thead>\n",
       "  <tbody>\n",
       "    <tr>\n",
       "      <th>0</th>\n",
       "      <td>63.0</td>\n",
       "      <td>male</td>\n",
       "      <td>145.0</td>\n",
       "      <td>233.0</td>\n",
       "      <td>typical angina</td>\n",
       "      <td>0.0</td>\n",
       "      <td>1.0</td>\n",
       "      <td>150.0</td>\n",
       "      <td>absence</td>\n",
       "    </tr>\n",
       "    <tr>\n",
       "      <th>1</th>\n",
       "      <td>67.0</td>\n",
       "      <td>male</td>\n",
       "      <td>160.0</td>\n",
       "      <td>286.0</td>\n",
       "      <td>asymptomatic</td>\n",
       "      <td>1.0</td>\n",
       "      <td>0.0</td>\n",
       "      <td>108.0</td>\n",
       "      <td>presence</td>\n",
       "    </tr>\n",
       "    <tr>\n",
       "      <th>2</th>\n",
       "      <td>67.0</td>\n",
       "      <td>male</td>\n",
       "      <td>120.0</td>\n",
       "      <td>229.0</td>\n",
       "      <td>asymptomatic</td>\n",
       "      <td>1.0</td>\n",
       "      <td>0.0</td>\n",
       "      <td>129.0</td>\n",
       "      <td>presence</td>\n",
       "    </tr>\n",
       "    <tr>\n",
       "      <th>3</th>\n",
       "      <td>37.0</td>\n",
       "      <td>male</td>\n",
       "      <td>130.0</td>\n",
       "      <td>250.0</td>\n",
       "      <td>non-anginal pain</td>\n",
       "      <td>0.0</td>\n",
       "      <td>0.0</td>\n",
       "      <td>187.0</td>\n",
       "      <td>absence</td>\n",
       "    </tr>\n",
       "    <tr>\n",
       "      <th>4</th>\n",
       "      <td>41.0</td>\n",
       "      <td>female</td>\n",
       "      <td>130.0</td>\n",
       "      <td>204.0</td>\n",
       "      <td>atypical angina</td>\n",
       "      <td>0.0</td>\n",
       "      <td>0.0</td>\n",
       "      <td>172.0</td>\n",
       "      <td>absence</td>\n",
       "    </tr>\n",
       "  </tbody>\n",
       "</table>\n",
       "</div>"
      ],
      "text/plain": [
       "    age     sex  trestbps   chol                cp  exang  fbs  thalach  \\\n",
       "0  63.0    male     145.0  233.0    typical angina    0.0  1.0    150.0   \n",
       "1  67.0    male     160.0  286.0      asymptomatic    1.0  0.0    108.0   \n",
       "2  67.0    male     120.0  229.0      asymptomatic    1.0  0.0    129.0   \n",
       "3  37.0    male     130.0  250.0  non-anginal pain    0.0  0.0    187.0   \n",
       "4  41.0  female     130.0  204.0   atypical angina    0.0  0.0    172.0   \n",
       "\n",
       "  heart_disease  \n",
       "0       absence  \n",
       "1      presence  \n",
       "2      presence  \n",
       "3       absence  \n",
       "4       absence  "
      ]
     },
     "execution_count": 5,
     "metadata": {},
     "output_type": "execute_result"
    }
   ],
   "source": [
    "heart.head()"
   ]
  },
  {
   "cell_type": "markdown",
   "id": "2eacd99d",
   "metadata": {},
   "source": [
    "<br>\n",
    "\n",
    "`chol`: Serum cholestorol in mg/dl <br>\n",
    "`fbs`: An indicator for whether fasting blood sugar is greater than 120 mg/dl (`1` = true, `0` = false)"
   ]
  },
  {
   "cell_type": "code",
   "execution_count": 4,
   "id": "d4340cc4",
   "metadata": {},
   "outputs": [
    {
     "data": {
      "text/plain": [
       "1    286.0\n",
       "2    229.0\n",
       "6    268.0\n",
       "8    254.0\n",
       "9    203.0\n",
       "Name: chol, dtype: float64"
      ]
     },
     "execution_count": 4,
     "metadata": {},
     "output_type": "execute_result"
    }
   ],
   "source": [
    "chol_hd = yes_hd.chol\n",
    "chol_hd.head()"
   ]
  },
  {
   "cell_type": "markdown",
   "id": "6c7fade2",
   "metadata": {},
   "source": [
    "<hr>\n",
    "\n",
    "In general, total cholesterol over 240 mg/dl is considered “high” (and therefore unhealthy). What is the mean cholesterol level for patients who were diagnosed with heart disease? Is it higher than 240 mg/dl?"
   ]
  },
  {
   "cell_type": "code",
   "execution_count": 9,
   "id": "8b4f8545",
   "metadata": {},
   "outputs": [
    {
     "name": "stdout",
     "output_type": "stream",
     "text": [
      "251.4748201438849\n"
     ]
    }
   ],
   "source": [
    "avg_chol_hd = np.mean(chol_hd)\n",
    "print(avg_chol_hd)"
   ]
  },
  {
   "cell_type": "markdown",
   "id": "c01b062d",
   "metadata": {},
   "source": [
    "<hr>\n",
    "\n",
    "Do people with heart disease have high cholesterol levels (greater than or equal to 240 mg/dl) on average?\n",
    "\n",
    "<br>\n",
    "\n",
    "<b>Null</b>: People with heart disease have an average cholesterol level equal to 240 mg/dl <br>\n",
    "<b>Alternative</b>: People with heart disease have an average cholesterol level that is greater than 240 mg/dl"
   ]
  },
  {
   "cell_type": "code",
   "execution_count": 10,
   "id": "61268935",
   "metadata": {},
   "outputs": [
    {
     "name": "stdout",
     "output_type": "stream",
     "text": [
      "0.0035411033905155707\n"
     ]
    }
   ],
   "source": [
    "chol_hd_array = np.array(chol_hd)\n",
    "#print(chol_hd_array)\n",
    "\n",
    "#need to divide by 2 to get the one-sided p-value\n",
    "tstat, pval = ttest_1samp(chol_hd_array, 240)\n",
    "print(pval / 2)"
   ]
  },
  {
   "cell_type": "markdown",
   "id": "28b156c3",
   "metadata": {},
   "source": [
    "Since 0.0035 is less than 0.05, this suggests that heart disease patients have an average cholesterol level significantly higher than 240 mg/dl; and we reject the null hypothesis.\n",
    "\n",
    "<br>\n",
    "<hr>\n",
    "\n",
    "Run the same tests again for those with no heart disease, do patients without heart disease have average cholesterol levels significantly above 240 mg/dl?"
   ]
  },
  {
   "cell_type": "code",
   "execution_count": 11,
   "id": "eb426b82",
   "metadata": {},
   "outputs": [
    {
     "data": {
      "text/plain": [
       "0    233.0\n",
       "3    250.0\n",
       "4    204.0\n",
       "5    236.0\n",
       "7    354.0\n",
       "Name: chol, dtype: float64"
      ]
     },
     "execution_count": 11,
     "metadata": {},
     "output_type": "execute_result"
    }
   ],
   "source": [
    "chol_no_hd = no_hd.chol\n",
    "chol_no_hd.head()"
   ]
  },
  {
   "cell_type": "code",
   "execution_count": 12,
   "id": "2f5c24ff",
   "metadata": {},
   "outputs": [
    {
     "name": "stdout",
     "output_type": "stream",
     "text": [
      "242.640243902439\n"
     ]
    }
   ],
   "source": [
    "avg_chol_no_hd = np.mean(chol_no_hd)\n",
    "print(avg_chol_no_hd)"
   ]
  },
  {
   "cell_type": "markdown",
   "id": "4f2d5ae7",
   "metadata": {},
   "source": [
    "<b>Null</b>: People that don't have heart disease have an average cholesterol level equal to 240 mg/dl <br>\n",
    "<b>Alternative</b>: People that don't have heart disease have an average cholesterol level that is greater than 240 mg/dl"
   ]
  },
  {
   "cell_type": "code",
   "execution_count": 15,
   "id": "95a4b9fd",
   "metadata": {},
   "outputs": [
    {
     "name": "stdout",
     "output_type": "stream",
     "text": [
      "0.26397120232220506\n"
     ]
    }
   ],
   "source": [
    "chol_no_hd_array = np.array(chol_no_hd)\n",
    "#print(chol_no_hd_array)\n",
    "\n",
    "tstat, pval = ttest_1samp(chol_no_hd_array, 240)\n",
    "print(pval / 2)"
   ]
  },
  {
   "cell_type": "markdown",
   "id": "da23089c",
   "metadata": {},
   "source": [
    "Since 0.264 is greater than 0.05, we don't reject the null hypothesis, which suggests that people who don't have heart disease have an average cholesterol level equal to 240 mg/dl.\n",
    "\n",
    "<hr>"
   ]
  },
  {
   "cell_type": "markdown",
   "id": "87939935",
   "metadata": {},
   "source": [
    "### Fasting Blood Sugar Analysis"
   ]
  },
  {
   "cell_type": "markdown",
   "id": "fa4d6e6d",
   "metadata": {},
   "source": [
    "Find the total number of patients:"
   ]
  },
  {
   "cell_type": "code",
   "execution_count": 17,
   "id": "895bede5",
   "metadata": {},
   "outputs": [
    {
     "name": "stdout",
     "output_type": "stream",
     "text": [
      "303\n"
     ]
    }
   ],
   "source": [
    "num_patients = len(heart)\n",
    "print(num_patients)"
   ]
  },
  {
   "cell_type": "markdown",
   "id": "8d491849",
   "metadata": {},
   "source": [
    "<hr>\n",
    "\n",
    "The `fbs` column indicates whether or not a patient’s fasting blood sugar was greater than 120 mg/dl (`1` = greater than 120 mg/dl, and `0` = less than or equal to 120 mg/dl.\n",
    "\n",
    "<br>\n",
    "\n",
    "Find the number of patients that have a `fbs` greater than 120 mg/dl:"
   ]
  },
  {
   "cell_type": "code",
   "execution_count": 18,
   "id": "126df029",
   "metadata": {},
   "outputs": [
    {
     "name": "stdout",
     "output_type": "stream",
     "text": [
      "45.0\n"
     ]
    }
   ],
   "source": [
    "num_highfbs_patients = np.sum(heart.fbs[heart.fbs == 1])\n",
    "print(num_highfbs_patients)\n",
    "#the observed success is 45 patients"
   ]
  },
  {
   "cell_type": "markdown",
   "id": "7a6cf674",
   "metadata": {},
   "source": [
    "<hr>\n",
    "\n",
    "By some estimates, about 8% of the U.S. population had diabetes (diagnosed or undiagnosed) in 1988 when this data was collected. If this sample were representative of the population, approximately how many people would you expect to have diabetes? Is this value similar to the number of patients with a resting blood sugar above 120 mg/dl — or different?"
   ]
  },
  {
   "cell_type": "code",
   "execution_count": 19,
   "id": "93c1bb00",
   "metadata": {},
   "outputs": [
    {
     "name": "stdout",
     "output_type": "stream",
     "text": [
      "24.240000000000002\n"
     ]
    }
   ],
   "source": [
    "num_of_us_pop_diabetes = num_patients * 0.08\n",
    "print(num_of_us_pop_diabetes)"
   ]
  },
  {
   "cell_type": "markdown",
   "id": "ce1aebd3",
   "metadata": {},
   "source": [
    "Comes out to 24 patients, which is almost half the number of `num_highfbs_patients` (45 samples)\n",
    "\n",
    "<br>\n",
    "<hr>\n",
    "\n",
    "Does this sample come from a population in which the rate of fbs > 120 mg/dl is equal to 8%?"
   ]
  },
  {
   "cell_type": "code",
   "execution_count": 20,
   "id": "cb229f13",
   "metadata": {},
   "outputs": [
    {
     "name": "stdout",
     "output_type": "stream",
     "text": [
      "0.00004689\n"
     ]
    }
   ],
   "source": [
    "p_value = binom_test(num_highfbs_patients, n = num_patients, p = 0.08, alternative = 'greater')\n",
    "print(\"{:.8f}\".format(float(p_value)))"
   ]
  },
  {
   "cell_type": "markdown",
   "id": "de938df5",
   "metadata": {},
   "source": [
    "0.0000469 is less than 0.05 which means we reject the null hypothesis; this indicates that more than 8% of the population has fbs > 120 mg/dl."
   ]
  },
  {
   "cell_type": "code",
   "execution_count": null,
   "id": "5b982b47",
   "metadata": {},
   "outputs": [],
   "source": []
  }
 ],
 "metadata": {
  "kernelspec": {
   "display_name": "Python 3",
   "language": "python",
   "name": "python3"
  },
  "language_info": {
   "codemirror_mode": {
    "name": "ipython",
    "version": 3
   },
   "file_extension": ".py",
   "mimetype": "text/x-python",
   "name": "python",
   "nbconvert_exporter": "python",
   "pygments_lexer": "ipython3",
   "version": "3.8.8"
  }
 },
 "nbformat": 4,
 "nbformat_minor": 5
}
