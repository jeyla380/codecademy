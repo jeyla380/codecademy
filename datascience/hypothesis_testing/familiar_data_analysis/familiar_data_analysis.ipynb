{
 "cells": [
  {
   "cell_type": "markdown",
   "id": "8f2f40ba",
   "metadata": {},
   "source": [
    "#### HYPOTHESIS TESTING\n",
    "\n",
    "<br>\n",
    "\n",
    "## Familiar: A Study in Data Analysis\n",
    "<hr>\n",
    "\n",
    "Welcome to Familiar, a startup in the new market of blood transfusion!"
   ]
  },
  {
   "cell_type": "markdown",
   "id": "8001bef3",
   "metadata": {},
   "source": [
    "### What Can Familiar Do For You?"
   ]
  },
  {
   "cell_type": "code",
   "execution_count": 18,
   "id": "2d8e3c27",
   "metadata": {},
   "outputs": [],
   "source": [
    "import pandas as pd\n",
    "import numpy as np\n",
    "from scipy.stats import ttest_1samp, ttest_ind, chi2_contingency\n",
    "\n",
    "lifespans = pd.read_csv('familiar_lifespan.csv')\n",
    "iron = pd.read_csv('familiar_iron.csv')"
   ]
  },
  {
   "cell_type": "code",
   "execution_count": 19,
   "id": "a9504c9d",
   "metadata": {},
   "outputs": [
    {
     "data": {
      "text/html": [
       "<div>\n",
       "<style scoped>\n",
       "    .dataframe tbody tr th:only-of-type {\n",
       "        vertical-align: middle;\n",
       "    }\n",
       "\n",
       "    .dataframe tbody tr th {\n",
       "        vertical-align: top;\n",
       "    }\n",
       "\n",
       "    .dataframe thead th {\n",
       "        text-align: right;\n",
       "    }\n",
       "</style>\n",
       "<table border=\"1\" class=\"dataframe\">\n",
       "  <thead>\n",
       "    <tr style=\"text-align: right;\">\n",
       "      <th></th>\n",
       "      <th>pack</th>\n",
       "      <th>lifespan</th>\n",
       "    </tr>\n",
       "  </thead>\n",
       "  <tbody>\n",
       "    <tr>\n",
       "      <th>0</th>\n",
       "      <td>vein</td>\n",
       "      <td>76.255090</td>\n",
       "    </tr>\n",
       "    <tr>\n",
       "      <th>1</th>\n",
       "      <td>artery</td>\n",
       "      <td>76.404504</td>\n",
       "    </tr>\n",
       "    <tr>\n",
       "      <th>2</th>\n",
       "      <td>artery</td>\n",
       "      <td>75.952442</td>\n",
       "    </tr>\n",
       "    <tr>\n",
       "      <th>3</th>\n",
       "      <td>artery</td>\n",
       "      <td>76.923082</td>\n",
       "    </tr>\n",
       "    <tr>\n",
       "      <th>4</th>\n",
       "      <td>artery</td>\n",
       "      <td>73.771212</td>\n",
       "    </tr>\n",
       "  </tbody>\n",
       "</table>\n",
       "</div>"
      ],
      "text/plain": [
       "     pack   lifespan\n",
       "0    vein  76.255090\n",
       "1  artery  76.404504\n",
       "2  artery  75.952442\n",
       "3  artery  76.923082\n",
       "4  artery  73.771212"
      ]
     },
     "execution_count": 19,
     "metadata": {},
     "output_type": "execute_result"
    }
   ],
   "source": [
    "lifespans.head()"
   ]
  },
  {
   "cell_type": "code",
   "execution_count": 20,
   "id": "43163049",
   "metadata": {},
   "outputs": [
    {
     "data": {
      "text/plain": [
       "0     76.255090\n",
       "7     74.502021\n",
       "8     76.937674\n",
       "9     74.838006\n",
       "11    77.484756\n",
       "Name: lifespan, dtype: float64"
      ]
     },
     "execution_count": 20,
     "metadata": {},
     "output_type": "execute_result"
    }
   ],
   "source": [
    "vein_pack_lifespans = lifespans.lifespan[lifespans.pack == 'vein']\n",
    "vein_pack_lifespans.head()"
   ]
  },
  {
   "cell_type": "code",
   "execution_count": 21,
   "id": "691988e5",
   "metadata": {},
   "outputs": [
    {
     "name": "stdout",
     "output_type": "stream",
     "text": [
      "Vein Lifespan Mean: 76.16901335636044\n"
     ]
    }
   ],
   "source": [
    "vein_lifespans_mean = np.mean(vein_pack_lifespans)\n",
    "print(\"Vein Lifespan Mean: \" + str(vein_lifespans_mean)) #it's longer than 73 years"
   ]
  },
  {
   "cell_type": "markdown",
   "id": "6e2ae644",
   "metadata": {},
   "source": [
    "We’d like to find out if the average lifespan of a Vein Pack subscriber is significantly different from the average life expectancy of 73 years.\n",
    "<br>\n",
    "\n",
    "<b>Null:</b> The average lifespan of a Vein Pack subscriber is 73 years. <br>\n",
    "<b>Alternative:</b> The average lifespan of a Vein Pack subscriber is NOT 73 years."
   ]
  },
  {
   "cell_type": "code",
   "execution_count": 22,
   "id": "aab37a2d",
   "metadata": {},
   "outputs": [
    {
     "name": "stdout",
     "output_type": "stream",
     "text": [
      "p-value: 0.0000005972\n",
      "Reject the null hypothesis. The average lifespan of a Vein Pack subscriber is NOT 73 years\n"
     ]
    }
   ],
   "source": [
    "tstat, pval = ttest_1samp(vein_pack_lifespans, 73)\n",
    "print(\"p-value: \" + str(\"{:.10f}\".format(float(pval))))\n",
    "print(\"Reject the null hypothesis. The average lifespan of a Vein Pack subscriber is NOT 73 years\")"
   ]
  },
  {
   "cell_type": "markdown",
   "id": "6a3b4c00",
   "metadata": {},
   "source": [
    "### Upselling Familiar: Pumping Life Into The Company"
   ]
  },
  {
   "cell_type": "code",
   "execution_count": 23,
   "id": "80e71569",
   "metadata": {},
   "outputs": [
    {
     "data": {
      "text/plain": [
       "1    76.404504\n",
       "2    75.952442\n",
       "3    76.923082\n",
       "4    73.771212\n",
       "5    74.117420\n",
       "Name: lifespan, dtype: float64"
      ]
     },
     "execution_count": 23,
     "metadata": {},
     "output_type": "execute_result"
    }
   ],
   "source": [
    "artery_pack_lifespans = lifespans.lifespan[lifespans.pack == 'artery']\n",
    "artery_pack_lifespans.head()"
   ]
  },
  {
   "cell_type": "code",
   "execution_count": 24,
   "id": "8b12cc6e",
   "metadata": {},
   "outputs": [
    {
     "name": "stdout",
     "output_type": "stream",
     "text": [
      "Artery Lifespan Mean: 74.87366223517039\n"
     ]
    }
   ],
   "source": [
    "artery_lifespans_mean = np.mean(artery_pack_lifespans)\n",
    "print(\"Artery Lifespan Mean: \" + str(artery_lifespans_mean))"
   ]
  },
  {
   "cell_type": "markdown",
   "id": "fa57c99e",
   "metadata": {},
   "source": [
    "We’d like to find out if the average lifespan of a Vein Pack subscriber is significantly different from the average life expectancy for the Artery Pack.\n",
    "<br>\n",
    "\n",
    "<b>Null: </b>The average lifespan of a Vein Pack subscriber is equal to the average lifespan of an Artery Pack subscriber. <br>\n",
    "<b>Alternative: </b>The average lifespan of a Vein Pack subscriber is NOT equal to the average lifespan of an Artery Pack subscriber."
   ]
  },
  {
   "cell_type": "code",
   "execution_count": 30,
   "id": "f6bac115",
   "metadata": {},
   "outputs": [
    {
     "name": "stdout",
     "output_type": "stream",
     "text": [
      "p-value: 0.05588883079070819\n",
      "Don't reject the null hypothesis. The average lifespan of a Vein Pack subscriber is equal to the average lifespand of an Artery Pack subscriber.\n"
     ]
    }
   ],
   "source": [
    "tstat, pval = ttest_ind(vein_pack_lifespans, artery_pack_lifespans)\n",
    "print(\"p-value: \" + str(pval))\n",
    "print(\"Don't reject the null hypothesis. The average lifespan of a Vein Pack subscriber is equal to the average lifespand of an Artery Pack subscriber.\")"
   ]
  },
  {
   "cell_type": "markdown",
   "id": "2dbe9d06",
   "metadata": {},
   "source": [
    "### Side Effects: A Familiar Problem\n",
    "\n",
    "The Familiar team has provided us with another dataset containing survey data about iron counts for our subscribers. This data has been pre-processed to categorize iron counts as “low”, “normal”, and “high” for each subscriber. Familiar wants to be able to advise potential subscribers about possible side effects of these packs and whether they differ for the Vein vs. the Artery pack."
   ]
  },
  {
   "cell_type": "code",
   "execution_count": 26,
   "id": "4c598784",
   "metadata": {},
   "outputs": [
    {
     "data": {
      "text/html": [
       "<div>\n",
       "<style scoped>\n",
       "    .dataframe tbody tr th:only-of-type {\n",
       "        vertical-align: middle;\n",
       "    }\n",
       "\n",
       "    .dataframe tbody tr th {\n",
       "        vertical-align: top;\n",
       "    }\n",
       "\n",
       "    .dataframe thead th {\n",
       "        text-align: right;\n",
       "    }\n",
       "</style>\n",
       "<table border=\"1\" class=\"dataframe\">\n",
       "  <thead>\n",
       "    <tr style=\"text-align: right;\">\n",
       "      <th></th>\n",
       "      <th>pack</th>\n",
       "      <th>iron</th>\n",
       "    </tr>\n",
       "  </thead>\n",
       "  <tbody>\n",
       "    <tr>\n",
       "      <th>0</th>\n",
       "      <td>vein</td>\n",
       "      <td>low</td>\n",
       "    </tr>\n",
       "    <tr>\n",
       "      <th>1</th>\n",
       "      <td>artery</td>\n",
       "      <td>normal</td>\n",
       "    </tr>\n",
       "    <tr>\n",
       "      <th>2</th>\n",
       "      <td>artery</td>\n",
       "      <td>normal</td>\n",
       "    </tr>\n",
       "    <tr>\n",
       "      <th>3</th>\n",
       "      <td>artery</td>\n",
       "      <td>normal</td>\n",
       "    </tr>\n",
       "    <tr>\n",
       "      <th>4</th>\n",
       "      <td>artery</td>\n",
       "      <td>high</td>\n",
       "    </tr>\n",
       "  </tbody>\n",
       "</table>\n",
       "</div>"
      ],
      "text/plain": [
       "     pack    iron\n",
       "0    vein     low\n",
       "1  artery  normal\n",
       "2  artery  normal\n",
       "3  artery  normal\n",
       "4  artery    high"
      ]
     },
     "execution_count": 26,
     "metadata": {},
     "output_type": "execute_result"
    }
   ],
   "source": [
    "iron.head()"
   ]
  },
  {
   "cell_type": "code",
   "execution_count": 27,
   "id": "4f0def3f",
   "metadata": {},
   "outputs": [
    {
     "name": "stdout",
     "output_type": "stream",
     "text": [
      "iron    high  low  normal\n",
      "pack                     \n",
      "artery    87   29      29\n",
      "vein      20  140      40\n"
     ]
    }
   ],
   "source": [
    "#create contingency table\n",
    "Xtab = pd.crosstab(iron.pack, iron.iron)\n",
    "print(Xtab)"
   ]
  },
  {
   "cell_type": "markdown",
   "id": "6ed03c85",
   "metadata": {},
   "source": [
    "We’d like to find out if there is a significant association between which pack (Vein vs. Artery) someone subscribes to and their iron level.\n",
    "<br>\n",
    "\n",
    "<b>Null: </b>There is NOT an association between which pack (Vein vs. Artery) someone subscribes to and their iron level. <br>\n",
    "<b>Alternative: </b>There is an association between which pack (Vein vs. Artery) someone subscribes to and their iron level."
   ]
  },
  {
   "cell_type": "code",
   "execution_count": 31,
   "id": "c189f393",
   "metadata": {},
   "outputs": [
    {
     "name": "stdout",
     "output_type": "stream",
     "text": [
      "0.0000000000000000000000009360\n",
      "Reject the null hypothesis. There is a significant association between pack and iron level.\n"
     ]
    }
   ],
   "source": [
    "chi2, pval, dof, exp = chi2_contingency(Xtab)\n",
    "print(str(\"{:.28f}\".format(float(pval))))\n",
    "print(\"Reject the null hypothesis. There is a significant association between pack and iron level.\")"
   ]
  },
  {
   "cell_type": "code",
   "execution_count": null,
   "id": "2f929376",
   "metadata": {},
   "outputs": [],
   "source": []
  }
 ],
 "metadata": {
  "kernelspec": {
   "display_name": "Python 3",
   "language": "python",
   "name": "python3"
  },
  "language_info": {
   "codemirror_mode": {
    "name": "ipython",
    "version": 3
   },
   "file_extension": ".py",
   "mimetype": "text/x-python",
   "name": "python",
   "nbconvert_exporter": "python",
   "pygments_lexer": "ipython3",
   "version": "3.8.8"
  }
 },
 "nbformat": 4,
 "nbformat_minor": 5
}
