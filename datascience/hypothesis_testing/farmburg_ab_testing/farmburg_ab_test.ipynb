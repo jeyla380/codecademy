{
 "cells": [
  {
   "cell_type": "markdown",
   "id": "cafaddc7",
   "metadata": {},
   "source": [
    "#### HYPOTHESIS TESTING\n",
    "\n",
    "<br>\n",
    "\n",
    "## Analyzing Farmburg's A/B Test\n",
    "<hr>\n",
    "\n",
    "FarmBurg is a company that makes a farming simulation social network game. In the FarmBurg game, you can plow, plant, and harvest different crops. We want to conduct an A/B Test with three different variants (Group A: \\\\$0.99, Group B: \\\\$1.99, Group C: \\\\$4.99) to determine what would be the best price point to get a weekly revenue of \\\\$1,000.\n",
    "\n",
    "The `clicks.csv` has the following columns:\n",
    "- `user_id`: a unique id for each visitor to the FarmBurg site\n",
    "- `group`: either `A`, `B`, or `C`\n",
    "- `is_purchase`: either `Yes` if the visitor made a purchase, or `No` if they did not"
   ]
  },
  {
   "cell_type": "code",
   "execution_count": 32,
   "id": "f5f5b2cb",
   "metadata": {},
   "outputs": [],
   "source": [
    "import pandas as pd\n",
    "import numpy as np\n",
    "from scipy.stats import chi2_contingency, binom_test, binom"
   ]
  },
  {
   "cell_type": "code",
   "execution_count": 2,
   "id": "2865de6d",
   "metadata": {},
   "outputs": [
    {
     "data": {
      "text/html": [
       "<div>\n",
       "<style scoped>\n",
       "    .dataframe tbody tr th:only-of-type {\n",
       "        vertical-align: middle;\n",
       "    }\n",
       "\n",
       "    .dataframe tbody tr th {\n",
       "        vertical-align: top;\n",
       "    }\n",
       "\n",
       "    .dataframe thead th {\n",
       "        text-align: right;\n",
       "    }\n",
       "</style>\n",
       "<table border=\"1\" class=\"dataframe\">\n",
       "  <thead>\n",
       "    <tr style=\"text-align: right;\">\n",
       "      <th></th>\n",
       "      <th>user_id</th>\n",
       "      <th>group</th>\n",
       "      <th>is_purchase</th>\n",
       "    </tr>\n",
       "  </thead>\n",
       "  <tbody>\n",
       "    <tr>\n",
       "      <th>0</th>\n",
       "      <td>8e27bf9a</td>\n",
       "      <td>A</td>\n",
       "      <td>No</td>\n",
       "    </tr>\n",
       "    <tr>\n",
       "      <th>1</th>\n",
       "      <td>eb89e6f0</td>\n",
       "      <td>A</td>\n",
       "      <td>No</td>\n",
       "    </tr>\n",
       "    <tr>\n",
       "      <th>2</th>\n",
       "      <td>7119106a</td>\n",
       "      <td>A</td>\n",
       "      <td>No</td>\n",
       "    </tr>\n",
       "    <tr>\n",
       "      <th>3</th>\n",
       "      <td>e53781ff</td>\n",
       "      <td>A</td>\n",
       "      <td>No</td>\n",
       "    </tr>\n",
       "    <tr>\n",
       "      <th>4</th>\n",
       "      <td>02d48cf1</td>\n",
       "      <td>A</td>\n",
       "      <td>Yes</td>\n",
       "    </tr>\n",
       "  </tbody>\n",
       "</table>\n",
       "</div>"
      ],
      "text/plain": [
       "    user_id group is_purchase\n",
       "0  8e27bf9a     A          No\n",
       "1  eb89e6f0     A          No\n",
       "2  7119106a     A          No\n",
       "3  e53781ff     A          No\n",
       "4  02d48cf1     A         Yes"
      ]
     },
     "execution_count": 2,
     "metadata": {},
     "output_type": "execute_result"
    }
   ],
   "source": [
    "abdata = pd.read_csv('clicks.csv')\n",
    "abdata.head()"
   ]
  },
  {
   "cell_type": "code",
   "execution_count": 3,
   "id": "cfd03e6f",
   "metadata": {},
   "outputs": [
    {
     "name": "stdout",
     "output_type": "stream",
     "text": [
      "is_purchase    No  Yes\n",
      "group                 \n",
      "A            1350  316\n",
      "B            1483  183\n",
      "C            1583   83\n"
     ]
    }
   ],
   "source": [
    "Xtab = pd.crosstab(abdata.group, abdata['is_purchase'])\n",
    "print(Xtab)\n",
    "#group A ($0.99) has the most clicks"
   ]
  },
  {
   "cell_type": "code",
   "execution_count": 5,
   "id": "a9e50bfe",
   "metadata": {},
   "outputs": [
    {
     "name": "stdout",
     "output_type": "stream",
     "text": [
      "0.00000000000000000000000000000000002413\n",
      "There is a significant difference in the purchase rate for all 3 groups.\n"
     ]
    }
   ],
   "source": [
    "chi2, pval, dof, expected = chi2_contingency(Xtab)\n",
    "print(\"{:.38f}\".format(float(pval)))\n",
    "print(\"There is a significant difference in the purchase rate for all 3 groups.\")"
   ]
  },
  {
   "cell_type": "code",
   "execution_count": 8,
   "id": "99be438b",
   "metadata": {},
   "outputs": [
    {
     "name": "stdout",
     "output_type": "stream",
     "text": [
      "Total Rows: 4998\n"
     ]
    }
   ],
   "source": [
    "num_visits = len(abdata)\n",
    "print(\"Total Rows: \" + str(num_visits))"
   ]
  },
  {
   "cell_type": "code",
   "execution_count": 9,
   "id": "af6c0597",
   "metadata": {},
   "outputs": [
    {
     "name": "stdout",
     "output_type": "stream",
     "text": [
      "Number of Sales Needed for $0.99: 1010.1010101010102\n",
      "Probability for $0.99: 0.20210104243717691\n"
     ]
    }
   ],
   "source": [
    "#calculate the number of sales needed to reach $1,000 using a price point of $0.99\n",
    "num_sales_needed_099 = 1000 / 0.99\n",
    "print(\"Number of Sales Needed for $0.99: \" + str(num_sales_needed_099))\n",
    "\n",
    "#calculate the proportion of weekly visitors who would need to make a purchase in order to reach that goal\n",
    "p_sales_needed_099 = (num_sales_needed_099 / num_visits)\n",
    "print(\"Probability for $0.99: \" + str(p_sales_needed_099))"
   ]
  },
  {
   "cell_type": "code",
   "execution_count": 10,
   "id": "485b06bb",
   "metadata": {},
   "outputs": [
    {
     "name": "stdout",
     "output_type": "stream",
     "text": [
      "Number of Sales Needed for $1.99: 502.51256281407035\n",
      "Probability for $1.99: 0.10054272965467594\n"
     ]
    }
   ],
   "source": [
    "#calculate the # of sales needed to reach $1,000 using price point of $1.99\n",
    "num_sales_needed_199 = 1000 / 1.99\n",
    "print(\"Number of Sales Needed for $1.99: \" + str(num_sales_needed_199))\n",
    "\n",
    "#calculate the proportion of weekly visitors\n",
    "p_sales_needed_199 = (num_sales_needed_199 / num_visits)\n",
    "print(\"Probability for $1.99: \" + str(p_sales_needed_199))"
   ]
  },
  {
   "cell_type": "code",
   "execution_count": 11,
   "id": "825bee2a",
   "metadata": {},
   "outputs": [
    {
     "name": "stdout",
     "output_type": "stream",
     "text": [
      "Number of Sales Needed for $4.99: 200.40080160320642\n",
      "Probability for $4.99: 0.040096198800161346\n"
     ]
    }
   ],
   "source": [
    "#calculate the # of sales needed to reach $1,000 using price point of $4.99\n",
    "num_sales_needed_499 = 1000 / 4.99\n",
    "print(\"Number of Sales Needed for $4.99: \" + str(num_sales_needed_499))\n",
    "\n",
    "#calculate the proportion of weekly visitors\n",
    "p_sales_needed_499 = (num_sales_needed_499 / num_visits)\n",
    "print(\"Probability for $4.99: \" + str(p_sales_needed_499))"
   ]
  },
  {
   "cell_type": "markdown",
   "id": "56e2ddb7",
   "metadata": {},
   "source": [
    "#### Group A\n",
    "\n",
    "<b>Null: </b> p = 0.202 <br>\n",
    "<b>Alternative: </b> p > 0.202"
   ]
  },
  {
   "cell_type": "code",
   "execution_count": 14,
   "id": "8befc6e7",
   "metadata": {},
   "outputs": [
    {
     "name": "stdout",
     "output_type": "stream",
     "text": [
      "Group A p-value: 0.9028081076188985\n"
     ]
    }
   ],
   "source": [
    "#sample size is group A (who were offered $0.99 price)\n",
    "samp_size_099 = np.sum(abdata.group == \"A\")\n",
    "#print(samp_size_099)\n",
    "\n",
    "#sales_099 is those in group A who purchased\n",
    "sales_099 = np.sum((abdata.group == \"A\") & (abdata['is_purchase'] == 'Yes'))\n",
    "#print(sales_099)\n",
    "\n",
    "pvalueA = binom_test(x = sales_099, n = samp_size_099, p = p_sales_needed_099, alternative = 'greater')\n",
    "print(\"Group A p-value: \" + str(pvalueA))"
   ]
  },
  {
   "cell_type": "markdown",
   "id": "24826115",
   "metadata": {},
   "source": [
    "#### Group B\n",
    "\n",
    "<b>Null: </b> p = 0.101 <br>\n",
    "<b>Alternative: </b> p > 0.101"
   ]
  },
  {
   "cell_type": "code",
   "execution_count": 17,
   "id": "bd3ee584",
   "metadata": {},
   "outputs": [
    {
     "name": "stdout",
     "output_type": "stream",
     "text": [
      "Group B p-value: 0.11184562623739903\n"
     ]
    }
   ],
   "source": [
    "#group B has the $1.99 price\n",
    "samp_size_199 = np.sum(abdata.group == 'B')\n",
    "#print(samp_size_199)\n",
    "\n",
    "#sales_199 is for group B\n",
    "sales_199 = np.sum((abdata.group == \"B\") & (abdata['is_purchase'] == 'Yes'))\n",
    "#print(sales_199)\n",
    "\n",
    "pvalueB = binom_test(x = sales_199, n = samp_size_199, p = p_sales_needed_199, alternative = 'greater')\n",
    "print(\"Group B p-value: \" + str(pvalueB))"
   ]
  },
  {
   "cell_type": "markdown",
   "id": "6455a8b6",
   "metadata": {},
   "source": [
    "#### Group C\n",
    "\n",
    "<b>Null: </b> p = 0.04 <br>\n",
    "<b>Alternative: </b> p > 0.04"
   ]
  },
  {
   "cell_type": "code",
   "execution_count": 20,
   "id": "d75bbb57",
   "metadata": {},
   "outputs": [
    {
     "name": "stdout",
     "output_type": "stream",
     "text": [
      "Group C p-value: 0.027944826659907135\n"
     ]
    }
   ],
   "source": [
    "#group C has the $4.99 price\n",
    "samp_size_499 = np.sum(abdata.group == 'C')\n",
    "#print(samp_size_499)\n",
    "\n",
    "#sales_499 is for group C\n",
    "sales_499 = np.sum((abdata.group == \"C\") & (abdata['is_purchase'] == 'Yes'))\n",
    "#print(sales_499)\n",
    "\n",
    "pvalueC = binom_test(x = sales_499, n = samp_size_499, p = p_sales_needed_499, alternative = 'greater')\n",
    "print(\"Group C p-value: \" + str(pvalueC))"
   ]
  },
  {
   "cell_type": "markdown",
   "id": "3f36bbd6",
   "metadata": {},
   "source": [
    "The p-value for Group C is the only p-value below the threshold of 0.05 (reject the null hypothesis), meaning it's significantly higher than the original target. Therefore, the C group is the only group where we would conclude that the purchase rate would reach \\\\$1000 revenue per week."
   ]
  },
  {
   "cell_type": "code",
   "execution_count": null,
   "id": "ef301137",
   "metadata": {},
   "outputs": [],
   "source": []
  }
 ],
 "metadata": {
  "kernelspec": {
   "display_name": "Python 3",
   "language": "python",
   "name": "python3"
  },
  "language_info": {
   "codemirror_mode": {
    "name": "ipython",
    "version": 3
   },
   "file_extension": ".py",
   "mimetype": "text/x-python",
   "name": "python",
   "nbconvert_exporter": "python",
   "pygments_lexer": "ipython3",
   "version": "3.8.8"
  }
 },
 "nbformat": 4,
 "nbformat_minor": 5
}
