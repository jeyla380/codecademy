{
 "cells": [
  {
   "cell_type": "markdown",
   "id": "b4a09110",
   "metadata": {},
   "source": [
    "#### HYPOTHESIS TESTING\n",
    "\n",
    "<br>\n",
    "\n",
    "## Heart Disease Research Pt. II\n",
    "<hr>"
   ]
  },
  {
   "cell_type": "markdown",
   "id": "33dda623",
   "metadata": {},
   "source": [
    "The dataframe named `heart` contains the following variables:\n",
    "- `age`: age in years\n",
    "- `sex`: sex assigned at birth; `male` or `female`\n",
    "- `trestbps`: resting blood pressure in mm Hg\n",
    "- `chol`: serum cholesterol in mg/dl\n",
    "- `cp`: chest pain type (`typical angina`, `atypical angina`, `non-anginal pain`, or `asympotmatic`)\n",
    "- `exang`: whether the patient experiences exercise-induced angina (`1`: yes, `0`: no)\n",
    "- `fbs`: whether the patient's fasting blood surgar is > 120 mg/dl (`1`: yes, `0`: no)\n",
    "- `thalach`: maximum heart rate achieved in exercise test\n",
    "- `heart_disease`: whether the patient is found to have heart disease (`presence`: disagnosed with heart disease, `absence`: no heart disease)"
   ]
  },
  {
   "cell_type": "code",
   "execution_count": 2,
   "id": "66cb41b8",
   "metadata": {},
   "outputs": [],
   "source": [
    "import pandas as pd\n",
    "import numpy as np\n",
    "import matplotlib.pyplot as plt \n",
    "import seaborn as sns\n",
    "from scipy.stats import ttest_ind, f_oneway, chi2_contingency\n",
    "from statsmodels.stats.multicomp import pairwise_tukeyhsd"
   ]
  },
  {
   "cell_type": "code",
   "execution_count": 3,
   "id": "8ac7ee0d",
   "metadata": {},
   "outputs": [
    {
     "data": {
      "text/html": [
       "<div>\n",
       "<style scoped>\n",
       "    .dataframe tbody tr th:only-of-type {\n",
       "        vertical-align: middle;\n",
       "    }\n",
       "\n",
       "    .dataframe tbody tr th {\n",
       "        vertical-align: top;\n",
       "    }\n",
       "\n",
       "    .dataframe thead th {\n",
       "        text-align: right;\n",
       "    }\n",
       "</style>\n",
       "<table border=\"1\" class=\"dataframe\">\n",
       "  <thead>\n",
       "    <tr style=\"text-align: right;\">\n",
       "      <th></th>\n",
       "      <th>age</th>\n",
       "      <th>sex</th>\n",
       "      <th>trestbps</th>\n",
       "      <th>chol</th>\n",
       "      <th>cp</th>\n",
       "      <th>exang</th>\n",
       "      <th>fbs</th>\n",
       "      <th>thalach</th>\n",
       "      <th>heart_disease</th>\n",
       "    </tr>\n",
       "  </thead>\n",
       "  <tbody>\n",
       "    <tr>\n",
       "      <th>0</th>\n",
       "      <td>63.0</td>\n",
       "      <td>male</td>\n",
       "      <td>145.0</td>\n",
       "      <td>233.0</td>\n",
       "      <td>typical angina</td>\n",
       "      <td>0.0</td>\n",
       "      <td>1.0</td>\n",
       "      <td>150.0</td>\n",
       "      <td>absence</td>\n",
       "    </tr>\n",
       "    <tr>\n",
       "      <th>1</th>\n",
       "      <td>67.0</td>\n",
       "      <td>male</td>\n",
       "      <td>160.0</td>\n",
       "      <td>286.0</td>\n",
       "      <td>asymptomatic</td>\n",
       "      <td>1.0</td>\n",
       "      <td>0.0</td>\n",
       "      <td>108.0</td>\n",
       "      <td>presence</td>\n",
       "    </tr>\n",
       "    <tr>\n",
       "      <th>2</th>\n",
       "      <td>67.0</td>\n",
       "      <td>male</td>\n",
       "      <td>120.0</td>\n",
       "      <td>229.0</td>\n",
       "      <td>asymptomatic</td>\n",
       "      <td>1.0</td>\n",
       "      <td>0.0</td>\n",
       "      <td>129.0</td>\n",
       "      <td>presence</td>\n",
       "    </tr>\n",
       "    <tr>\n",
       "      <th>3</th>\n",
       "      <td>37.0</td>\n",
       "      <td>male</td>\n",
       "      <td>130.0</td>\n",
       "      <td>250.0</td>\n",
       "      <td>non-anginal pain</td>\n",
       "      <td>0.0</td>\n",
       "      <td>0.0</td>\n",
       "      <td>187.0</td>\n",
       "      <td>absence</td>\n",
       "    </tr>\n",
       "    <tr>\n",
       "      <th>4</th>\n",
       "      <td>41.0</td>\n",
       "      <td>female</td>\n",
       "      <td>130.0</td>\n",
       "      <td>204.0</td>\n",
       "      <td>atypical angina</td>\n",
       "      <td>0.0</td>\n",
       "      <td>0.0</td>\n",
       "      <td>172.0</td>\n",
       "      <td>absence</td>\n",
       "    </tr>\n",
       "  </tbody>\n",
       "</table>\n",
       "</div>"
      ],
      "text/plain": [
       "    age     sex  trestbps   chol                cp  exang  fbs  thalach  \\\n",
       "0  63.0    male     145.0  233.0    typical angina    0.0  1.0    150.0   \n",
       "1  67.0    male     160.0  286.0      asymptomatic    1.0  0.0    108.0   \n",
       "2  67.0    male     120.0  229.0      asymptomatic    1.0  0.0    129.0   \n",
       "3  37.0    male     130.0  250.0  non-anginal pain    0.0  0.0    187.0   \n",
       "4  41.0  female     130.0  204.0   atypical angina    0.0  0.0    172.0   \n",
       "\n",
       "  heart_disease  \n",
       "0       absence  \n",
       "1      presence  \n",
       "2      presence  \n",
       "3       absence  \n",
       "4       absence  "
      ]
     },
     "execution_count": 3,
     "metadata": {},
     "output_type": "execute_result"
    }
   ],
   "source": [
    "heart = pd.read_csv('heart_disease.csv')\n",
    "heart.head()"
   ]
  },
  {
   "cell_type": "markdown",
   "id": "f161a2c5",
   "metadata": {},
   "source": [
    "### Predictors of Heart Disease"
   ]
  },
  {
   "cell_type": "code",
   "execution_count": 4,
   "id": "0436f8a5",
   "metadata": {},
   "outputs": [
    {
     "data": {
      "image/png": "[encoded data removed]",
      "text/plain": [
       "<Figure size 432x288 with 1 Axes>"
      ]
     },
     "metadata": {
      "needs_background": "light"
     },
     "output_type": "display_data"
    }
   ],
   "source": [
    "sns.boxplot(x = heart['heart_disease'], y = heart.thalach)\n",
    "plt.show()"
   ]
  },
  {
   "cell_type": "code",
   "execution_count": 6,
   "id": "c0f657ff",
   "metadata": {},
   "outputs": [
    {
     "name": "stdout",
     "output_type": "stream",
     "text": [
      "1      108.0\n",
      "2      129.0\n",
      "6      160.0\n",
      "8      147.0\n",
      "9      155.0\n",
      "       ...  \n",
      "297    123.0\n",
      "298    132.0\n",
      "299    141.0\n",
      "300    115.0\n",
      "301    174.0\n",
      "Name: thalach, Length: 139, dtype: float64\n"
     ]
    }
   ],
   "source": [
    "thalach_hd = heart.thalach[heart['heart_disease'] == 'presence']\n",
    "print(thalach_hd)"
   ]
  },
  {
   "cell_type": "code",
   "execution_count": 7,
   "id": "d9aa7a81",
   "metadata": {},
   "outputs": [
    {
     "name": "stdout",
     "output_type": "stream",
     "text": [
      "0      150.0\n",
      "3      187.0\n",
      "4      172.0\n",
      "5      178.0\n",
      "7      163.0\n",
      "       ...  \n",
      "288    163.0\n",
      "289    169.0\n",
      "291    166.0\n",
      "295    182.0\n",
      "302    173.0\n",
      "Name: thalach, Length: 164, dtype: float64\n"
     ]
    }
   ],
   "source": [
    "thalach_no_hd = heart.thalach[heart['heart_disease'] == 'absence']\n",
    "print(thalach_no_hd)"
   ]
  },
  {
   "cell_type": "code",
   "execution_count": 8,
   "id": "cc0c9b11",
   "metadata": {},
   "outputs": [],
   "source": [
    "thalach_hd_mean = np.mean(thalach_hd)\n",
    "#print(thalach_hd_mean) = 139.259\n",
    "thalach_hd_median = np.median(thalach_hd)\n",
    "#print(thalach_hd_median) = 142\n",
    "thalach_no_hd_mean = np.mean(thalach_no_hd)\n",
    "#rint(thalach_no_hd_mean) = 158.378\n",
    "thalach_no_hd_median = np.median(thalach_no_hd)\n",
    "#print(thalach_no_hd_median) = 161"
   ]
  },
  {
   "cell_type": "code",
   "execution_count": 10,
   "id": "4864b3b6",
   "metadata": {},
   "outputs": [
    {
     "name": "stdout",
     "output_type": "stream",
     "text": [
      "Mean Difference: 19.11905597473242\n",
      "Median Difference: 19.0\n"
     ]
    }
   ],
   "source": [
    "mean_difference = np.abs(thalach_hd_mean - thalach_no_hd_mean)\n",
    "print(\"Mean Difference: \" + str(mean_difference))\n",
    "median_difference = np.abs(thalach_hd_median - thalach_no_hd_median)\n",
    "print(\"Median Difference: \" + str(median_difference))"
   ]
  },
  {
   "cell_type": "markdown",
   "id": "bf259a27",
   "metadata": {},
   "source": [
    "<br>\n",
    "\n",
    "<b>Null:</b> The average `thalach` for a person with heart disease is equal to the average `thalach` for a person without heart disease.\n",
    "\n",
    "<b>Alternative:</b> The average `thalach` for a person with heart disease is NOT equal to the average `thalach` for a person without heart disease."
   ]
  },
  {
   "cell_type": "code",
   "execution_count": 12,
   "id": "fbc5e9d3",
   "metadata": {},
   "outputs": [
    {
     "name": "stdout",
     "output_type": "stream",
     "text": [
      "0.00000000000003457\n"
     ]
    }
   ],
   "source": [
    "#use thalach_hd and thalach_no_hd\n",
    "tstat, pval = ttest_ind(thalach_hd, thalach_no_hd)\n",
    "print(\"{:.17f}\".format(float(pval)))"
   ]
  },
  {
   "cell_type": "markdown",
   "id": "c17bbdc3",
   "metadata": {},
   "source": [
    "There is a significant difference between people with and without heart disease; we reject the null hypothesis.\n",
    "\n",
    "<br>"
   ]
  },
  {
   "cell_type": "code",
   "execution_count": 13,
   "id": "8386806f",
   "metadata": {},
   "outputs": [
    {
     "data": {
      "image/png": "[encoded data removed]",
      "text/plain": [
       "<Figure size 432x288 with 1 Axes>"
      ]
     },
     "metadata": {
      "needs_background": "light"
     },
     "output_type": "display_data"
    }
   ],
   "source": [
    "sns.boxplot(x = heart['heart_disease'], y = heart.age)\n",
    "plt.show()"
   ]
  },
  {
   "cell_type": "markdown",
   "id": "7d764c2b",
   "metadata": {},
   "source": [
    "### Chest Pain and Max Heart Rate"
   ]
  },
  {
   "cell_type": "code",
   "execution_count": 14,
   "id": "36459861",
   "metadata": {},
   "outputs": [
    {
     "data": {
      "image/png": "[encoded data removed]",
      "text/plain": [
       "<Figure size 432x288 with 1 Axes>"
      ]
     },
     "metadata": {
      "needs_background": "light"
     },
     "output_type": "display_data"
    }
   ],
   "source": [
    "sns.boxplot(x = heart.cp, y = heart['thalach'])\n",
    "plt.show()"
   ]
  },
  {
   "cell_type": "code",
   "execution_count": 15,
   "id": "10793b7f",
   "metadata": {},
   "outputs": [],
   "source": [
    "thalach_typical = heart.thalach[heart.cp == 'typical angina']\n",
    "#print(thalach_typical)\n",
    "thalach_asymptom = heart.thalach[heart.cp == 'asymptomatic']\n",
    "#print(thalach_asymptom)\n",
    "thalach_nonangin = heart.thalach[heart.cp == 'non-anginal pain']\n",
    "#print(thalach_nonangin)\n",
    "thalach_atypical = heart.thalach[heart.cp == 'atypical angina']\n",
    "#print(thalach_atypical)"
   ]
  },
  {
   "cell_type": "markdown",
   "id": "bb48ab74",
   "metadata": {},
   "source": [
    "<br>\n",
    "\n",
    "<b>Null:</b> People with typical angina, non-anginal pain, atypical angina, and asymptomatic people all have the same average `thalach`.\n",
    "\n",
    "<b>Alternative:</b> People with typical angina, non-anginal pain, atypical angina, and asymptomatic people <b>do not</b> all have the same average `thalach`."
   ]
  },
  {
   "cell_type": "code",
   "execution_count": 16,
   "id": "47523fed",
   "metadata": {},
   "outputs": [
    {
     "name": "stdout",
     "output_type": "stream",
     "text": [
      "0.0000000001907\n"
     ]
    }
   ],
   "source": [
    "#we could use 6 separate 2 sample ttests, but it might cause a higher margin of type 1 error, so using ANOVA would be more efficent\n",
    "fstat, pval = f_oneway(thalach_typical, thalach_asymptom, thalach_nonangin, thalach_atypical)\n",
    "print(\"{:.13f}\".format(float(pval)))"
   ]
  },
  {
   "cell_type": "markdown",
   "id": "476f2dbd",
   "metadata": {},
   "source": [
    "There is a significant difference between people with typical angina, non-anginal pain, atypical angina, and asymptomatic chest pain with the same avg thalach, than with those that do not; therefore, we reject the null hypothesis.\n",
    "\n",
    "<br>"
   ]
  },
  {
   "cell_type": "code",
   "execution_count": 17,
   "id": "46c1995e",
   "metadata": {},
   "outputs": [
    {
     "name": "stdout",
     "output_type": "stream",
     "text": [
      "           Multiple Comparison of Means - Tukey HSD, FWER=0.05           \n",
      "=========================================================================\n",
      "     group1           group2      meandiff p-adj   lower    upper  reject\n",
      "-------------------------------------------------------------------------\n",
      "    asymptomatic  atypical angina  21.7394  0.001  12.7439  30.735   True\n",
      "    asymptomatic non-anginal pain  14.7264  0.001    7.258 22.1948   True\n",
      "    asymptomatic   typical angina   15.276 0.0081   2.9702 27.5817   True\n",
      " atypical angina non-anginal pain   -7.013 0.2481 -16.7591   2.733  False\n",
      " atypical angina   typical angina  -6.4635 0.6069 -20.2707  7.3438  False\n",
      "non-anginal pain   typical angina   0.5495    0.9  -12.315 13.4141  False\n",
      "-------------------------------------------------------------------------\n"
     ]
    }
   ],
   "source": [
    "tukey_result= pairwise_tukeyhsd(heart.thalach, heart.cp, 0.05)\n",
    "print(tukey_result)"
   ]
  },
  {
   "cell_type": "markdown",
   "id": "95b48c51",
   "metadata": {},
   "source": [
    "Anything paired with `asymptomatic` is significantly different and we reject the null hypothesis that all the `cp` categories are similar to the average `thalach`.\n",
    "\n",
    "<br>"
   ]
  },
  {
   "cell_type": "markdown",
   "id": "073121d9",
   "metadata": {},
   "source": [
    "### Heart Disease and Chest Pain"
   ]
  },
  {
   "cell_type": "code",
   "execution_count": 18,
   "id": "557cc4fc",
   "metadata": {},
   "outputs": [
    {
     "name": "stdout",
     "output_type": "stream",
     "text": [
      "heart_disease     absence  presence\n",
      "cp                                 \n",
      "asymptomatic           39       105\n",
      "atypical angina        41         9\n",
      "non-anginal pain       68        18\n",
      "typical angina         16         7\n"
     ]
    }
   ],
   "source": [
    "Xtab = pd.crosstab(heart.cp, heart['heart_disease'])\n",
    "print(Xtab)"
   ]
  },
  {
   "cell_type": "code",
   "execution_count": 19,
   "id": "ca539e81",
   "metadata": {},
   "outputs": [
    {
     "name": "stdout",
     "output_type": "stream",
     "text": [
      "0.00000000000000001252\n"
     ]
    }
   ],
   "source": [
    "chi2, pval, dof, expected = chi2_contingency(Xtab)\n",
    "print(\"{:.20f}\".format(float(pval)))"
   ]
  },
  {
   "cell_type": "markdown",
   "id": "ff719cab",
   "metadata": {},
   "source": [
    "There is a significant association between these variables, and the null hypothesis is rejected."
   ]
  },
  {
   "cell_type": "code",
   "execution_count": null,
   "id": "a0e05bb9",
   "metadata": {},
   "outputs": [],
   "source": []
  }
 ],
 "metadata": {
  "kernelspec": {
   "display_name": "Python 3",
   "language": "python",
   "name": "python3"
  },
  "language_info": {
   "codemirror_mode": {
    "name": "ipython",
    "version": 3
   },
   "file_extension": ".py",
   "mimetype": "text/x-python",
   "name": "python",
   "nbconvert_exporter": "python",
   "pygments_lexer": "ipython3",
   "version": "3.8.8"
  }
 },
 "nbformat": 4,
 "nbformat_minor": 5
}
