{
 "cells": [
  {
   "cell_type": "markdown",
   "id": "1f7915a1",
   "metadata": {},
   "source": [
    "#### HYPOTHESIS TESTING\n",
    "\n",
    "<br>\n",
    "\n",
    "## A/B Testing at Nosh Mish Mosh\n",
    "<hr>"
   ]
  },
  {
   "cell_type": "code",
   "execution_count": 1,
   "id": "c9a39e17",
   "metadata": {},
   "outputs": [],
   "source": [
    "import noshmishmosh\n",
    "import numpy as np"
   ]
  },
  {
   "cell_type": "markdown",
   "id": "445ff6ce",
   "metadata": {},
   "source": [
    "### A/B Testing at Nosh Mish Mosh\n",
    "\n",
    "Nosh Mish Mosh wants to run an experiment to see if we can convince more people to purchase meal plans if we use a more artisanal-looking vegetable selection. We’ve photographed these modern meals with blush tomatoes and graffiti eggplants, but aren’t sure if this strategy will sell enough units to benefit from establishing a business relationship with a new provider.\n",
    "<br>\n",
    "We need to know the sample size that will be required to detect the difference we are hoping for. There are three things we need to know before we can determine that number.\n",
    "- The Baseline Conversion Rate\n",
    "- Minimum Detectable Effect (desired lift)\n",
    "- The Statistical Significance Threshold"
   ]
  },
  {
   "cell_type": "code",
   "execution_count": 5,
   "id": "a86f1ace",
   "metadata": {},
   "outputs": [],
   "source": [
    "all_visitors = noshmishmosh.customer_visits\n",
    "#print(all_visitors)\n",
    "paying_visitors = noshmishmosh.purchasing_customers\n",
    "#print(paying_visitors)"
   ]
  },
  {
   "cell_type": "code",
   "execution_count": 7,
   "id": "a86878bb",
   "metadata": {},
   "outputs": [
    {
     "name": "stdout",
     "output_type": "stream",
     "text": [
      "Total Visitors: 500\n",
      "Paying Visitors: 93\n"
     ]
    }
   ],
   "source": [
    "total_visitor_count = len(all_visitors)\n",
    "paying_visitor_count = len(paying_visitors)\n",
    "print(\"Total Visitors: \" + str(total_visitor_count))\n",
    "print(\"Paying Visitors: \" + str(paying_visitor_count))"
   ]
  },
  {
   "cell_type": "code",
   "execution_count": 8,
   "id": "4926ce72",
   "metadata": {},
   "outputs": [
    {
     "name": "stdout",
     "output_type": "stream",
     "text": [
      "Baseline: 18.6%\n"
     ]
    }
   ],
   "source": [
    "baseline_percent = (paying_visitor_count / total_visitor_count) * 100\n",
    "print(\"Baseline: \" + str(baseline_percent) + \"%\")"
   ]
  },
  {
   "cell_type": "markdown",
   "id": "581dcf77",
   "metadata": {},
   "source": [
    "### The Effect Size (Minimum Detectable Effect)\n",
    "\n",
    "<br>\n",
    "We’d like to know for sure that, with this change, we’ll be pulling in at least $1240 more every week. In order to figure out how many more customers we need, we’ll have to investigate the average revenue generated from a given sale."
   ]
  },
  {
   "cell_type": "code",
   "execution_count": 9,
   "id": "0a6a8d94",
   "metadata": {},
   "outputs": [],
   "source": [
    "payment_history = noshmishmosh.money_spent\n",
    "#print(payment_history)"
   ]
  },
  {
   "cell_type": "markdown",
   "id": "75c2d8a8",
   "metadata": {},
   "source": [
    "We need to find how many purchases it would take to reach $1240 in additional revenue using our historical data."
   ]
  },
  {
   "cell_type": "code",
   "execution_count": 10,
   "id": "f8801da3",
   "metadata": {},
   "outputs": [
    {
     "name": "stdout",
     "output_type": "stream",
     "text": [
      "26.543655913978498\n"
     ]
    }
   ],
   "source": [
    "#this is average payment per customer\n",
    "average_payment = np.mean(payment_history)\n",
    "print(average_payment)"
   ]
  },
  {
   "cell_type": "code",
   "execution_count": 11,
   "id": "36edc83e",
   "metadata": {},
   "outputs": [
    {
     "name": "stdout",
     "output_type": "stream",
     "text": [
      "New Customers Needed to Reach $1240: 47.0 Customers\n"
     ]
    }
   ],
   "source": [
    "new_customers_needed = np.ceil(1240 / average_payment)\n",
    "print(\"New Customers Needed to Reach $1240: \" + str(new_customers_needed) + \" Customers\")"
   ]
  },
  {
   "cell_type": "markdown",
   "id": "1d0162cb",
   "metadata": {},
   "source": [
    "Now find the additional percent of weekly visitors who must make a purchase in order to make this change worthwhile."
   ]
  },
  {
   "cell_type": "code",
   "execution_count": 12,
   "id": "e9539f6a",
   "metadata": {},
   "outputs": [
    {
     "name": "stdout",
     "output_type": "stream",
     "text": [
      "9.4\n"
     ]
    }
   ],
   "source": [
    "percentage_point_increase = (new_customers_needed / total_visitor_count) * 100\n",
    "print(percentage_point_increase)"
   ]
  },
  {
   "cell_type": "markdown",
   "id": "1b7359e4",
   "metadata": {},
   "source": [
    "In order to find our minimum detectable effect/desired lift, we need to express `percentage_point_increase` as a percent of `baseline_percent`."
   ]
  },
  {
   "cell_type": "code",
   "execution_count": 13,
   "id": "e165640d",
   "metadata": {},
   "outputs": [
    {
     "name": "stdout",
     "output_type": "stream",
     "text": [
      "Minimum Detectable Effect: 50.53763440860215%\n"
     ]
    }
   ],
   "source": [
    "mde = (percentage_point_increase / baseline_percent) * 100\n",
    "print(\"Minimum Detectable Effect: \" + str(mde) + \"%\")"
   ]
  },
  {
   "cell_type": "markdown",
   "id": "1a15ce9f",
   "metadata": {},
   "source": [
    "### Tying it All Together"
   ]
  },
  {
   "cell_type": "code",
   "execution_count": 14,
   "id": "04ebd855",
   "metadata": {},
   "outputs": [],
   "source": [
    "#using an external A/B calculator with baseline_percent, mde, & significance threshold as 10%\n",
    "ab_sample_size = 490"
   ]
  },
  {
   "cell_type": "code",
   "execution_count": null,
   "id": "97411a0f",
   "metadata": {},
   "outputs": [],
   "source": []
  }
 ],
 "metadata": {
  "kernelspec": {
   "display_name": "Python 3",
   "language": "python",
   "name": "python3"
  },
  "language_info": {
   "codemirror_mode": {
    "name": "ipython",
    "version": 3
   },
   "file_extension": ".py",
   "mimetype": "text/x-python",
   "name": "python",
   "nbconvert_exporter": "python",
   "pygments_lexer": "ipython3",
   "version": "3.8.8"
  }
 },
 "nbformat": 4,
 "nbformat_minor": 5
}
