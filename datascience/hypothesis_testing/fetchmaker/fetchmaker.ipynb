{
 "cells": [
  {
   "cell_type": "markdown",
   "id": "65f181df",
   "metadata": {},
   "source": [
    "#### HYPOTHESIS TESTING\n",
    "\n",
    "<br>\n",
    "\n",
    "## FetchMaker\n",
    "\n",
    "<hr>\n",
    "\n",
    "FetchMaker’s mission is to match up prospective dog owners with their perfect pet.\n",
    "\n",
    "<br>\n",
    "\n",
    "FetchMaker has provided us with data for a sample of dogs from their app, including the following attributes:\n",
    "- `weight` (int) represents how heavy a dog is in pounds\n",
    "- `tail_length` (float) represents tail length in inches\n",
    "- `age` (int) in years\n",
    "- `color` (string) represents color of dog's fur\n",
    "- `is_rescue` (boolean) determines if the dog is a rescue (`1`) or not (`0`)"
   ]
  },
  {
   "cell_type": "code",
   "execution_count": 1,
   "id": "24eaa767",
   "metadata": {},
   "outputs": [],
   "source": [
    "import numpy as np\n",
    "import pandas as pd\n",
    "from scipy.stats import binom_test, f_oneway, chi2_contingency\n",
    "from statsmodels.stats.multicomp import pairwise_tukeyhsd\n",
    "import seaborn as sns\n",
    "import matplotlib.pyplot as plt"
   ]
  },
  {
   "cell_type": "markdown",
   "id": "8dd9bd1e",
   "metadata": {},
   "source": [
    "### Data to the Rescue"
   ]
  },
  {
   "cell_type": "code",
   "execution_count": 3,
   "id": "42fae1e3",
   "metadata": {},
   "outputs": [
    {
     "data": {
      "text/html": [
       "<div>\n",
       "<style scoped>\n",
       "    .dataframe tbody tr th:only-of-type {\n",
       "        vertical-align: middle;\n",
       "    }\n",
       "\n",
       "    .dataframe tbody tr th {\n",
       "        vertical-align: top;\n",
       "    }\n",
       "\n",
       "    .dataframe thead th {\n",
       "        text-align: right;\n",
       "    }\n",
       "</style>\n",
       "<table border=\"1\" class=\"dataframe\">\n",
       "  <thead>\n",
       "    <tr style=\"text-align: right;\">\n",
       "      <th></th>\n",
       "      <th>is_rescue</th>\n",
       "      <th>weight</th>\n",
       "      <th>tail_length</th>\n",
       "      <th>age</th>\n",
       "      <th>color</th>\n",
       "      <th>likes_children</th>\n",
       "      <th>is_hypoallergenic</th>\n",
       "      <th>name</th>\n",
       "      <th>breed</th>\n",
       "    </tr>\n",
       "  </thead>\n",
       "  <tbody>\n",
       "    <tr>\n",
       "      <th>0</th>\n",
       "      <td>0</td>\n",
       "      <td>6</td>\n",
       "      <td>2.25</td>\n",
       "      <td>2</td>\n",
       "      <td>black</td>\n",
       "      <td>1</td>\n",
       "      <td>0</td>\n",
       "      <td>Huey</td>\n",
       "      <td>chihuahua</td>\n",
       "    </tr>\n",
       "    <tr>\n",
       "      <th>1</th>\n",
       "      <td>0</td>\n",
       "      <td>4</td>\n",
       "      <td>5.36</td>\n",
       "      <td>4</td>\n",
       "      <td>black</td>\n",
       "      <td>0</td>\n",
       "      <td>0</td>\n",
       "      <td>Cherish</td>\n",
       "      <td>chihuahua</td>\n",
       "    </tr>\n",
       "    <tr>\n",
       "      <th>2</th>\n",
       "      <td>0</td>\n",
       "      <td>7</td>\n",
       "      <td>3.63</td>\n",
       "      <td>3</td>\n",
       "      <td>black</td>\n",
       "      <td>0</td>\n",
       "      <td>1</td>\n",
       "      <td>Becka</td>\n",
       "      <td>chihuahua</td>\n",
       "    </tr>\n",
       "    <tr>\n",
       "      <th>3</th>\n",
       "      <td>0</td>\n",
       "      <td>5</td>\n",
       "      <td>0.19</td>\n",
       "      <td>2</td>\n",
       "      <td>black</td>\n",
       "      <td>0</td>\n",
       "      <td>0</td>\n",
       "      <td>Addie</td>\n",
       "      <td>chihuahua</td>\n",
       "    </tr>\n",
       "    <tr>\n",
       "      <th>4</th>\n",
       "      <td>0</td>\n",
       "      <td>5</td>\n",
       "      <td>0.37</td>\n",
       "      <td>1</td>\n",
       "      <td>black</td>\n",
       "      <td>1</td>\n",
       "      <td>1</td>\n",
       "      <td>Beverlee</td>\n",
       "      <td>chihuahua</td>\n",
       "    </tr>\n",
       "  </tbody>\n",
       "</table>\n",
       "</div>"
      ],
      "text/plain": [
       "   is_rescue  weight  tail_length  age  color  likes_children  \\\n",
       "0          0       6         2.25    2  black               1   \n",
       "1          0       4         5.36    4  black               0   \n",
       "2          0       7         3.63    3  black               0   \n",
       "3          0       5         0.19    2  black               0   \n",
       "4          0       5         0.37    1  black               1   \n",
       "\n",
       "   is_hypoallergenic      name      breed  \n",
       "0                  0      Huey  chihuahua  \n",
       "1                  0   Cherish  chihuahua  \n",
       "2                  1     Becka  chihuahua  \n",
       "3                  0     Addie  chihuahua  \n",
       "4                  1  Beverlee  chihuahua  "
      ]
     },
     "execution_count": 3,
     "metadata": {},
     "output_type": "execute_result"
    }
   ],
   "source": [
    "dogs = pd.read_csv('dog_data.csv')\n",
    "dogs.head()"
   ]
  },
  {
   "cell_type": "code",
   "execution_count": 4,
   "id": "1fe6556f",
   "metadata": {},
   "outputs": [
    {
     "data": {
      "text/html": [
       "<div>\n",
       "<style scoped>\n",
       "    .dataframe tbody tr th:only-of-type {\n",
       "        vertical-align: middle;\n",
       "    }\n",
       "\n",
       "    .dataframe tbody tr th {\n",
       "        vertical-align: top;\n",
       "    }\n",
       "\n",
       "    .dataframe thead th {\n",
       "        text-align: right;\n",
       "    }\n",
       "</style>\n",
       "<table border=\"1\" class=\"dataframe\">\n",
       "  <thead>\n",
       "    <tr style=\"text-align: right;\">\n",
       "      <th></th>\n",
       "      <th>is_rescue</th>\n",
       "      <th>weight</th>\n",
       "      <th>tail_length</th>\n",
       "      <th>age</th>\n",
       "      <th>color</th>\n",
       "      <th>likes_children</th>\n",
       "      <th>is_hypoallergenic</th>\n",
       "      <th>name</th>\n",
       "      <th>breed</th>\n",
       "    </tr>\n",
       "  </thead>\n",
       "  <tbody>\n",
       "    <tr>\n",
       "      <th>200</th>\n",
       "      <td>0</td>\n",
       "      <td>71</td>\n",
       "      <td>5.74</td>\n",
       "      <td>4</td>\n",
       "      <td>black</td>\n",
       "      <td>0</td>\n",
       "      <td>0</td>\n",
       "      <td>Charlot</td>\n",
       "      <td>pitbull</td>\n",
       "    </tr>\n",
       "    <tr>\n",
       "      <th>201</th>\n",
       "      <td>0</td>\n",
       "      <td>26</td>\n",
       "      <td>11.56</td>\n",
       "      <td>3</td>\n",
       "      <td>black</td>\n",
       "      <td>0</td>\n",
       "      <td>0</td>\n",
       "      <td>Jud</td>\n",
       "      <td>pitbull</td>\n",
       "    </tr>\n",
       "    <tr>\n",
       "      <th>202</th>\n",
       "      <td>0</td>\n",
       "      <td>56</td>\n",
       "      <td>10.76</td>\n",
       "      <td>4</td>\n",
       "      <td>black</td>\n",
       "      <td>0</td>\n",
       "      <td>0</td>\n",
       "      <td>Rosamund</td>\n",
       "      <td>pitbull</td>\n",
       "    </tr>\n",
       "    <tr>\n",
       "      <th>203</th>\n",
       "      <td>0</td>\n",
       "      <td>33</td>\n",
       "      <td>6.32</td>\n",
       "      <td>4</td>\n",
       "      <td>black</td>\n",
       "      <td>1</td>\n",
       "      <td>0</td>\n",
       "      <td>Ruthann</td>\n",
       "      <td>pitbull</td>\n",
       "    </tr>\n",
       "    <tr>\n",
       "      <th>204</th>\n",
       "      <td>0</td>\n",
       "      <td>54</td>\n",
       "      <td>17.18</td>\n",
       "      <td>4</td>\n",
       "      <td>black</td>\n",
       "      <td>1</td>\n",
       "      <td>1</td>\n",
       "      <td>Bryon</td>\n",
       "      <td>pitbull</td>\n",
       "    </tr>\n",
       "  </tbody>\n",
       "</table>\n",
       "</div>"
      ],
      "text/plain": [
       "     is_rescue  weight  tail_length  age  color  likes_children  \\\n",
       "200          0      71         5.74    4  black               0   \n",
       "201          0      26        11.56    3  black               0   \n",
       "202          0      56        10.76    4  black               0   \n",
       "203          0      33         6.32    4  black               1   \n",
       "204          0      54        17.18    4  black               1   \n",
       "\n",
       "     is_hypoallergenic      name    breed  \n",
       "200                  0   Charlot  pitbull  \n",
       "201                  0       Jud  pitbull  \n",
       "202                  0  Rosamund  pitbull  \n",
       "203                  0   Ruthann  pitbull  \n",
       "204                  1     Bryon  pitbull  "
      ]
     },
     "execution_count": 4,
     "metadata": {},
     "output_type": "execute_result"
    }
   ],
   "source": [
    "# shows rows that only contain whippets, terriers, and pitbulls\n",
    "dogs_wtp = dogs[dogs.breed.isin(['whippet', 'terrier', 'pitbull'])]\n",
    "dogs_wtp.head()"
   ]
  },
  {
   "cell_type": "code",
   "execution_count": 5,
   "id": "9e161b21",
   "metadata": {},
   "outputs": [
    {
     "data": {
      "text/html": [
       "<div>\n",
       "<style scoped>\n",
       "    .dataframe tbody tr th:only-of-type {\n",
       "        vertical-align: middle;\n",
       "    }\n",
       "\n",
       "    .dataframe tbody tr th {\n",
       "        vertical-align: top;\n",
       "    }\n",
       "\n",
       "    .dataframe thead th {\n",
       "        text-align: right;\n",
       "    }\n",
       "</style>\n",
       "<table border=\"1\" class=\"dataframe\">\n",
       "  <thead>\n",
       "    <tr style=\"text-align: right;\">\n",
       "      <th></th>\n",
       "      <th>is_rescue</th>\n",
       "      <th>weight</th>\n",
       "      <th>tail_length</th>\n",
       "      <th>age</th>\n",
       "      <th>color</th>\n",
       "      <th>likes_children</th>\n",
       "      <th>is_hypoallergenic</th>\n",
       "      <th>name</th>\n",
       "      <th>breed</th>\n",
       "    </tr>\n",
       "  </thead>\n",
       "  <tbody>\n",
       "    <tr>\n",
       "      <th>300</th>\n",
       "      <td>0</td>\n",
       "      <td>58</td>\n",
       "      <td>8.05</td>\n",
       "      <td>1</td>\n",
       "      <td>black</td>\n",
       "      <td>1</td>\n",
       "      <td>0</td>\n",
       "      <td>Moise</td>\n",
       "      <td>poodle</td>\n",
       "    </tr>\n",
       "    <tr>\n",
       "      <th>301</th>\n",
       "      <td>0</td>\n",
       "      <td>56</td>\n",
       "      <td>9.44</td>\n",
       "      <td>4</td>\n",
       "      <td>black</td>\n",
       "      <td>1</td>\n",
       "      <td>0</td>\n",
       "      <td>Boote</td>\n",
       "      <td>poodle</td>\n",
       "    </tr>\n",
       "    <tr>\n",
       "      <th>302</th>\n",
       "      <td>1</td>\n",
       "      <td>59</td>\n",
       "      <td>4.04</td>\n",
       "      <td>4</td>\n",
       "      <td>black</td>\n",
       "      <td>1</td>\n",
       "      <td>0</td>\n",
       "      <td>Beatrix</td>\n",
       "      <td>poodle</td>\n",
       "    </tr>\n",
       "    <tr>\n",
       "      <th>303</th>\n",
       "      <td>0</td>\n",
       "      <td>70</td>\n",
       "      <td>12.37</td>\n",
       "      <td>1</td>\n",
       "      <td>black</td>\n",
       "      <td>1</td>\n",
       "      <td>0</td>\n",
       "      <td>Rabbi</td>\n",
       "      <td>poodle</td>\n",
       "    </tr>\n",
       "    <tr>\n",
       "      <th>304</th>\n",
       "      <td>0</td>\n",
       "      <td>52</td>\n",
       "      <td>11.42</td>\n",
       "      <td>2</td>\n",
       "      <td>black</td>\n",
       "      <td>0</td>\n",
       "      <td>0</td>\n",
       "      <td>Tallou</td>\n",
       "      <td>poodle</td>\n",
       "    </tr>\n",
       "  </tbody>\n",
       "</table>\n",
       "</div>"
      ],
      "text/plain": [
       "     is_rescue  weight  tail_length  age  color  likes_children  \\\n",
       "300          0      58         8.05    1  black               1   \n",
       "301          0      56         9.44    4  black               1   \n",
       "302          1      59         4.04    4  black               1   \n",
       "303          0      70        12.37    1  black               1   \n",
       "304          0      52        11.42    2  black               0   \n",
       "\n",
       "     is_hypoallergenic     name   breed  \n",
       "300                  0    Moise  poodle  \n",
       "301                  0    Boote  poodle  \n",
       "302                  0  Beatrix  poodle  \n",
       "303                  0    Rabbi  poodle  \n",
       "304                  0   Tallou  poodle  "
      ]
     },
     "execution_count": 5,
     "metadata": {},
     "output_type": "execute_result"
    }
   ],
   "source": [
    "# shows rows that only contain poodles and shihtzus\n",
    "dogs_ps = dogs[dogs.breed.isin(['poodle', 'shihtzu'])]\n",
    "dogs_ps.head()"
   ]
  },
  {
   "cell_type": "code",
   "execution_count": 8,
   "id": "9d2fc581",
   "metadata": {},
   "outputs": [
    {
     "name": "stdout",
     "output_type": "stream",
     "text": [
      "700    0\n",
      "701    0\n",
      "702    0\n",
      "703    0\n",
      "704    0\n",
      "      ..\n",
      "795    0\n",
      "796    0\n",
      "797    0\n",
      "798    0\n",
      "799    0\n",
      "Name: is_rescue, Length: 100, dtype: int64\n"
     ]
    }
   ],
   "source": [
    "#finds all the is_rescue column that are 'whippet' breed\n",
    "whippet_rescue = dogs.is_rescue[dogs.breed == 'whippet']\n",
    "print(whippet_rescue)"
   ]
  },
  {
   "cell_type": "code",
   "execution_count": 9,
   "id": "30f17bdd",
   "metadata": {},
   "outputs": [
    {
     "name": "stdout",
     "output_type": "stream",
     "text": [
      "6\n"
     ]
    }
   ],
   "source": [
    "#finds the sum of all the whippet rescues that are equal to 1\n",
    "num_whippet_rescues = np.sum(whippet_rescue == 1)\n",
    "print(num_whippet_rescues)"
   ]
  },
  {
   "cell_type": "code",
   "execution_count": 10,
   "id": "e12bf0f4",
   "metadata": {},
   "outputs": [
    {
     "name": "stdout",
     "output_type": "stream",
     "text": [
      "100\n"
     ]
    }
   ],
   "source": [
    "#this is the total number of whippets in the is_rescue column (regardless of 0 or 1)\n",
    "num_whippets = len(whippet_rescue)\n",
    "print(num_whippets)"
   ]
  },
  {
   "cell_type": "markdown",
   "id": "bb0fa86d",
   "metadata": {},
   "source": [
    "FetchMaker estimates (based on historical data for all dogs) that 8% of dogs in their system are rescues. We want to know if 8% of whippets are rescues.\n",
    "\n",
    "<br>\n",
    "\n",
    "<b>Null: </b>8% of whippets are rescues <br>\n",
    "<b>Alternative: </b>more or less than 8% of whippets are rescues"
   ]
  },
  {
   "cell_type": "code",
   "execution_count": 14,
   "id": "6232b621",
   "metadata": {},
   "outputs": [
    {
     "name": "stdout",
     "output_type": "stream",
     "text": [
      "p-value: 0.5811780106238098\n",
      "Do not reject the null hypothesis. We can say that 8% of rescues are whippets.\n"
     ]
    }
   ],
   "source": [
    "#use binom_test since it's dealing w/ binary category & comparing a sample statistic\n",
    "pval = binom_test(x = num_whippet_rescues, n = num_whippets, p = 0.08, alternative = 'two-sided')\n",
    "print(\"p-value: \" + str(pval))\n",
    "print(\"Do not reject the null hypothesis. We can say that 8% of rescues are whippets.\")"
   ]
  },
  {
   "cell_type": "markdown",
   "id": "3e37e09d",
   "metadata": {},
   "source": [
    "### Mid-Sized Dog Weights"
   ]
  },
  {
   "cell_type": "code",
   "execution_count": 15,
   "id": "96698fc1",
   "metadata": {},
   "outputs": [],
   "source": [
    "wt_whippets = dogs.weight[dogs.breed == 'whippet']\n",
    "#print(wt_whippets)\n",
    "wt_terriers = dogs.weight[dogs.breed == 'terrier']\n",
    "#print(wt_terriers)\n",
    "wt_pitbulls = dogs.weight[dogs.breed == 'pitbull']\n",
    "#print(wt_pitbulls)"
   ]
  },
  {
   "cell_type": "markdown",
   "id": "7fd1db66",
   "metadata": {},
   "source": [
    "Is there a significant difference in the average weights of these three dog breeds?\n",
    "\n",
    "<br>\n",
    "\n",
    "<b>Null: </b>whippets, terriers, and pitbulls all weigh the same amount on average <br>\n",
    "<b>Alternative: </b>whippets, terriers, and pitbulls <b>do not</b> all weigh the same amount on average (at least one pair of breeds has differing average weights)"
   ]
  },
  {
   "cell_type": "code",
   "execution_count": 17,
   "id": "88786f56",
   "metadata": {},
   "outputs": [
    {
     "name": "stdout",
     "output_type": "stream",
     "text": [
      "p-value: 0.00000000000000003276\n",
      "Reject the null hypothesis. Those 3 breeds do not all weigh the same amount on average.\n"
     ]
    }
   ],
   "source": [
    "#use ANOVA\n",
    "fstat, pval = f_oneway(wt_whippets, wt_terriers, wt_pitbulls)\n",
    "print(\"p-value: {:.20f}\".format(float(pval)))\n",
    "print(\"Reject the null hypothesis. Those 3 breeds do not all weigh the same amount on average.\")"
   ]
  },
  {
   "cell_type": "code",
   "execution_count": 26,
   "id": "3b50e26a",
   "metadata": {},
   "outputs": [
    {
     "data": {
      "image/png": "[encoded data removed]",
      "text/plain": [
       "<Figure size 432x288 with 1 Axes>"
      ]
     },
     "metadata": {
      "needs_background": "light"
     },
     "output_type": "display_data"
    }
   ],
   "source": [
    "sns.boxplot(data = dogs, x = dogs_wtp.breed, y = dogs_wtp.weight)\n",
    "plt.show()"
   ]
  },
  {
   "cell_type": "code",
   "execution_count": 21,
   "id": "d282276a",
   "metadata": {},
   "outputs": [
    {
     "name": "stdout",
     "output_type": "stream",
     "text": [
      " Multiple Comparison of Means - Tukey HSD, FWER=0.05 \n",
      "=====================================================\n",
      " group1  group2 meandiff p-adj   lower  upper  reject\n",
      "-----------------------------------------------------\n",
      "pitbull terrier   -13.24  0.001 -16.728 -9.752   True\n",
      "pitbull whippet    -3.34 0.0639  -6.828  0.148  False\n",
      "terrier whippet      9.9  0.001   6.412 13.388   True\n",
      "-----------------------------------------------------\n",
      "For any pair where reject = 'True', those 2 breeds weigh significantly different amounts (i.e. pitbull vs. terrier, and terrier vs. whippet).\n"
     ]
    }
   ],
   "source": [
    "#use Tukey's Test since pval is less than 0.05\n",
    "tukey_results = pairwise_tukeyhsd(dogs_wtp.weight, dogs_wtp.breed, 0.05)\n",
    "print(tukey_results)\n",
    "print(\"For any pair where reject = 'True', those 2 breeds weigh significantly different amounts (i.e. pitbull vs. terrier, and terrier vs. whippet).\")"
   ]
  },
  {
   "cell_type": "markdown",
   "id": "9281be0b",
   "metadata": {},
   "source": [
    "### Poodle and Shihtzu Colors"
   ]
  },
  {
   "cell_type": "code",
   "execution_count": 23,
   "id": "bbeb7e73",
   "metadata": {},
   "outputs": [
    {
     "name": "stdout",
     "output_type": "stream",
     "text": [
      "color    black  brown  gold  grey  white\n",
      "breed                                   \n",
      "poodle      17     13     8    52     10\n",
      "shihtzu     10     36     6    41      7\n"
     ]
    }
   ],
   "source": [
    "Xtab = pd.crosstab(dogs_ps.breed, dogs_ps.color)\n",
    "print(Xtab)"
   ]
  },
  {
   "cell_type": "markdown",
   "id": "639e0c13",
   "metadata": {},
   "source": [
    "Fetchmaker wants to know if poodles and shihtzus come in different colors.\n",
    "\n",
    "<br>\n",
    "\n",
    "<b>Null: </b>There is an association between breed (poodle vs. shihtzu) and color. <br>\n",
    "<b>Alternative: </b>There is not an association between breed (poodle vs. shihtzu) and color."
   ]
  },
  {
   "cell_type": "code",
   "execution_count": 25,
   "id": "aba104f9",
   "metadata": {},
   "outputs": [
    {
     "name": "stdout",
     "output_type": "stream",
     "text": [
      "0.005302408293244597\n",
      "Reject the null hypothesis. There is a significant difference in color combinations between poodles and shihtzus.\n"
     ]
    }
   ],
   "source": [
    "chi2, pval, dof, expected = chi2_contingency(Xtab)\n",
    "print(pval)\n",
    "print(\"Reject the null hypothesis. There is a significant difference in color combinations between poodles and shihtzus.\")"
   ]
  },
  {
   "cell_type": "code",
   "execution_count": null,
   "id": "6493fd06",
   "metadata": {},
   "outputs": [],
   "source": []
  }
 ],
 "metadata": {
  "kernelspec": {
   "display_name": "Python 3",
   "language": "python",
   "name": "python3"
  },
  "language_info": {
   "codemirror_mode": {
    "name": "ipython",
    "version": 3
   },
   "file_extension": ".py",
   "mimetype": "text/x-python",
   "name": "python",
   "nbconvert_exporter": "python",
   "pygments_lexer": "ipython3",
   "version": "3.8.8"
  }
 },
 "nbformat": 4,
 "nbformat_minor": 5
}
